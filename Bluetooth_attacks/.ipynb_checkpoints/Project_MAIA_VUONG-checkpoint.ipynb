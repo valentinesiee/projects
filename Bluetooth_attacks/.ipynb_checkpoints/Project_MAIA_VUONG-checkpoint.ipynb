{
 "cells": [
  {
   "cell_type": "markdown",
   "id": "c0ffdc1b",
   "metadata": {},
   "source": [
    "# <center> Machine learning : Project</center>"
   ]
  },
  {
   "cell_type": "markdown",
   "id": "7ae8c3b6",
   "metadata": {},
   "source": [
    "## MAIA Valentin, VUONG The Tai"
   ]
  },
  {
   "cell_type": "markdown",
   "id": "c8e7393e",
   "metadata": {},
   "source": [
    "# Table of contents"
   ]
  },
  {
   "cell_type": "markdown",
   "id": "bc369d9a",
   "metadata": {},
   "source": [
    "- ## 1- Introduction\n",
    "\n",
    "\n",
    "- ## 2 - Data Analysis \n",
    "\n",
    "\n",
    "     2-1 First contact with the dataset\n",
    "     2-2 Handling data misswriting\n",
    "     2-3 One-hot encoding\n",
    "     2-4 Type of attacks\n",
    "     2-5 Duplicate rows\n",
    "     2-6 Vizualising\n",
    "     2-7 Uninformative variables\n",
    "     2-8 Test dataset\n",
    "- ## 3 - Model Selection\n",
    "\n",
    "\n",
    "     3-1 Logistic Regression\n",
    "     3-2 Linear Discriminant Analysis\n",
    "     3-3 KNN\n",
    "     3-4 Decision tree\n",
    "     3-5 Analyze\n",
    "- ## 4 - Predict the Testset\n",
    "\n",
    "\n",
    "- ## 5 - Conclusion"
   ]
  },
  {
   "cell_type": "markdown",
   "id": "2762415f",
   "metadata": {},
   "source": [
    "## 1 - Introduction"
   ]
  },
  {
   "cell_type": "markdown",
   "id": "968998a3",
   "metadata": {},
   "source": [
    "In this project we are invited to do some prediction on datas provided. The data in question are criteria that describe an ISOT BrakTooth Attack. We will mention 11 different types of attack from the AU Rand Flooding Attack to the Invalid Setup Complete Attack. We will also mention when the attack is Normal which mean there is no Attack. There are four features that can enhance an attack. These features are the protocol used in the bluetooth packet, additional info on the packet, the length of the packet in bytes and finally the delta which is the time between the actual packet and the previous one. \n",
    "Our goal will be based on this dataset and by exploiting different model to detect either if there is an attack or not or either detect the type of this attack. We can directly see in both case that it correspond to a supervised learning problem (labeled data) and precisely a classification probem. We will chose the first one which is to detect if there is an attack or not. Since the response is binary we know it's a classification problem and not regression one. As a classification model we will explore 4 different models : Logistic Regression, KNN, Linear Discriminant Analysis that we saw in the lectures and DecisionTree that we implemanted thanks to some documentation. After doing some evaluation on the quality of each model we will come up with the best model for this problem."
   ]
  },
  {
   "cell_type": "markdown",
   "id": "934d9b03",
   "metadata": {},
   "source": [
    "## 2 - Data Analysis"
   ]
  },
  {
   "cell_type": "markdown",
   "id": "a848f29b",
   "metadata": {},
   "source": [
    "The first think to do is to be aware of the data we got so we can do relevant pre-processing."
   ]
  },
  {
   "cell_type": "markdown",
   "id": "e6525d4d",
   "metadata": {},
   "source": [
    "### 2-1 First contact with the dataset"
   ]
  },
  {
   "cell_type": "markdown",
   "id": "0fee4fa9",
   "metadata": {},
   "source": [
    "As we said in the introduction there are 4 features that help to predict the type of an attack :\n",
    "\n",
    "|Name  |Description|Values|\n",
    "|-----|-----------|--------------------|\n",
    "|Protocol | Protocol used | String |\n",
    "|Info| Additional info on packets | String |\n",
    "|Length| Length of the packet | $\\mathbb{N}$ |\n",
    "|Delta| Distance between actual and previous packet  | $\\mathbb{R}$|"
   ]
  },
  {
   "cell_type": "markdown",
   "id": "91f333cb",
   "metadata": {},
   "source": [
    "We will now take a look at a sample of our dataset :"
   ]
  },
  {
   "cell_type": "code",
   "execution_count": 59,
   "id": "1098965f",
   "metadata": {},
   "outputs": [
    {
     "data": {
      "text/html": [
       "<div>\n",
       "<style scoped>\n",
       "    .dataframe tbody tr th:only-of-type {\n",
       "        vertical-align: middle;\n",
       "    }\n",
       "\n",
       "    .dataframe tbody tr th {\n",
       "        vertical-align: top;\n",
       "    }\n",
       "\n",
       "    .dataframe thead th {\n",
       "        text-align: right;\n",
       "    }\n",
       "</style>\n",
       "<table border=\"1\" class=\"dataframe\">\n",
       "  <thead>\n",
       "    <tr style=\"text-align: right;\">\n",
       "      <th></th>\n",
       "      <th>Protocol</th>\n",
       "      <th>Info</th>\n",
       "      <th>Length</th>\n",
       "      <th>Delta</th>\n",
       "      <th>Type</th>\n",
       "    </tr>\n",
       "  </thead>\n",
       "  <tbody>\n",
       "    <tr>\n",
       "      <th>0</th>\n",
       "      <td>HCI_EVT</td>\n",
       "      <td>Rcvd Link Key Request</td>\n",
       "      <td>9.0</td>\n",
       "      <td>0.010473</td>\n",
       "      <td>au_rand_flooding</td>\n",
       "    </tr>\n",
       "    <tr>\n",
       "      <th>1</th>\n",
       "      <td>HCI_CMD</td>\n",
       "      <td>Sent Link Key Request Negative Reply</td>\n",
       "      <td>10.0</td>\n",
       "      <td>0.010473</td>\n",
       "      <td>au_rand_flooding</td>\n",
       "    </tr>\n",
       "    <tr>\n",
       "      <th>2</th>\n",
       "      <td>HCI_EVT</td>\n",
       "      <td>Rcvd Link Key Request</td>\n",
       "      <td>9.0</td>\n",
       "      <td>0.017913</td>\n",
       "      <td>au_rand_flooding</td>\n",
       "    </tr>\n",
       "    <tr>\n",
       "      <th>3</th>\n",
       "      <td>HCI_EVT</td>\n",
       "      <td>Rcvd Command Complete (Link Key Request Negati...</td>\n",
       "      <td>13.0</td>\n",
       "      <td>0.002642</td>\n",
       "      <td>au_rand_flooding</td>\n",
       "    </tr>\n",
       "    <tr>\n",
       "      <th>4</th>\n",
       "      <td>HCI_CMD</td>\n",
       "      <td>Sent Link Key Request Negative Reply</td>\n",
       "      <td>10.0</td>\n",
       "      <td>0.002882</td>\n",
       "      <td>au_rand_flooding</td>\n",
       "    </tr>\n",
       "  </tbody>\n",
       "</table>\n",
       "</div>"
      ],
      "text/plain": [
       "  Protocol                                               Info  Length  \\\n",
       "0  HCI_EVT                              Rcvd Link Key Request     9.0   \n",
       "1  HCI_CMD               Sent Link Key Request Negative Reply    10.0   \n",
       "2  HCI_EVT                              Rcvd Link Key Request     9.0   \n",
       "3  HCI_EVT  Rcvd Command Complete (Link Key Request Negati...    13.0   \n",
       "4  HCI_CMD               Sent Link Key Request Negative Reply    10.0   \n",
       "\n",
       "      Delta              Type  \n",
       "0  0.010473  au_rand_flooding  \n",
       "1  0.010473  au_rand_flooding  \n",
       "2  0.017913  au_rand_flooding  \n",
       "3  0.002642  au_rand_flooding  \n",
       "4  0.002882  au_rand_flooding  "
      ]
     },
     "execution_count": 59,
     "metadata": {},
     "output_type": "execute_result"
    }
   ],
   "source": [
    "import pandas as pd\n",
    "data=pd.read_csv('X_train.csv')\n",
    "data.head()"
   ]
  },
  {
   "cell_type": "markdown",
   "id": "bcc79e04",
   "metadata": {},
   "source": [
    "We can see that the dataset correspond well to our description above. "
   ]
  },
  {
   "cell_type": "markdown",
   "id": "d818c422",
   "metadata": {},
   "source": [
    "### 2-2 Handling data misswriting"
   ]
  },
  {
   "cell_type": "markdown",
   "id": "3f6a47a9",
   "metadata": {},
   "source": [
    "A first thing to do is looking at the unique values in each feature we can see that there are some problem with some values of Protocols. When the feature Info is between \" \", it count all the row as a feature and we don't want that. So we will have to delete the quotation marks. "
   ]
  },
  {
   "cell_type": "code",
   "execution_count": 60,
   "id": "01339504",
   "metadata": {
    "scrolled": false
   },
   "outputs": [
    {
     "data": {
      "text/plain": [
       "array(['HCI_EVT', 'HCI_CMD', 'HCI H4 Broadcom', 'LMP', 'Baseband',\n",
       "       'L2CAP',\n",
       "       'L2CAP,\"Rcvd Connection Request (SDP, SCID: 0x0041)\",17,0.007418,duplicated_encapsulated_payload',\n",
       "       'L2CAP,\"Sent Connection Response - Success (SCID: 0x0041, DCID: 0x0044)\",21,0.722232,duplicated_encapsulated_payload',\n",
       "       'L2CAP,\"Rcvd Connection Request (SDP, SCID: 0x0041)\",17,0.000539,duplicated_iocap',\n",
       "       'L2CAP,\"Rcvd Information Response (Extended Features Mask, Success)\",21,0.000612,duplicated_iocap',\n",
       "       'L2CAP,\"Rcvd Information Response (Fixed Channels Supported, Success)\",25,0.012861,duplicated_iocap',\n",
       "       'L2CAP,\"Sent Connection Response - Success (SCID: 0x0041, DCID: 0x0048)\",21,0.000767,duplicated_iocap',\n",
       "       'SDP',\n",
       "       'L2CAP,\"Rcvd Disconnection Request (SCID: 0x0041, DCID: 0x0048, PSM: 0x0001, Service: SDP)\",17,0.008762,duplicated_iocap',\n",
       "       'L2CAP,\"Sent Disconnection Response (SCID: 0x0041, DCID: 0x0048, PSM: 0x0001, Service: SDP)\",17,0.002508,duplicated_iocap',\n",
       "       'L2CAP,\"Rcvd Connection Request (SDP, SCID: 0x0042)\",17,0.001261,duplicated_iocap',\n",
       "       'L2CAP,\"Rcvd Information Response (Extended Features Mask, Success)\",21,0.000519,duplicated_iocap',\n",
       "       'L2CAP,\"Rcvd Information Response (Fixed Channels Supported, Success)\",25,0.007959,duplicated_iocap',\n",
       "       'L2CAP,\"Sent Connection Response - Success (SCID: 0x0042, DCID: 0x0049)\",21,0.00075,duplicated_iocap',\n",
       "       'L2CAP,\"Rcvd Disconnection Request (SCID: 0x0042, DCID: 0x0049, PSM: 0x0001, Service: SDP)\",17,0.013756,duplicated_iocap',\n",
       "       'L2CAP,\"Sent Disconnection Response (SCID: 0x0042, DCID: 0x0049, PSM: 0x0001, Service: SDP)\",17,0.000741,duplicated_iocap',\n",
       "       'L2CAP,\"Information Response (Extended Features Mask, Success)\",28,0.003613,duplicated_iocap',\n",
       "       'L2CAP,\"Information Response (Fixed Channels Supported, Success)\",32,0.005362,duplicated_iocap',\n",
       "       'L2CAP,\"Connection Response - Success (SCID: 0x0041, DCID: 0x0048)\",28,0.008107,duplicated_iocap',\n",
       "       'L2CAP,\"Disconnection Request (SCID: 0x0041, DCID: 0x0048, PSM: Unknown, Service: Unknown)\",24,0.004049,duplicated_iocap',\n",
       "       'L2CAP,\"Disconnection Response (SCID: 0x0041, DCID: 0x0048, PSM: Unknown, Service: Unknown)\",24,0.03248,duplicated_iocap',\n",
       "       'L2CAP,\"Connection Request (SDP, SCID: 0x0042)\",24,0.000154,duplicated_iocap',\n",
       "       'L2CAP,\"Information Response (Fixed Channels Supported, Success)\",32,0.004424,duplicated_iocap',\n",
       "       'L2CAP,\"Connection Response - Success (SCID: 0x0042, DCID: 0x0049)\",28,0.007932,duplicated_iocap',\n",
       "       'L2CAP,\"Disconnection Request (SCID: 0x0042, DCID: 0x0049, PSM: 0x0001, Service: SDP)\",24,0.008764,duplicated_iocap',\n",
       "       'L2CAP,\"Disconnection Response (SCID: 0x0042, DCID: 0x0049, PSM: 0x0001, Service: SDP)\",24,0.007891,duplicated_iocap',\n",
       "       'L2CAP,\"Rcvd Connection Request (SDP, SCID: 0x0041)\",17,0.000537,truncated_sco_link_request',\n",
       "       'L2CAP,\"Rcvd Information Response (Extended Features Mask, Success)\",21,0.000522,truncated_sco_link_request',\n",
       "       'L2CAP,\"Rcvd Information Response (Fixed Channels Supported, Success)\",25,0.012207,truncated_sco_link_request',\n",
       "       'L2CAP,\"Sent Connection Response - Success (SCID: 0x0041, DCID: 0x0046)\",21,0.000754,truncated_sco_link_request',\n",
       "       'L2CAP,\"Rcvd Disconnection Request (SCID: 0x0041, DCID: 0x0046, PSM: 0x0001, Service: SDP)\",17,0.011226,truncated_sco_link_request',\n",
       "       'L2CAP,\"Sent Disconnection Response (SCID: 0x0041, DCID: 0x0046, PSM: 0x0001, Service: SDP)\",17,0.000728,truncated_sco_link_request',\n",
       "       'L2CAP,\"Connection Request (SDP, SCID: 0x0041)\",24,0.000202,truncated_sco_link_request',\n",
       "       'L2CAP,\"Information Response (Extended Features Mask, Success)\",28,0.003682,truncated_sco_link_request',\n",
       "       'L2CAP,\"Information Response (Fixed Channels Supported, Success)\",32,0.0063,truncated_sco_link_request',\n",
       "       'L2CAP,\"Connection Response - Success (SCID: 0x0041, DCID: 0x0046)\",28,0.008039,truncated_sco_link_request',\n",
       "       'L2CAP,\"Disconnection Request (SCID: 0x0041, DCID: 0x0046, PSM: 0x0001, Service: SDP)\",24,0.005931,truncated_sco_link_request',\n",
       "       'L2CAP,\"Disconnection Response (SCID: 0x0041, DCID: 0x0046, PSM: 0x0001, Service: SDP)\",24,0.00679,truncated_sco_link_request',\n",
       "       'L2CAP,\"Rcvd Connection Request (SDP, SCID: 0x0041)\",17,0.000467,invalid_feature_page_execution',\n",
       "       'L2CAP,\"Rcvd Information Response (Extended Features Mask, Success)\",21,0.000524,invalid_feature_page_execution',\n",
       "       'L2CAP,\"Rcvd Information Response (Fixed Channels Supported, Success)\",25,0.000525,invalid_feature_page_execution',\n",
       "       'L2CAP,\"Sent Connection Response - Success (SCID: 0x0041, DCID: 0x0045)\",21,0.000789,invalid_feature_page_execution',\n",
       "       'L2CAP,\"Rcvd Disconnection Request (SCID: 0x0041, DCID: 0x0045, PSM: 0x0001, Service: SDP)\",17,0.013727,invalid_feature_page_execution',\n",
       "       'L2CAP,\"Sent Disconnection Response (SCID: 0x0041, DCID: 0x0045, PSM: 0x0001, Service: SDP)\",17,0.000687,invalid_feature_page_execution',\n",
       "       'L2CAP,\"Information Response (Extended Features Mask, Success)\",28,0.001346,invalid_feature_page_execution',\n",
       "       'L2CAP,\"Information Response (Fixed Channels Supported, Success)\",32,0.005707,invalid_feature_page_execution',\n",
       "       'L2CAP,\"Connection Response - Success (SCID: 0x0041, DCID: 0x0045)\",28,0.032259,invalid_feature_page_execution',\n",
       "       'L2CAP,\"Disconnection Request (SCID: 0x0041, DCID: 0x0045, PSM: Unknown, Service: Unknown)\",24,0.01115,invalid_feature_page_execution',\n",
       "       'L2CAP,\"Disconnection Response (SCID: 0x0041, DCID: 0x0045, PSM: Unknown, Service: Unknown)\",24,0.007985,invalid_feature_page_execution',\n",
       "       'LMP,\"LMP_auto_rate[Dissector bug, protocol esp32_btlmp: ../libs/wireshark/plugins/epan/h4bcm/packet-btbrlmp.c:3130: failed assertion \"\"len == 1\"\"]\",13,0.0,lmp_auto_rate_overflow',\n",
       "       'LMP,\"LMP_accepted[Dissector bug, protocol esp32_btlmp: ../libs/wireshark/plugins/epan/h4bcm/packet-btbrlmp.c:2691: failed assertion \"\"len == 2\"\"]\",13,0.0,truncated_lmp_accepted',\n",
       "       'L2CAP,\"Rcvd Connection Request (SDP, SCID: 0x0041)\",17,0.000489,invalid_timing_accuracy',\n",
       "       'L2CAP,\"Sent Connection Response - Success (SCID: 0x0041, DCID: 0x0047)\",21,0.560855,invalid_timing_accuracy',\n",
       "       'L2CAP,\"Rcvd Information Response (Extended Features Mask, Success)\",21,0.000876,normal',\n",
       "       'L2CAP,\"Sent Information Response (Extended Features Mask, Success)\",21,0.000743,normal',\n",
       "       'L2CAP,\"Rcvd Information Response (Fixed Channels Supported, Success)\",25,0.000815,normal',\n",
       "       'L2CAP,\"Sent Information Response (Fixed Channels Supported, Success)\",25,0.000765,normal',\n",
       "       'L2CAP,\"Rcvd Connection Request (BNEP, SCID: 0x0040)\",17,0.001033,normal',\n",
       "       'L2CAP,\"Sent Connection Response - Success (SCID: 0x0040, DCID: 0x0045)\",21,0.000969,normal',\n",
       "       'L2CAP,\"Sent Connection Request (SDP, SCID: 0x0046)\",17,0.000863,normal',\n",
       "       'L2CAP,\"Rcvd Connection Response - Success (SCID: 0x0046, DCID: 0x0041)\",21,0.002946,normal',\n",
       "       'BNEP,\"Rcvd Control - Setup Connection Request - dst: <PAN NAP>, src: <PAN PANU>\",16,0.001995,normal',\n",
       "       'BNEP',\n",
       "       'L2CAP,\"Sent Disconnection Request (SCID: 0x0045, DCID: 0x0040, PSM: 0x000f, Service: BNEP)\",17,0.001359,normal',\n",
       "       'L2CAP,\"Rcvd Disconnection Response (SCID: 0x0045, DCID: 0x0040, PSM: 0x000f, Service: BNEP)\",17,0.00344,normal',\n",
       "       'L2CAP,\"Rcvd Connection Request (SDP, SCID: 0x0042)\",17,0.000598,normal',\n",
       "       'L2CAP,\"Sent Disconnection Request (SCID: 0x0046, DCID: 0x0041, PSM: 0x0001, Service: SDP)\",17,0.001457,normal',\n",
       "       'L2CAP,\"Sent Connection Response - Success (SCID: 0x0042, DCID: 0x0047)\",21,0.000515,normal',\n",
       "       'L2CAP,\"Rcvd Disconnection Response (SCID: 0x0046, DCID: 0x0041, PSM: 0x0001, Service: SDP)\",17,0.002625,normal',\n",
       "       'L2CAP,\"Sent Connection Request (SDP, SCID: 0x0048)\",17,0.000603,normal',\n",
       "       'L2CAP,\"Rcvd Connection Response - Success (SCID: 0x0048, DCID: 0x0043)\",21,0.002494,normal',\n",
       "       'L2CAP,\"Rcvd Disconnection Request (SCID: 0x0042, DCID: 0x0047, PSM: 0x0001, Service: SDP)\",17,0.001342,normal',\n",
       "       'L2CAP,\"Sent Disconnection Response (SCID: 0x0042, DCID: 0x0047, PSM: 0x0001, Service: SDP)\",17,0.000596,normal',\n",
       "       'L2CAP,\"Rcvd Connection Request (SDP, SCID: 0x0044)\",17,0.002413,normal',\n",
       "       'L2CAP,\"Sent Connection Response - Success (SCID: 0x0044, DCID: 0x0049)\",21,0.001781,normal',\n",
       "       'L2CAP,\"Sent Disconnection Request (SCID: 0x0048, DCID: 0x0043, PSM: 0x0001, Service: SDP)\",17,0.000714,normal',\n",
       "       'L2CAP,\"Rcvd Disconnection Response (SCID: 0x0048, DCID: 0x0043, PSM: 0x0001, Service: SDP)\",17,0.006249,normal',\n",
       "       'L2CAP,\"Rcvd Disconnection Request (SCID: 0x0044, DCID: 0x0049, PSM: 0x0001, Service: SDP)\",17,0.005031,normal',\n",
       "       'L2CAP,\"Sent Disconnection Response (SCID: 0x0044, DCID: 0x0049, PSM: 0x0001, Service: SDP)\",17,0.000792,normal',\n",
       "       'L2CAP,\"Sent Information Response (Extended Features Mask, Success)\",21,0.000557,normal',\n",
       "       'L2CAP,\"Rcvd Information Response (Extended Features Mask, Success)\",21,0.00063,normal',\n",
       "       'L2CAP,\"Sent Information Response (Fixed Channels Supported, Success)\",25,0.000567,normal',\n",
       "       'L2CAP,\"Rcvd Information Response (Fixed Channels Supported, Success)\",25,0.000788,normal',\n",
       "       'L2CAP,\"Rcvd Connection Request (SDP, SCID: 0x0046)\",17,0.00265,normal',\n",
       "       'L2CAP,\"Sent Connection Response - Success (SCID: 0x0046, DCID: 0x004a)\",21,0.000679,normal',\n",
       "       'L2CAP,\"Rcvd Disconnection Request (SCID: 0x0046, DCID: 0x004a, PSM: 0x0001, Service: SDP)\",17,0.002482,normal',\n",
       "       'L2CAP,\"Sent Disconnection Response (SCID: 0x0046, DCID: 0x004a, PSM: 0x0001, Service: SDP)\",17,0.00056,normal',\n",
       "       'L2CAP,\"Rcvd Connection Request (SDP, SCID: 0x0047)\",17,0.035674,normal',\n",
       "       'L2CAP,\"Sent Connection Response - Success (SCID: 0x0047, DCID: 0x004b)\",21,0.000759,normal',\n",
       "       'L2CAP,\"Rcvd Disconnection Request (SCID: 0x0047, DCID: 0x004b, PSM: 0x0001, Service: SDP)\",17,0.006674,normal',\n",
       "       'L2CAP,\"Sent Disconnection Response (SCID: 0x0047, DCID: 0x004b, PSM: 0x0001, Service: SDP)\",17,0.000691,normal',\n",
       "       'L2CAP,\"Rcvd Connection Request (RFCOMM, SCID: 0x0048)\",17,0.002681,normal',\n",
       "       'L2CAP,\"Sent Connection Response - Success (SCID: 0x0048, DCID: 0x004c)\",21,0.000846,normal',\n",
       "       'RFCOMM', 'OBEX',\n",
       "       'OBEX,\"Rcvd Put continue \"\"IMG-20221213-WA0013.jpeg\"\" (JPEG JFIF image)\",177,0.002615,normal',\n",
       "       'L2CAP,\"Sent Disconnection Request (SCID: 0x004c, DCID: 0x0048, PSM: 0x0003, Service: RFCOMM)\",17,0.017754,normal',\n",
       "       'L2CAP,\"Rcvd Disconnection Request (SCID: 0x0048, DCID: 0x004c, PSM: 0x0003, Service: RFCOMM)\",17,0.00082,normal',\n",
       "       'L2CAP,\"Sent Disconnection Response (SCID: 0x0048, DCID: 0x004c, PSM: 0x0003, Service: RFCOMM)\",17,0.002656,normal',\n",
       "       'L2CAP,\"Rcvd Disconnection Response (SCID: 0x004c, DCID: 0x0048, PSM: 0x0003, Service: RFCOMM)\",17,0.015773,normal',\n",
       "       'L2CAP,\"Rcvd Connection Request (SDP, SCID: 0x0049)\",17,1.274268,normal',\n",
       "       'L2CAP,\"Sent Connection Response - Success (SCID: 0x0049, DCID: 0x004d)\",21,0.005211,normal',\n",
       "       'L2CAP,\"Rcvd Disconnection Request (SCID: 0x0049, DCID: 0x004d, PSM: 0x0001, Service: SDP)\",17,0.002441,normal',\n",
       "       'L2CAP,\"Sent Disconnection Response (SCID: 0x0049, DCID: 0x004d, PSM: 0x0001, Service: SDP)\",17,0.004308,normal',\n",
       "       'L2CAP,\"Rcvd Connection Request (SDP, SCID: 0x004a)\",17,0.010733,normal',\n",
       "       'L2CAP,\"Sent Connection Response - Success (SCID: 0x004a, DCID: 0x004e)\",21,0.004513,normal',\n",
       "       'L2CAP,\"Rcvd Disconnection Request (SCID: 0x004a, DCID: 0x004e, PSM: 0x0001, Service: SDP)\",17,0.006995,normal',\n",
       "       'L2CAP,\"Sent Disconnection Response (SCID: 0x004a, DCID: 0x004e, PSM: 0x0001, Service: SDP)\",17,0.004164,normal',\n",
       "       'L2CAP,\"Rcvd Connection Request (RFCOMM, SCID: 0x004b)\",17,0.002435,normal',\n",
       "       'L2CAP,\"Sent Connection Response - Success (SCID: 0x004b, DCID: 0x004f)\",21,0.004165,normal',\n",
       "       'OBEX,\"Rcvd Put continue \"\"IMG_20221213_163415.jpg\"\" (JPEG JFIF image)\",177,0.001252,normal'],\n",
       "      dtype=object)"
      ]
     },
     "execution_count": 60,
     "metadata": {},
     "output_type": "execute_result"
    }
   ],
   "source": [
    "data['Protocol'].unique()\n"
   ]
  },
  {
   "cell_type": "code",
   "execution_count": 61,
   "id": "c9b71747",
   "metadata": {},
   "outputs": [],
   "source": [
    "data['Protocol'] = data['Protocol'].str.split(',').str[0].str.replace(\"'\", '')\n",
    "data['Protocol'].unique()\n",
    "protocols = data['Protocol'].copy()"
   ]
  },
  {
   "cell_type": "markdown",
   "id": "0cf82321",
   "metadata": {},
   "source": [
    "We can see that we don't have this problem concerning the Infos."
   ]
  },
  {
   "cell_type": "code",
   "execution_count": 62,
   "id": "783fd48f",
   "metadata": {},
   "outputs": [
    {
     "data": {
      "text/plain": [
       "array(['Rcvd Link Key Request', 'Sent Link Key Request Negative Reply',\n",
       "       'Rcvd Command Complete (Link Key Request Negative Reply)',\n",
       "       'LM Sent', 'LMP_au_rand', 'FHS', 'LMP_not_accepted', 'LM Received',\n",
       "       'Rcvd Connect Request', 'Sent Accept Connection Request',\n",
       "       'Rcvd Command Status (Accept Connection Request)',\n",
       "       'Rcvd Connect Complete', 'Sent Read Clock offset',\n",
       "       'Sent Information Request (Extended Features Mask)',\n",
       "       'Rcvd Max Slots Change', nan,\n",
       "       'Rcvd Command Status (Read Clock offset)',\n",
       "       'Sent Read Remote Version Information',\n",
       "       'Sent Connection Response - Pending (SCID: 0x0041)',\n",
       "       'Rcvd Read Clock Offset Complete',\n",
       "       'Rcvd Command Status (Read Remote Version Information)',\n",
       "       'Sent Read Remote Supported Features',\n",
       "       'Rcvd Read Remote Version Information Complete',\n",
       "       'Rcvd Command Status (Read Remote Supported Features)',\n",
       "       'Sent Remote Name Request', 'Rcvd Read Remote Supported Features',\n",
       "       'Rcvd Command Status (Remote Name Request)',\n",
       "       'Sent Write Link Policy Settings',\n",
       "       'Rcvd Command Complete (Write Link Policy Settings)',\n",
       "       'Sent Read Remote Extended Features',\n",
       "       'Rcvd Command Status (Read Remote Extended Features)',\n",
       "       'Rcvd Read Remote Extended Features Complete',\n",
       "       'Sent Change Connection Packet Type',\n",
       "       'Rcvd Command Status (Change Connection Packet Type)',\n",
       "       'Rcvd Connection Packet Type Changed',\n",
       "       'Sent Configure Request (DCID: 0x0041)',\n",
       "       'Rcvd Remote Name Request Complete',\n",
       "       'Rcvd Number of Completed Packets', 'Rcvd Disconnect Complete',\n",
       "       'LMP_features_req', 'LMP_features_res', 'LMP_features_req_ext',\n",
       "       'LMP_features_res_ext', 'LMP_not_accepted_ext', 'LMP_version_res',\n",
       "       'LMP_setup_complete', 'LMP_max_slot', 'LMP_accepted',\n",
       "       'LMP_timing_accuracy_req', 'LMP_timing_accuracy_res',\n",
       "       'LMP_power_control_req', 'LMP_name_req', 'LMP_name_res',\n",
       "       'LMP_packet_type_table_req',\n",
       "       'Information Request (Extended Features Mask)',\n",
       "       'LMP_host_connection_req',\n",
       "       'Sent Information Request (Fixed Channels Supported)',\n",
       "       'Rcvd Configure Request (DCID: 0x0048)',\n",
       "       'Sent Configure Response - Success (SCID: 0x0041)',\n",
       "       'Rcvd Configure Response - Success (SCID: 0x0048)',\n",
       "       'Rcvd Service Search Attribute Request : Public Browse Group: Attribute Range (0x0001 - 0x0100) ',\n",
       "       'Sent Service Search Attribute Response (fragment)',\n",
       "       'Sent Service Search Attribute Response ',\n",
       "       'Sent Connection Response - Pending (SCID: 0x0042)',\n",
       "       'Sent Configure Request (DCID: 0x0042)',\n",
       "       'Rcvd Configure Request (DCID: 0x0049)',\n",
       "       'Sent Configure Response - Success (SCID: 0x0042)',\n",
       "       'Rcvd Configure Response - Success (SCID: 0x0049)',\n",
       "       'LMP_version_req', 'LMP_set_AFH', 'LMP_channel_classification_req',\n",
       "       'LMP_auto_rate', 'LMP_max_slot_req', 'LMP_accepted_ext',\n",
       "       'Connection Response - Pending (SCID: 0x0041)',\n",
       "       'Information Request (Fixed Channels Supported)',\n",
       "       'Configure Request (DCID: 0x0041)',\n",
       "       'Configure Request (DCID: 0x0048)',\n",
       "       'Configure Response - Success (SCID: 0x0048)',\n",
       "       'Configure Response - Success (SCID: 0x0041)',\n",
       "       'Connection oriented channel', 'LMP_detach',\n",
       "       'Connection Response - Pending (SCID: 0x0042)',\n",
       "       'Configure Request (DCID: 0x0042)',\n",
       "       'Configure Request (DCID: 0x0049)',\n",
       "       'Configure Response - Success (SCID: 0x0049)',\n",
       "       'Configure Response - Success (SCID: 0x0042)',\n",
       "       'Service Search Attribute Request : Public Browse Group: Attribute Range (0x0001 - 0x0100) ',\n",
       "       'Service Search Attribute Response (fragment)',\n",
       "       'Service Search Attribute Response ', 'LMP_channel_classification',\n",
       "       'Rcvd Configure Request (DCID: 0x0046)',\n",
       "       'Rcvd Configure Response - Success (SCID: 0x0046)',\n",
       "       'Configure Request (DCID: 0x0046)',\n",
       "       'Configure Response - Success (SCID: 0x0046)',\n",
       "       'Rcvd Configure Request (DCID: 0x0045)',\n",
       "       'Rcvd Configure Response - Success (SCID: 0x0045)',\n",
       "       'Configure Request (DCID: 0x0045)',\n",
       "       'Configure Response - Success (SCID: 0x0045)', 'LMP_slot_offset',\n",
       "       'LMP_switch_req', 'Rcvd Role Change', 'Unknown Opcode (84)',\n",
       "       'Unknown Opcode (91)', 'Sent LE Set Scan Parameters',\n",
       "       'Rcvd Command Complete (LE Set Scan Parameters)',\n",
       "       'Sent LE Set Scan Enable',\n",
       "       'Rcvd Command Complete (LE Set Scan Enable)',\n",
       "       'Sent Set Event Filter',\n",
       "       'Rcvd Command Complete (Set Event Filter)',\n",
       "       'Sent Write Current IAC LAP',\n",
       "       'Rcvd LE Meta (LE Advertising Report)',\n",
       "       'Rcvd Command Complete (Write Current IAC LAP)',\n",
       "       'Sent Write Scan Enable',\n",
       "       'Rcvd Command Complete (Write Scan Enable)', 'Sent Inquiry',\n",
       "       'Rcvd Command Status (Inquiry)', 'Rcvd Inquiry Complete',\n",
       "       'LMP_clkoffset_req', 'LMP_preferred_rate', 'LMP_clkoffset_res',\n",
       "       'Rcvd Link Supervision Timeout Changed', 'LMP_supervision_timeout',\n",
       "       'Rcvd Information Request (Extended Features Mask)',\n",
       "       'Rcvd Information Request (Fixed Channels Supported)',\n",
       "       'Rcvd IO Capability Response', 'Rcvd IO Capability Request',\n",
       "       'LMP_IO_Capability_req', 'Sent IO Capability Request Reply',\n",
       "       'Rcvd Command Complete (IO Capability Request Reply)',\n",
       "       'LMP_IO_Capability_res', 'LMP_encapsulated_header',\n",
       "       'LMP_encapsulated_payload', 'LMP_Simple_Pairing_Confirm',\n",
       "       'LMP_Simple_Pairing_Number', 'Rcvd User Confirmation Request',\n",
       "       'LMP_power_control_res', 'Sent User Confirmation Request Reply',\n",
       "       'Rcvd Command Complete (User Confirmation Request Reply)',\n",
       "       'LMP_DHkey_Check', 'Rcvd Simple Pairing Complete', 'LMP_sres',\n",
       "       'Rcvd Link Key Notification', 'LMP_encryption_key_size_mask_req',\n",
       "       'LMP_encryption_key_size_mask_res', 'LMP_encryption_mode_req',\n",
       "       'LMP_encryption_key_size_req', 'Rcvd Encryption Change',\n",
       "       'LMP_start_encryption_req',\n",
       "       'Sent Configure Request (DCID: 0x0040)',\n",
       "       'Sent Configure Response - Success (SCID: 0x0040)',\n",
       "       'Sent Control - Setup Connection Response - Operation Successful',\n",
       "       'Sent Sniff Subrating', 'Rcvd Command Complete (Sniff Subrating)',\n",
       "       'Sent Service Search Attribute Request : PnP Information: Attribute Range (0x0000 - 0xffff) ',\n",
       "       'Rcvd Service Search Attribute Response ',\n",
       "       'Rcvd Configure Request (DCID: 0x0047)',\n",
       "       'Rcvd Configure Response - Success (SCID: 0x0047)',\n",
       "       'Sent Configure Request (DCID: 0x0043)',\n",
       "       'Sent Configure Response - Success (SCID: 0x0043)',\n",
       "       'Rcvd Service Search Attribute Request : PnP Information: Attribute Range (0x0000 - 0xffff) ',\n",
       "       'Sent Service Search Attribute Request : L2CAP: Attribute Range (0x0000 - 0xffff) ',\n",
       "       'Rcvd Service Search Attribute Response (fragment)',\n",
       "       'Sent Configure Request (DCID: 0x0044)',\n",
       "       'Sent Configure Response - Success (SCID: 0x0044)',\n",
       "       'Rcvd Service Search Attribute Request : L2CAP: Attribute Range (0x0000 - 0xffff) ',\n",
       "       'Sent Disconnect', 'Rcvd Command Status (Disconnect)',\n",
       "       'Sent Configure Request (DCID: 0x0046)',\n",
       "       'Rcvd Configure Request (DCID: 0x004a)',\n",
       "       'Sent Configure Response - Success (SCID: 0x0046)',\n",
       "       'Rcvd Configure Response - Success (SCID: 0x004a)',\n",
       "       'Rcvd Service Search Attribute Request : OBEX Object Push: Attribute Range (0x0000 - 0xffff) ',\n",
       "       'Sent Configure Request (DCID: 0x0047)',\n",
       "       'Rcvd Configure Request (DCID: 0x004b)',\n",
       "       'Sent Configure Response - Success (SCID: 0x0047)',\n",
       "       'Rcvd Configure Response - Success (SCID: 0x004b)',\n",
       "       'Sent Link Key Request Reply',\n",
       "       'Rcvd Command Complete (Link Key Request Reply)',\n",
       "       'Sent Configure Request (DCID: 0x0048)',\n",
       "       'Rcvd Configure Request (DCID: 0x004c)',\n",
       "       'Sent Configure Response - Success (SCID: 0x0048)',\n",
       "       'Rcvd Configure Response - Success (SCID: 0x004c)',\n",
       "       'Rcvd SABM Channel=0 ', 'Sent UA Channel=0 ',\n",
       "       'Rcvd UIH Channel=0 -> 12 MPX_CTRL DLC Parameter Negotiation (PN) ',\n",
       "       'Sent UIH Channel=0 -> 12 MPX_CTRL DLC Parameter Negotiation (PN) ',\n",
       "       'Rcvd SABM Channel=12 (OBEX Object Push) ', 'Sent UA Channel=12 ',\n",
       "       'Rcvd UIH Channel=0 -> 12 MPX_CTRL Modem Status Command (MSC) ',\n",
       "       'Sent UIH Channel=0 -> 12 MPX_CTRL Modem Status Command (MSC) ',\n",
       "       'Rcvd Connect', 'Sent Success', 'Rcvd OBEX fragment',\n",
       "       'Sent UIH Channel=12 UID ', 'Rcvd Mode Change',\n",
       "       'LMP_sniff_subrating_req', 'Rcvd Sniff Subrating',\n",
       "       'LMP_sniff_subrating_res', 'Sent Exit Sniff Mode', 'Sent Continue',\n",
       "       'Rcvd Command Status (Exit Sniff Mode)', 'LMP_unsniff_req',\n",
       "       'Rcvd Put continue', 'Rcvd Put final', 'Rcvd Disconnect',\n",
       "       'Sent DISC Channel=12 ', 'Rcvd DISC Channel=12 ',\n",
       "       'Rcvd DM Channel=12 ', 'Sent DM Channel=12 ',\n",
       "       'Sent DISC Channel=0 ', 'Rcvd DISC Channel=0 ',\n",
       "       'Rcvd UA Channel=0 ', 'Sent Configure Request (DCID: 0x0049)',\n",
       "       'Rcvd Configure Request (DCID: 0x004d)',\n",
       "       'Sent Configure Response - Success (SCID: 0x0049)',\n",
       "       'Rcvd Configure Response - Success (SCID: 0x004d)',\n",
       "       'Sent Configure Request (DCID: 0x004a)',\n",
       "       'Rcvd Configure Request (DCID: 0x004e)',\n",
       "       'Sent Configure Response - Success (SCID: 0x004a)',\n",
       "       'Rcvd Configure Response - Success (SCID: 0x004e)',\n",
       "       'Sent Configure Request (DCID: 0x004b)',\n",
       "       'Rcvd Configure Request (DCID: 0x004f)',\n",
       "       'Sent Configure Response - Success (SCID: 0x004b)',\n",
       "       'Rcvd Configure Response - Success (SCID: 0x004f)'], dtype=object)"
      ]
     },
     "execution_count": 62,
     "metadata": {},
     "output_type": "execute_result"
    }
   ],
   "source": [
    "data['Info'].unique()"
   ]
  },
  {
   "cell_type": "markdown",
   "id": "4375d255",
   "metadata": {},
   "source": [
    "We now only have well clean features."
   ]
  },
  {
   "cell_type": "markdown",
   "id": "1c34da98",
   "metadata": {},
   "source": [
    "### 2-3 One-hot encoding"
   ]
  },
  {
   "cell_type": "markdown",
   "id": "6a9bb63b",
   "metadata": {},
   "source": [
    "Moreover we can see that the features Protocol and Info in their actual form are not very convenient since they are not numbers but Strings.\n",
    "What we need to do will be to transform them to numerical values using OneHotEncoding technique."
   ]
  },
  {
   "cell_type": "code",
   "execution_count": 63,
   "id": "fb4ffb1e",
   "metadata": {},
   "outputs": [
    {
     "name": "stdout",
     "output_type": "stream",
     "text": [
      "[array(['BNEP', 'Baseband', 'HCI H4 Broadcom', 'HCI_CMD', 'HCI_EVT',\n",
      "       'L2CAP', 'LMP', 'OBEX', 'RFCOMM', 'SDP'], dtype=object)]\n",
      "[array(['Configure Request (DCID: 0x0041)',\n",
      "       'Configure Request (DCID: 0x0042)',\n",
      "       'Configure Request (DCID: 0x0045)',\n",
      "       'Configure Request (DCID: 0x0046)',\n",
      "       'Configure Request (DCID: 0x0048)',\n",
      "       'Configure Request (DCID: 0x0049)',\n",
      "       'Configure Response - Success (SCID: 0x0041)',\n",
      "       'Configure Response - Success (SCID: 0x0042)',\n",
      "       'Configure Response - Success (SCID: 0x0045)',\n",
      "       'Configure Response - Success (SCID: 0x0046)',\n",
      "       'Configure Response - Success (SCID: 0x0048)',\n",
      "       'Configure Response - Success (SCID: 0x0049)',\n",
      "       'Connection Response - Pending (SCID: 0x0041)',\n",
      "       'Connection Response - Pending (SCID: 0x0042)',\n",
      "       'Connection oriented channel', 'FHS',\n",
      "       'Information Request (Extended Features Mask)',\n",
      "       'Information Request (Fixed Channels Supported)', 'LM Received',\n",
      "       'LM Sent', 'LMP_DHkey_Check', 'LMP_IO_Capability_req',\n",
      "       'LMP_IO_Capability_res', 'LMP_Simple_Pairing_Confirm',\n",
      "       'LMP_Simple_Pairing_Number', 'LMP_accepted', 'LMP_accepted_ext',\n",
      "       'LMP_au_rand', 'LMP_auto_rate', 'LMP_channel_classification',\n",
      "       'LMP_channel_classification_req', 'LMP_clkoffset_req',\n",
      "       'LMP_clkoffset_res', 'LMP_detach', 'LMP_encapsulated_header',\n",
      "       'LMP_encapsulated_payload', 'LMP_encryption_key_size_mask_req',\n",
      "       'LMP_encryption_key_size_mask_res', 'LMP_encryption_key_size_req',\n",
      "       'LMP_encryption_mode_req', 'LMP_features_req',\n",
      "       'LMP_features_req_ext', 'LMP_features_res', 'LMP_features_res_ext',\n",
      "       'LMP_host_connection_req', 'LMP_max_slot', 'LMP_max_slot_req',\n",
      "       'LMP_name_req', 'LMP_name_res', 'LMP_not_accepted',\n",
      "       'LMP_not_accepted_ext', 'LMP_packet_type_table_req',\n",
      "       'LMP_power_control_req', 'LMP_power_control_res',\n",
      "       'LMP_preferred_rate', 'LMP_set_AFH', 'LMP_setup_complete',\n",
      "       'LMP_slot_offset', 'LMP_sniff_subrating_req',\n",
      "       'LMP_sniff_subrating_res', 'LMP_sres', 'LMP_start_encryption_req',\n",
      "       'LMP_supervision_timeout', 'LMP_switch_req',\n",
      "       'LMP_timing_accuracy_req', 'LMP_timing_accuracy_res',\n",
      "       'LMP_unsniff_req', 'LMP_version_req', 'LMP_version_res',\n",
      "       'Rcvd Command Complete (IO Capability Request Reply)',\n",
      "       'Rcvd Command Complete (LE Set Scan Enable)',\n",
      "       'Rcvd Command Complete (LE Set Scan Parameters)',\n",
      "       'Rcvd Command Complete (Link Key Request Negative Reply)',\n",
      "       'Rcvd Command Complete (Link Key Request Reply)',\n",
      "       'Rcvd Command Complete (Set Event Filter)',\n",
      "       'Rcvd Command Complete (Sniff Subrating)',\n",
      "       'Rcvd Command Complete (User Confirmation Request Reply)',\n",
      "       'Rcvd Command Complete (Write Current IAC LAP)',\n",
      "       'Rcvd Command Complete (Write Link Policy Settings)',\n",
      "       'Rcvd Command Complete (Write Scan Enable)',\n",
      "       'Rcvd Command Status (Accept Connection Request)',\n",
      "       'Rcvd Command Status (Change Connection Packet Type)',\n",
      "       'Rcvd Command Status (Disconnect)',\n",
      "       'Rcvd Command Status (Exit Sniff Mode)',\n",
      "       'Rcvd Command Status (Inquiry)',\n",
      "       'Rcvd Command Status (Read Clock offset)',\n",
      "       'Rcvd Command Status (Read Remote Extended Features)',\n",
      "       'Rcvd Command Status (Read Remote Supported Features)',\n",
      "       'Rcvd Command Status (Read Remote Version Information)',\n",
      "       'Rcvd Command Status (Remote Name Request)',\n",
      "       'Rcvd Configure Request (DCID: 0x0045)',\n",
      "       'Rcvd Configure Request (DCID: 0x0046)',\n",
      "       'Rcvd Configure Request (DCID: 0x0047)',\n",
      "       'Rcvd Configure Request (DCID: 0x0048)',\n",
      "       'Rcvd Configure Request (DCID: 0x0049)',\n",
      "       'Rcvd Configure Request (DCID: 0x004a)',\n",
      "       'Rcvd Configure Request (DCID: 0x004b)',\n",
      "       'Rcvd Configure Request (DCID: 0x004c)',\n",
      "       'Rcvd Configure Request (DCID: 0x004d)',\n",
      "       'Rcvd Configure Request (DCID: 0x004e)',\n",
      "       'Rcvd Configure Request (DCID: 0x004f)',\n",
      "       'Rcvd Configure Response - Success (SCID: 0x0045)',\n",
      "       'Rcvd Configure Response - Success (SCID: 0x0046)',\n",
      "       'Rcvd Configure Response - Success (SCID: 0x0047)',\n",
      "       'Rcvd Configure Response - Success (SCID: 0x0048)',\n",
      "       'Rcvd Configure Response - Success (SCID: 0x0049)',\n",
      "       'Rcvd Configure Response - Success (SCID: 0x004a)',\n",
      "       'Rcvd Configure Response - Success (SCID: 0x004b)',\n",
      "       'Rcvd Configure Response - Success (SCID: 0x004c)',\n",
      "       'Rcvd Configure Response - Success (SCID: 0x004d)',\n",
      "       'Rcvd Configure Response - Success (SCID: 0x004e)',\n",
      "       'Rcvd Configure Response - Success (SCID: 0x004f)', 'Rcvd Connect',\n",
      "       'Rcvd Connect Complete', 'Rcvd Connect Request',\n",
      "       'Rcvd Connection Packet Type Changed', 'Rcvd DISC Channel=0 ',\n",
      "       'Rcvd DISC Channel=12 ', 'Rcvd DM Channel=12 ', 'Rcvd Disconnect',\n",
      "       'Rcvd Disconnect Complete', 'Rcvd Encryption Change',\n",
      "       'Rcvd IO Capability Request', 'Rcvd IO Capability Response',\n",
      "       'Rcvd Information Request (Extended Features Mask)',\n",
      "       'Rcvd Information Request (Fixed Channels Supported)',\n",
      "       'Rcvd Inquiry Complete', 'Rcvd LE Meta (LE Advertising Report)',\n",
      "       'Rcvd Link Key Notification', 'Rcvd Link Key Request',\n",
      "       'Rcvd Link Supervision Timeout Changed', 'Rcvd Max Slots Change',\n",
      "       'Rcvd Mode Change', 'Rcvd Number of Completed Packets',\n",
      "       'Rcvd OBEX fragment', 'Rcvd Put continue', 'Rcvd Put final',\n",
      "       'Rcvd Read Clock Offset Complete',\n",
      "       'Rcvd Read Remote Extended Features Complete',\n",
      "       'Rcvd Read Remote Supported Features',\n",
      "       'Rcvd Read Remote Version Information Complete',\n",
      "       'Rcvd Remote Name Request Complete', 'Rcvd Role Change',\n",
      "       'Rcvd SABM Channel=0 ', 'Rcvd SABM Channel=12 (OBEX Object Push) ',\n",
      "       'Rcvd Service Search Attribute Request : L2CAP: Attribute Range (0x0000 - 0xffff) ',\n",
      "       'Rcvd Service Search Attribute Request : OBEX Object Push: Attribute Range (0x0000 - 0xffff) ',\n",
      "       'Rcvd Service Search Attribute Request : PnP Information: Attribute Range (0x0000 - 0xffff) ',\n",
      "       'Rcvd Service Search Attribute Request : Public Browse Group: Attribute Range (0x0001 - 0x0100) ',\n",
      "       'Rcvd Service Search Attribute Response ',\n",
      "       'Rcvd Service Search Attribute Response (fragment)',\n",
      "       'Rcvd Simple Pairing Complete', 'Rcvd Sniff Subrating',\n",
      "       'Rcvd UA Channel=0 ',\n",
      "       'Rcvd UIH Channel=0 -> 12 MPX_CTRL DLC Parameter Negotiation (PN) ',\n",
      "       'Rcvd UIH Channel=0 -> 12 MPX_CTRL Modem Status Command (MSC) ',\n",
      "       'Rcvd User Confirmation Request', 'Sent Accept Connection Request',\n",
      "       'Sent Change Connection Packet Type',\n",
      "       'Sent Configure Request (DCID: 0x0040)',\n",
      "       'Sent Configure Request (DCID: 0x0041)',\n",
      "       'Sent Configure Request (DCID: 0x0042)',\n",
      "       'Sent Configure Request (DCID: 0x0043)',\n",
      "       'Sent Configure Request (DCID: 0x0044)',\n",
      "       'Sent Configure Request (DCID: 0x0046)',\n",
      "       'Sent Configure Request (DCID: 0x0047)',\n",
      "       'Sent Configure Request (DCID: 0x0048)',\n",
      "       'Sent Configure Request (DCID: 0x0049)',\n",
      "       'Sent Configure Request (DCID: 0x004a)',\n",
      "       'Sent Configure Request (DCID: 0x004b)',\n",
      "       'Sent Configure Response - Success (SCID: 0x0040)',\n",
      "       'Sent Configure Response - Success (SCID: 0x0041)',\n",
      "       'Sent Configure Response - Success (SCID: 0x0042)',\n",
      "       'Sent Configure Response - Success (SCID: 0x0043)',\n",
      "       'Sent Configure Response - Success (SCID: 0x0044)',\n",
      "       'Sent Configure Response - Success (SCID: 0x0046)',\n",
      "       'Sent Configure Response - Success (SCID: 0x0047)',\n",
      "       'Sent Configure Response - Success (SCID: 0x0048)',\n",
      "       'Sent Configure Response - Success (SCID: 0x0049)',\n",
      "       'Sent Configure Response - Success (SCID: 0x004a)',\n",
      "       'Sent Configure Response - Success (SCID: 0x004b)',\n",
      "       'Sent Connection Response - Pending (SCID: 0x0041)',\n",
      "       'Sent Connection Response - Pending (SCID: 0x0042)',\n",
      "       'Sent Continue',\n",
      "       'Sent Control - Setup Connection Response - Operation Successful',\n",
      "       'Sent DISC Channel=0 ', 'Sent DISC Channel=12 ',\n",
      "       'Sent DM Channel=12 ', 'Sent Disconnect', 'Sent Exit Sniff Mode',\n",
      "       'Sent IO Capability Request Reply',\n",
      "       'Sent Information Request (Extended Features Mask)',\n",
      "       'Sent Information Request (Fixed Channels Supported)',\n",
      "       'Sent Inquiry', 'Sent LE Set Scan Enable',\n",
      "       'Sent LE Set Scan Parameters',\n",
      "       'Sent Link Key Request Negative Reply',\n",
      "       'Sent Link Key Request Reply', 'Sent Read Clock offset',\n",
      "       'Sent Read Remote Extended Features',\n",
      "       'Sent Read Remote Supported Features',\n",
      "       'Sent Read Remote Version Information', 'Sent Remote Name Request',\n",
      "       'Sent Service Search Attribute Request : L2CAP: Attribute Range (0x0000 - 0xffff) ',\n",
      "       'Sent Service Search Attribute Request : PnP Information: Attribute Range (0x0000 - 0xffff) ',\n",
      "       'Sent Service Search Attribute Response ',\n",
      "       'Sent Service Search Attribute Response (fragment)',\n",
      "       'Sent Set Event Filter', 'Sent Sniff Subrating', 'Sent Success',\n",
      "       'Sent UA Channel=0 ', 'Sent UA Channel=12 ',\n",
      "       'Sent UIH Channel=0 -> 12 MPX_CTRL DLC Parameter Negotiation (PN) ',\n",
      "       'Sent UIH Channel=0 -> 12 MPX_CTRL Modem Status Command (MSC) ',\n",
      "       'Sent UIH Channel=12 UID ', 'Sent User Confirmation Request Reply',\n",
      "       'Sent Write Current IAC LAP', 'Sent Write Link Policy Settings',\n",
      "       'Sent Write Scan Enable',\n",
      "       'Service Search Attribute Request : Public Browse Group: Attribute Range (0x0001 - 0x0100) ',\n",
      "       'Service Search Attribute Response ',\n",
      "       'Service Search Attribute Response (fragment)',\n",
      "       'Unknown Opcode (84)', 'Unknown Opcode (91)', nan], dtype=object)]\n"
     ]
    }
   ],
   "source": [
    "#Got help from https://datagy.io/sklearn-one-hot-encode/ to use OneHotEncoding\n",
    "from sklearn.preprocessing import OneHotEncoder\n",
    "import numpy as np\n",
    "ohe_protocol = OneHotEncoder()\n",
    "protocol_array = data['Protocol'].values.reshape(-1, 1)\n",
    "protocol_transformed = ohe_protocol.fit_transform(protocol_array)\n",
    "print(ohe_protocol.categories_)\n",
    "\n",
    "ohe_info = OneHotEncoder()\n",
    "info_array = data['Info'].values.reshape(-1, 1)\n",
    "info_transformed = ohe_info.fit_transform(info_array)\n",
    "print(ohe_info.categories_)\n"
   ]
  },
  {
   "cell_type": "markdown",
   "id": "8f246286",
   "metadata": {},
   "source": [
    "We can see that we have the correct categories for each of both features. With OneHotEncoding we will now add new colums for each of these categories."
   ]
  },
  {
   "cell_type": "code",
   "execution_count": 64,
   "id": "af7cd9ce",
   "metadata": {
    "scrolled": false
   },
   "outputs": [
    {
     "name": "stdout",
     "output_type": "stream",
     "text": [
      "<bound method NDFrame.head of       Length     Delta              Type  Protocol_BNEP  Protocol_Baseband  \\\n",
      "0        9.0  0.010473  au_rand_flooding            0.0                0.0   \n",
      "1       10.0  0.010473  au_rand_flooding            0.0                0.0   \n",
      "2        9.0  0.017913  au_rand_flooding            0.0                0.0   \n",
      "3       13.0  0.002642  au_rand_flooding            0.0                0.0   \n",
      "4       10.0  0.002882  au_rand_flooding            0.0                0.0   \n",
      "...      ...       ...               ...            ...                ...   \n",
      "6397    14.0  0.006531            normal            0.0                0.0   \n",
      "6398     8.0  0.004969            normal            0.0                0.0   \n",
      "6399    21.0  0.014489            normal            0.0                0.0   \n",
      "6400    64.0  0.003510            normal            0.0                0.0   \n",
      "6401    64.0  0.001288            normal            0.0                0.0   \n",
      "\n",
      "      Protocol_HCI H4 Broadcom  Protocol_HCI_CMD  Protocol_HCI_EVT  \\\n",
      "0                          0.0               0.0               1.0   \n",
      "1                          0.0               1.0               0.0   \n",
      "2                          0.0               0.0               1.0   \n",
      "3                          0.0               0.0               1.0   \n",
      "4                          0.0               1.0               0.0   \n",
      "...                        ...               ...               ...   \n",
      "6397                       0.0               0.0               0.0   \n",
      "6398                       0.0               0.0               1.0   \n",
      "6399                       0.0               0.0               0.0   \n",
      "6400                       0.0               0.0               0.0   \n",
      "6401                       0.0               0.0               0.0   \n",
      "\n",
      "      Protocol_L2CAP  Protocol_LMP  ...  \\\n",
      "0                0.0           0.0  ...   \n",
      "1                0.0           0.0  ...   \n",
      "2                0.0           0.0  ...   \n",
      "3                0.0           0.0  ...   \n",
      "4                0.0           0.0  ...   \n",
      "...              ...           ...  ...   \n",
      "6397             0.0           0.0  ...   \n",
      "6398             0.0           0.0  ...   \n",
      "6399             0.0           0.0  ...   \n",
      "6400             0.0           1.0  ...   \n",
      "6401             0.0           1.0  ...   \n",
      "\n",
      "      Info_Sent User Confirmation Request Reply  \\\n",
      "0                                           0.0   \n",
      "1                                           0.0   \n",
      "2                                           0.0   \n",
      "3                                           0.0   \n",
      "4                                           0.0   \n",
      "...                                         ...   \n",
      "6397                                        0.0   \n",
      "6398                                        0.0   \n",
      "6399                                        0.0   \n",
      "6400                                        0.0   \n",
      "6401                                        0.0   \n",
      "\n",
      "      Info_Sent Write Current IAC LAP  Info_Sent Write Link Policy Settings  \\\n",
      "0                                 0.0                                   0.0   \n",
      "1                                 0.0                                   0.0   \n",
      "2                                 0.0                                   0.0   \n",
      "3                                 0.0                                   0.0   \n",
      "4                                 0.0                                   0.0   \n",
      "...                               ...                                   ...   \n",
      "6397                              0.0                                   0.0   \n",
      "6398                              0.0                                   0.0   \n",
      "6399                              0.0                                   0.0   \n",
      "6400                              0.0                                   0.0   \n",
      "6401                              0.0                                   0.0   \n",
      "\n",
      "      Info_Sent Write Scan Enable  \\\n",
      "0                             0.0   \n",
      "1                             0.0   \n",
      "2                             0.0   \n",
      "3                             0.0   \n",
      "4                             0.0   \n",
      "...                           ...   \n",
      "6397                          0.0   \n",
      "6398                          0.0   \n",
      "6399                          0.0   \n",
      "6400                          0.0   \n",
      "6401                          0.0   \n",
      "\n",
      "      Info_Service Search Attribute Request : Public Browse Group: Attribute Range (0x0001 - 0x0100)   \\\n",
      "0                                                   0.0                                                 \n",
      "1                                                   0.0                                                 \n",
      "2                                                   0.0                                                 \n",
      "3                                                   0.0                                                 \n",
      "4                                                   0.0                                                 \n",
      "...                                                 ...                                                 \n",
      "6397                                                0.0                                                 \n",
      "6398                                                0.0                                                 \n",
      "6399                                                0.0                                                 \n",
      "6400                                                0.0                                                 \n",
      "6401                                                0.0                                                 \n",
      "\n",
      "      Info_Service Search Attribute Response   \\\n",
      "0                                         0.0   \n",
      "1                                         0.0   \n",
      "2                                         0.0   \n",
      "3                                         0.0   \n",
      "4                                         0.0   \n",
      "...                                       ...   \n",
      "6397                                      0.0   \n",
      "6398                                      0.0   \n",
      "6399                                      0.0   \n",
      "6400                                      0.0   \n",
      "6401                                      0.0   \n",
      "\n",
      "      Info_Service Search Attribute Response (fragment)  \\\n",
      "0                                                   0.0   \n",
      "1                                                   0.0   \n",
      "2                                                   0.0   \n",
      "3                                                   0.0   \n",
      "4                                                   0.0   \n",
      "...                                                 ...   \n",
      "6397                                                0.0   \n",
      "6398                                                0.0   \n",
      "6399                                                0.0   \n",
      "6400                                                0.0   \n",
      "6401                                                0.0   \n",
      "\n",
      "      Info_Unknown Opcode (84)  Info_Unknown Opcode (91)  Info_nan  \n",
      "0                          0.0                       0.0       0.0  \n",
      "1                          0.0                       0.0       0.0  \n",
      "2                          0.0                       0.0       0.0  \n",
      "3                          0.0                       0.0       0.0  \n",
      "4                          0.0                       0.0       0.0  \n",
      "...                        ...                       ...       ...  \n",
      "6397                       0.0                       0.0       0.0  \n",
      "6398                       0.0                       0.0       0.0  \n",
      "6399                       0.0                       0.0       0.0  \n",
      "6400                       0.0                       0.0       0.0  \n",
      "6401                       0.0                       0.0       0.0  \n",
      "\n",
      "[6402 rows x 238 columns]>\n"
     ]
    }
   ],
   "source": [
    "protocol_columns = ohe_protocol.get_feature_names_out(['Protocol'])\n",
    "info_columns = ohe_info.get_feature_names_out(['Info'])\n",
    "\n",
    "protocol_df = pd.DataFrame(protocol_transformed.toarray(), columns=protocol_columns)\n",
    "info_df = pd.DataFrame(info_transformed.toarray(), columns=info_columns)\n",
    "\n",
    "selected_data = data.iloc[:, 2:] #We don't select the first two columns since they are now split\n",
    "#in as many unique categories they got\n",
    "data = pd.concat([selected_data, protocol_df, info_df], axis=1)\n",
    "print(data.head)"
   ]
  },
  {
   "cell_type": "markdown",
   "id": "5a41f960",
   "metadata": {},
   "source": [
    "### 2-4 Type of attacks"
   ]
  },
  {
   "cell_type": "code",
   "execution_count": 65,
   "id": "51762f9b",
   "metadata": {},
   "outputs": [
    {
     "data": {
      "text/plain": [
       "array(['au_rand_flooding', 'duplicated_encapsulated_payload', nan,\n",
       "       'duplicated_iocap', 'truncated_sco_link_request',\n",
       "       'feature_response_flooding', 'invalid_feature_page_execution',\n",
       "       'lmp_auto_rate_overflow', 'lmp_overflow_dm1',\n",
       "       'truncated_lmp_accepted', 'invalid_setup_complete',\n",
       "       'invalid_timing_accuracy', 'normal'], dtype=object)"
      ]
     },
     "execution_count": 65,
     "metadata": {},
     "output_type": "execute_result"
    }
   ],
   "source": [
    "data['Type'].unique()"
   ]
  },
  {
   "cell_type": "code",
   "execution_count": 66,
   "id": "14e8a3b4",
   "metadata": {},
   "outputs": [
    {
     "data": {
      "text/plain": [
       "(6402, 238)"
      ]
     },
     "execution_count": 66,
     "metadata": {},
     "output_type": "execute_result"
    }
   ],
   "source": [
    "data.shape"
   ]
  },
  {
   "cell_type": "markdown",
   "id": "0407ab4f",
   "metadata": {},
   "source": [
    "As mention in the Introduction there are 11 different attacks if with don't consider the \"normal\" attach which is when there is no attack. However we can see here 'nan' which mean for some data there is no type of attack indicated. We will take the decision to delete these rows since we don't have enough knowledge in this subject to be sure of the type of Attack in these cases"
   ]
  },
  {
   "cell_type": "code",
   "execution_count": 67,
   "id": "969ccf08",
   "metadata": {},
   "outputs": [
    {
     "data": {
      "text/plain": [
       "array(['au_rand_flooding', 'duplicated_encapsulated_payload',\n",
       "       'duplicated_iocap', 'truncated_sco_link_request',\n",
       "       'feature_response_flooding', 'invalid_feature_page_execution',\n",
       "       'lmp_auto_rate_overflow', 'lmp_overflow_dm1',\n",
       "       'truncated_lmp_accepted', 'invalid_setup_complete',\n",
       "       'invalid_timing_accuracy', 'normal'], dtype=object)"
      ]
     },
     "execution_count": 67,
     "metadata": {},
     "output_type": "execute_result"
    }
   ],
   "source": [
    "data = data.dropna(subset=['Type'])\n",
    "data['Type'].unique()"
   ]
  },
  {
   "cell_type": "code",
   "execution_count": 68,
   "id": "a7b04c03",
   "metadata": {},
   "outputs": [
    {
     "data": {
      "text/plain": [
       "(6296, 238)"
      ]
     },
     "execution_count": 68,
     "metadata": {},
     "output_type": "execute_result"
    }
   ],
   "source": [
    "data.shape"
   ]
  },
  {
   "cell_type": "markdown",
   "id": "38a31aba",
   "metadata": {},
   "source": [
    "We verify that these rows have been deleted, indeed 491 rows had missing statements and have been deleted."
   ]
  },
  {
   "cell_type": "markdown",
   "id": "45dd6b3e",
   "metadata": {},
   "source": [
    "Now we have the correct Type of Attacks however there is one more additional change that we need to do. Our goal is to predict if there is an attack or not. Our prediction will then be binary either there is an attack either there is not. In our dataset we can then replace all the values that correspond to the type 'normal' by a 0 meaning there is no attack and all the other values by 1 meaning there is an attack."
   ]
  },
  {
   "cell_type": "code",
   "execution_count": 69,
   "id": "8b0f73cc",
   "metadata": {},
   "outputs": [],
   "source": [
    "data['Type'] = data['Type'].replace({'normal': 0, 'au_rand_flooding': 1, 'duplicated_encapsulated_payload': 1,\n",
    "                                     'duplicated_iocap': 1, 'truncated_sco_link_request': 1,\n",
    "                                     'feature_response_flooding': 1, 'invalid_feature_page_execution': 1,\n",
    "                                     'lmp_auto_rate_overflow': 1, 'lmp_overflow_dm1': 1,\n",
    "                                     'truncated_lmp_accepted': 1, 'invalid_setup_complete': 1,\n",
    "                                     'invalid_timing_accuracy': 1})"
   ]
  },
  {
   "cell_type": "code",
   "execution_count": 70,
   "id": "8dc16ac1",
   "metadata": {},
   "outputs": [
    {
     "data": {
      "text/plain": [
       "array([1, 0])"
      ]
     },
     "execution_count": 70,
     "metadata": {},
     "output_type": "execute_result"
    }
   ],
   "source": [
    "data['Type'].unique()"
   ]
  },
  {
   "cell_type": "markdown",
   "id": "f970294c",
   "metadata": {},
   "source": [
    "We finally make sure any rows that contains empty values."
   ]
  },
  {
   "cell_type": "code",
   "execution_count": 72,
   "id": "5b96349f",
   "metadata": {},
   "outputs": [
    {
     "name": "stdout",
     "output_type": "stream",
     "text": [
      "0\n"
     ]
    }
   ],
   "source": [
    "print(data['Protocol_OBEX'].isnull().sum())"
   ]
  },
  {
   "cell_type": "markdown",
   "id": "62c5a1b5",
   "metadata": {},
   "source": [
    "### 2-5 Duplicate rows"
   ]
  },
  {
   "cell_type": "markdown",
   "id": "f3293d76",
   "metadata": {},
   "source": [
    "What we can do now is making sure to delete duplicate rows. Deleting these rows will help us to avoid misleading result. Having duplicate rows can led to give more importance to certain rows and inflate their result which mean having biased estimation."
   ]
  },
  {
   "cell_type": "code",
   "execution_count": 73,
   "id": "9068920b",
   "metadata": {},
   "outputs": [
    {
     "name": "stdout",
     "output_type": "stream",
     "text": [
      "(6296, 238)\n"
     ]
    }
   ],
   "source": [
    "print(data.shape)"
   ]
  },
  {
   "cell_type": "code",
   "execution_count": 74,
   "id": "34c18b65",
   "metadata": {},
   "outputs": [
    {
     "name": "stdout",
     "output_type": "stream",
     "text": [
      "(6244, 238)\n"
     ]
    }
   ],
   "source": [
    "data = data.drop_duplicates()\n",
    "print(data.shape)"
   ]
  },
  {
   "cell_type": "markdown",
   "id": "3417d075",
   "metadata": {},
   "source": [
    "We can see that 52 rows have been deleted"
   ]
  },
  {
   "cell_type": "markdown",
   "id": "556bb9d1",
   "metadata": {},
   "source": [
    "### 2-6 Vizualising"
   ]
  },
  {
   "cell_type": "markdown",
   "id": "3d7eddb9",
   "metadata": {},
   "source": [
    "Now concerning visualising our data we will only be able to do it with the features Delta and Length since they are the only numerical features that we got."
   ]
  },
  {
   "cell_type": "code",
   "execution_count": 75,
   "id": "43d2eda0",
   "metadata": {},
   "outputs": [],
   "source": [
    "import matplotlib.pyplot as plt\n",
    "def plotXY(X, Y):\n",
    "    \"\"\"\n",
    "        Scatter points with a color for each class.\n",
    "        Input:\n",
    "            X and Y may be:\n",
    "            - two numpy arrays with two columns; each array is the data matrix for a class (works only for\n",
    "            two classes).\n",
    "            - a (n,2)-numpy array with two columns (the data matrix) and the (n,)-vector of labels (works for many classes).\n",
    "    \"\"\"    \n",
    "    if Y.ndim > 1:\n",
    "        X1 = X\n",
    "        X2 = Y\n",
    "        print(X)\n",
    "        print(Y)\n",
    "        XX = np.concatenate((X, Y), axis=0)\n",
    "        YY = np.concatenate((np.ones(X.shape[0]), -np.ones(Y.shape[0])))\n",
    "    else:\n",
    "        XX = X\n",
    "        YY = Y\n",
    "    for icl, cl in enumerate(np.unique(YY)):\n",
    "        plt.scatter(XX[YY==cl, 0], XX[YY==cl, 1], label='Class {0:d}'.format(icl+1))"
   ]
  },
  {
   "cell_type": "code",
   "execution_count": 76,
   "id": "f01ec8c0",
   "metadata": {},
   "outputs": [],
   "source": [
    "X = data.iloc[:,0:2]\n",
    "Y = data.iloc[:,2:3]\n",
    "Y = Y.values.ravel()\n",
    "X = X.values"
   ]
  },
  {
   "cell_type": "code",
   "execution_count": 77,
   "id": "402616bb",
   "metadata": {
    "scrolled": false
   },
   "outputs": [
    {
     "data": {
      "image/png": "[encoded data removed]",
      "text/plain": [
       "<Figure size 640x480 with 1 Axes>"
      ]
     },
     "metadata": {},
     "output_type": "display_data"
    }
   ],
   "source": [
    "plotXY(X,Y)"
   ]
  },
  {
   "cell_type": "markdown",
   "id": "df767df9",
   "metadata": {},
   "source": [
    "As we can see we cannot make a real distinction or prediction on the attack with being only based on the Length or the Delta features. Even if we decide to standardize both features."
   ]
  },
  {
   "cell_type": "code",
   "execution_count": 78,
   "id": "5ec6a6b4",
   "metadata": {},
   "outputs": [
    {
     "data": {
      "image/png": "[encoded data removed]",
      "text/plain": [
       "<Figure size 640x480 with 1 Axes>"
      ]
     },
     "metadata": {},
     "output_type": "display_data"
    }
   ],
   "source": [
    "from sklearn.preprocessing import StandardScaler\n",
    "scaler = StandardScaler()\n",
    "scaler.fit(X)\n",
    "dataset_std=scaler.transform(X)\n",
    "plotXY(dataset_std,Y)"
   ]
  },
  {
   "cell_type": "code",
   "execution_count": 79,
   "id": "cc77cb9f",
   "metadata": {},
   "outputs": [
    {
     "data": {
      "text/plain": [
       "<AxesSubplot:xlabel='Type', ylabel='Length'>"
      ]
     },
     "execution_count": 79,
     "metadata": {},
     "output_type": "execute_result"
    },
    {
     "data": {
      "image/png": "[encoded data removed]",
      "text/plain": [
       "<Figure size 640x480 with 1 Axes>"
      ]
     },
     "metadata": {},
     "output_type": "display_data"
    }
   ],
   "source": [
    "import seaborn as sns\n",
    "sns.boxplot(x=\"Type\", y=\"Length\", data=data)"
   ]
  },
  {
   "cell_type": "code",
   "execution_count": 80,
   "id": "c84f6853",
   "metadata": {},
   "outputs": [
    {
     "data": {
      "text/plain": [
       "<AxesSubplot:xlabel='Type', ylabel='Delta'>"
      ]
     },
     "execution_count": 80,
     "metadata": {},
     "output_type": "execute_result"
    },
    {
     "data": {
      "image/png": "[encoded data removed]",
      "text/plain": [
       "<Figure size 640x480 with 1 Axes>"
      ]
     },
     "metadata": {},
     "output_type": "display_data"
    }
   ],
   "source": [
    "sns.boxplot(x=\"Type\", y=\"Delta\", data=data)"
   ]
  },
  {
   "cell_type": "markdown",
   "id": "38bafa27",
   "metadata": {},
   "source": [
    "In both case we can see that the relationship is not very prononced."
   ]
  },
  {
   "cell_type": "code",
   "execution_count": 81,
   "id": "452ab771",
   "metadata": {},
   "outputs": [
    {
     "data": {
      "image/png": "[encoded data removed]",
      "text/plain": [
       "<Figure size 800x600 with 1 Axes>"
      ]
     },
     "metadata": {},
     "output_type": "display_data"
    }
   ],
   "source": [
    "import seaborn as sns\n",
    "import matplotlib.pyplot as plt\n",
    "\n",
    "sns.set(style=\"whitegrid\")\n",
    "\n",
    "plt.figure(figsize=(8, 6)) \n",
    "sns.histplot(data=data[data['Type'] == 1], x=protocols, bins=10)\n",
    "plt.title('Histogram of Protocols for Type 1')\n",
    "plt.xlabel('Protocols')\n",
    "plt.ylabel('Count')\n",
    "plt.xticks(rotation=45) \n",
    "plt.show()\n"
   ]
  },
  {
   "cell_type": "markdown",
   "id": "c12d6818",
   "metadata": {},
   "source": [
    "By ploting this histogram we can clearly see the impact of each protocol in case of an attack. The protocol OBEX will clearly be an important protocol to look at."
   ]
  },
  {
   "cell_type": "markdown",
   "id": "4d51ef5f",
   "metadata": {},
   "source": [
    "### 2-7 Uninformative variables"
   ]
  },
  {
   "cell_type": "markdown",
   "id": "5e1703cf",
   "metadata": {},
   "source": [
    "An interesting step that we can focus on now that our dataset is more or less clean is looking at how important are our features in detecting the type of the attack by looking at the correlation matrix."
   ]
  },
  {
   "cell_type": "code",
   "execution_count": 82,
   "id": "0fb192b6",
   "metadata": {},
   "outputs": [
    {
     "data": {
      "text/html": [
       "<div>\n",
       "<style scoped>\n",
       "    .dataframe tbody tr th:only-of-type {\n",
       "        vertical-align: middle;\n",
       "    }\n",
       "\n",
       "    .dataframe tbody tr th {\n",
       "        vertical-align: top;\n",
       "    }\n",
       "\n",
       "    .dataframe thead th {\n",
       "        text-align: right;\n",
       "    }\n",
       "</style>\n",
       "<table border=\"1\" class=\"dataframe\">\n",
       "  <thead>\n",
       "    <tr style=\"text-align: right;\">\n",
       "      <th></th>\n",
       "      <th>Length</th>\n",
       "      <th>Delta</th>\n",
       "      <th>Type</th>\n",
       "      <th>Protocol_BNEP</th>\n",
       "      <th>Protocol_Baseband</th>\n",
       "      <th>Protocol_HCI H4 Broadcom</th>\n",
       "      <th>Protocol_HCI_CMD</th>\n",
       "      <th>Protocol_HCI_EVT</th>\n",
       "      <th>Protocol_L2CAP</th>\n",
       "      <th>Protocol_LMP</th>\n",
       "      <th>...</th>\n",
       "      <th>Info_Sent User Confirmation Request Reply</th>\n",
       "      <th>Info_Sent Write Current IAC LAP</th>\n",
       "      <th>Info_Sent Write Link Policy Settings</th>\n",
       "      <th>Info_Sent Write Scan Enable</th>\n",
       "      <th>Info_Service Search Attribute Request : Public Browse Group: Attribute Range (0x0001 - 0x0100)</th>\n",
       "      <th>Info_Service Search Attribute Response</th>\n",
       "      <th>Info_Service Search Attribute Response (fragment)</th>\n",
       "      <th>Info_Unknown Opcode (84)</th>\n",
       "      <th>Info_Unknown Opcode (91)</th>\n",
       "      <th>Info_nan</th>\n",
       "    </tr>\n",
       "  </thead>\n",
       "  <tbody>\n",
       "    <tr>\n",
       "      <th>Length</th>\n",
       "      <td>1.000000</td>\n",
       "      <td>-0.008910</td>\n",
       "      <td>-0.601715</td>\n",
       "      <td>-0.010396</td>\n",
       "      <td>-0.088874</td>\n",
       "      <td>-0.055217</td>\n",
       "      <td>-0.180069</td>\n",
       "      <td>-0.351518</td>\n",
       "      <td>-0.113075</td>\n",
       "      <td>-0.446781</td>\n",
       "      <td>...</td>\n",
       "      <td>-0.010475</td>\n",
       "      <td>-0.021061</td>\n",
       "      <td>-0.048324</td>\n",
       "      <td>-0.039730</td>\n",
       "      <td>-0.019532</td>\n",
       "      <td>-0.005790</td>\n",
       "      <td>0.010472</td>\n",
       "      <td>-0.010106</td>\n",
       "      <td>-0.010344</td>\n",
       "      <td>NaN</td>\n",
       "    </tr>\n",
       "    <tr>\n",
       "      <th>Delta</th>\n",
       "      <td>-0.008910</td>\n",
       "      <td>1.000000</td>\n",
       "      <td>0.021550</td>\n",
       "      <td>-0.000088</td>\n",
       "      <td>0.052973</td>\n",
       "      <td>-0.023227</td>\n",
       "      <td>0.003076</td>\n",
       "      <td>-0.036626</td>\n",
       "      <td>-0.001446</td>\n",
       "      <td>0.044194</td>\n",
       "      <td>...</td>\n",
       "      <td>0.006220</td>\n",
       "      <td>0.002363</td>\n",
       "      <td>-0.000707</td>\n",
       "      <td>0.006966</td>\n",
       "      <td>-0.000224</td>\n",
       "      <td>0.000062</td>\n",
       "      <td>0.000171</td>\n",
       "      <td>-0.000160</td>\n",
       "      <td>-0.000160</td>\n",
       "      <td>NaN</td>\n",
       "    </tr>\n",
       "    <tr>\n",
       "      <th>Type</th>\n",
       "      <td>-0.601715</td>\n",
       "      <td>0.021550</td>\n",
       "      <td>1.000000</td>\n",
       "      <td>-0.009479</td>\n",
       "      <td>0.150163</td>\n",
       "      <td>0.094383</td>\n",
       "      <td>0.210936</td>\n",
       "      <td>0.145801</td>\n",
       "      <td>0.073123</td>\n",
       "      <td>0.589386</td>\n",
       "      <td>...</td>\n",
       "      <td>-0.009479</td>\n",
       "      <td>-0.018964</td>\n",
       "      <td>0.060263</td>\n",
       "      <td>-0.035506</td>\n",
       "      <td>0.033803</td>\n",
       "      <td>0.023899</td>\n",
       "      <td>0.023899</td>\n",
       "      <td>0.016897</td>\n",
       "      <td>0.016897</td>\n",
       "      <td>NaN</td>\n",
       "    </tr>\n",
       "    <tr>\n",
       "      <th>Protocol_BNEP</th>\n",
       "      <td>-0.010396</td>\n",
       "      <td>-0.000088</td>\n",
       "      <td>-0.009479</td>\n",
       "      <td>1.000000</td>\n",
       "      <td>-0.001423</td>\n",
       "      <td>-0.000977</td>\n",
       "      <td>-0.002747</td>\n",
       "      <td>-0.005398</td>\n",
       "      <td>-0.001845</td>\n",
       "      <td>-0.007120</td>\n",
       "      <td>...</td>\n",
       "      <td>-0.000160</td>\n",
       "      <td>-0.000320</td>\n",
       "      <td>-0.000735</td>\n",
       "      <td>-0.000600</td>\n",
       "      <td>-0.000320</td>\n",
       "      <td>-0.000227</td>\n",
       "      <td>-0.000227</td>\n",
       "      <td>-0.000160</td>\n",
       "      <td>-0.000160</td>\n",
       "      <td>NaN</td>\n",
       "    </tr>\n",
       "    <tr>\n",
       "      <th>Protocol_Baseband</th>\n",
       "      <td>-0.088874</td>\n",
       "      <td>0.052973</td>\n",
       "      <td>0.150163</td>\n",
       "      <td>-0.001423</td>\n",
       "      <td>1.000000</td>\n",
       "      <td>-0.008684</td>\n",
       "      <td>-0.024416</td>\n",
       "      <td>-0.047970</td>\n",
       "      <td>-0.016400</td>\n",
       "      <td>-0.063272</td>\n",
       "      <td>...</td>\n",
       "      <td>-0.001423</td>\n",
       "      <td>-0.002848</td>\n",
       "      <td>-0.006534</td>\n",
       "      <td>-0.005332</td>\n",
       "      <td>-0.002848</td>\n",
       "      <td>-0.002013</td>\n",
       "      <td>-0.002013</td>\n",
       "      <td>-0.001423</td>\n",
       "      <td>-0.001423</td>\n",
       "      <td>NaN</td>\n",
       "    </tr>\n",
       "    <tr>\n",
       "      <th>...</th>\n",
       "      <td>...</td>\n",
       "      <td>...</td>\n",
       "      <td>...</td>\n",
       "      <td>...</td>\n",
       "      <td>...</td>\n",
       "      <td>...</td>\n",
       "      <td>...</td>\n",
       "      <td>...</td>\n",
       "      <td>...</td>\n",
       "      <td>...</td>\n",
       "      <td>...</td>\n",
       "      <td>...</td>\n",
       "      <td>...</td>\n",
       "      <td>...</td>\n",
       "      <td>...</td>\n",
       "      <td>...</td>\n",
       "      <td>...</td>\n",
       "      <td>...</td>\n",
       "      <td>...</td>\n",
       "      <td>...</td>\n",
       "      <td>...</td>\n",
       "    </tr>\n",
       "    <tr>\n",
       "      <th>Info_Service Search Attribute Response</th>\n",
       "      <td>-0.005790</td>\n",
       "      <td>0.000062</td>\n",
       "      <td>0.023899</td>\n",
       "      <td>-0.000227</td>\n",
       "      <td>-0.002013</td>\n",
       "      <td>-0.001382</td>\n",
       "      <td>-0.003886</td>\n",
       "      <td>-0.007634</td>\n",
       "      <td>-0.002610</td>\n",
       "      <td>-0.010070</td>\n",
       "      <td>...</td>\n",
       "      <td>-0.000227</td>\n",
       "      <td>-0.000453</td>\n",
       "      <td>-0.001040</td>\n",
       "      <td>-0.000849</td>\n",
       "      <td>-0.000453</td>\n",
       "      <td>1.000000</td>\n",
       "      <td>-0.000320</td>\n",
       "      <td>-0.000227</td>\n",
       "      <td>-0.000227</td>\n",
       "      <td>NaN</td>\n",
       "    </tr>\n",
       "    <tr>\n",
       "      <th>Info_Service Search Attribute Response (fragment)</th>\n",
       "      <td>0.010472</td>\n",
       "      <td>0.000171</td>\n",
       "      <td>0.023899</td>\n",
       "      <td>-0.000227</td>\n",
       "      <td>-0.002013</td>\n",
       "      <td>-0.001382</td>\n",
       "      <td>-0.003886</td>\n",
       "      <td>-0.007634</td>\n",
       "      <td>-0.002610</td>\n",
       "      <td>-0.010070</td>\n",
       "      <td>...</td>\n",
       "      <td>-0.000227</td>\n",
       "      <td>-0.000453</td>\n",
       "      <td>-0.001040</td>\n",
       "      <td>-0.000849</td>\n",
       "      <td>-0.000453</td>\n",
       "      <td>-0.000320</td>\n",
       "      <td>1.000000</td>\n",
       "      <td>-0.000227</td>\n",
       "      <td>-0.000227</td>\n",
       "      <td>NaN</td>\n",
       "    </tr>\n",
       "    <tr>\n",
       "      <th>Info_Unknown Opcode (84)</th>\n",
       "      <td>-0.010106</td>\n",
       "      <td>-0.000160</td>\n",
       "      <td>0.016897</td>\n",
       "      <td>-0.000160</td>\n",
       "      <td>-0.001423</td>\n",
       "      <td>-0.000977</td>\n",
       "      <td>-0.002747</td>\n",
       "      <td>-0.005398</td>\n",
       "      <td>-0.001845</td>\n",
       "      <td>0.022498</td>\n",
       "      <td>...</td>\n",
       "      <td>-0.000160</td>\n",
       "      <td>-0.000320</td>\n",
       "      <td>-0.000735</td>\n",
       "      <td>-0.000600</td>\n",
       "      <td>-0.000320</td>\n",
       "      <td>-0.000227</td>\n",
       "      <td>-0.000227</td>\n",
       "      <td>1.000000</td>\n",
       "      <td>-0.000160</td>\n",
       "      <td>NaN</td>\n",
       "    </tr>\n",
       "    <tr>\n",
       "      <th>Info_Unknown Opcode (91)</th>\n",
       "      <td>-0.010344</td>\n",
       "      <td>-0.000160</td>\n",
       "      <td>0.016897</td>\n",
       "      <td>-0.000160</td>\n",
       "      <td>-0.001423</td>\n",
       "      <td>-0.000977</td>\n",
       "      <td>-0.002747</td>\n",
       "      <td>-0.005398</td>\n",
       "      <td>-0.001845</td>\n",
       "      <td>0.022498</td>\n",
       "      <td>...</td>\n",
       "      <td>-0.000160</td>\n",
       "      <td>-0.000320</td>\n",
       "      <td>-0.000735</td>\n",
       "      <td>-0.000600</td>\n",
       "      <td>-0.000320</td>\n",
       "      <td>-0.000227</td>\n",
       "      <td>-0.000227</td>\n",
       "      <td>-0.000160</td>\n",
       "      <td>1.000000</td>\n",
       "      <td>NaN</td>\n",
       "    </tr>\n",
       "    <tr>\n",
       "      <th>Info_nan</th>\n",
       "      <td>NaN</td>\n",
       "      <td>NaN</td>\n",
       "      <td>NaN</td>\n",
       "      <td>NaN</td>\n",
       "      <td>NaN</td>\n",
       "      <td>NaN</td>\n",
       "      <td>NaN</td>\n",
       "      <td>NaN</td>\n",
       "      <td>NaN</td>\n",
       "      <td>NaN</td>\n",
       "      <td>...</td>\n",
       "      <td>NaN</td>\n",
       "      <td>NaN</td>\n",
       "      <td>NaN</td>\n",
       "      <td>NaN</td>\n",
       "      <td>NaN</td>\n",
       "      <td>NaN</td>\n",
       "      <td>NaN</td>\n",
       "      <td>NaN</td>\n",
       "      <td>NaN</td>\n",
       "      <td>NaN</td>\n",
       "    </tr>\n",
       "  </tbody>\n",
       "</table>\n",
       "<p>238 rows × 238 columns</p>\n",
       "</div>"
      ],
      "text/plain": [
       "                                                     Length     Delta  \\\n",
       "Length                                             1.000000 -0.008910   \n",
       "Delta                                             -0.008910  1.000000   \n",
       "Type                                              -0.601715  0.021550   \n",
       "Protocol_BNEP                                     -0.010396 -0.000088   \n",
       "Protocol_Baseband                                 -0.088874  0.052973   \n",
       "...                                                     ...       ...   \n",
       "Info_Service Search Attribute Response            -0.005790  0.000062   \n",
       "Info_Service Search Attribute Response (fragment)  0.010472  0.000171   \n",
       "Info_Unknown Opcode (84)                          -0.010106 -0.000160   \n",
       "Info_Unknown Opcode (91)                          -0.010344 -0.000160   \n",
       "Info_nan                                                NaN       NaN   \n",
       "\n",
       "                                                       Type  Protocol_BNEP  \\\n",
       "Length                                            -0.601715      -0.010396   \n",
       "Delta                                              0.021550      -0.000088   \n",
       "Type                                               1.000000      -0.009479   \n",
       "Protocol_BNEP                                     -0.009479       1.000000   \n",
       "Protocol_Baseband                                  0.150163      -0.001423   \n",
       "...                                                     ...            ...   \n",
       "Info_Service Search Attribute Response             0.023899      -0.000227   \n",
       "Info_Service Search Attribute Response (fragment)  0.023899      -0.000227   \n",
       "Info_Unknown Opcode (84)                           0.016897      -0.000160   \n",
       "Info_Unknown Opcode (91)                           0.016897      -0.000160   \n",
       "Info_nan                                                NaN            NaN   \n",
       "\n",
       "                                                   Protocol_Baseband  \\\n",
       "Length                                                     -0.088874   \n",
       "Delta                                                       0.052973   \n",
       "Type                                                        0.150163   \n",
       "Protocol_BNEP                                              -0.001423   \n",
       "Protocol_Baseband                                           1.000000   \n",
       "...                                                              ...   \n",
       "Info_Service Search Attribute Response                     -0.002013   \n",
       "Info_Service Search Attribute Response (fragment)          -0.002013   \n",
       "Info_Unknown Opcode (84)                                   -0.001423   \n",
       "Info_Unknown Opcode (91)                                   -0.001423   \n",
       "Info_nan                                                         NaN   \n",
       "\n",
       "                                                   Protocol_HCI H4 Broadcom  \\\n",
       "Length                                                            -0.055217   \n",
       "Delta                                                             -0.023227   \n",
       "Type                                                               0.094383   \n",
       "Protocol_BNEP                                                     -0.000977   \n",
       "Protocol_Baseband                                                 -0.008684   \n",
       "...                                                                     ...   \n",
       "Info_Service Search Attribute Response                            -0.001382   \n",
       "Info_Service Search Attribute Response (fragment)                 -0.001382   \n",
       "Info_Unknown Opcode (84)                                          -0.000977   \n",
       "Info_Unknown Opcode (91)                                          -0.000977   \n",
       "Info_nan                                                                NaN   \n",
       "\n",
       "                                                   Protocol_HCI_CMD  \\\n",
       "Length                                                    -0.180069   \n",
       "Delta                                                      0.003076   \n",
       "Type                                                       0.210936   \n",
       "Protocol_BNEP                                             -0.002747   \n",
       "Protocol_Baseband                                         -0.024416   \n",
       "...                                                             ...   \n",
       "Info_Service Search Attribute Response                    -0.003886   \n",
       "Info_Service Search Attribute Response (fragment)         -0.003886   \n",
       "Info_Unknown Opcode (84)                                  -0.002747   \n",
       "Info_Unknown Opcode (91)                                  -0.002747   \n",
       "Info_nan                                                        NaN   \n",
       "\n",
       "                                                   Protocol_HCI_EVT  \\\n",
       "Length                                                    -0.351518   \n",
       "Delta                                                     -0.036626   \n",
       "Type                                                       0.145801   \n",
       "Protocol_BNEP                                             -0.005398   \n",
       "Protocol_Baseband                                         -0.047970   \n",
       "...                                                             ...   \n",
       "Info_Service Search Attribute Response                    -0.007634   \n",
       "Info_Service Search Attribute Response (fragment)         -0.007634   \n",
       "Info_Unknown Opcode (84)                                  -0.005398   \n",
       "Info_Unknown Opcode (91)                                  -0.005398   \n",
       "Info_nan                                                        NaN   \n",
       "\n",
       "                                                   Protocol_L2CAP  \\\n",
       "Length                                                  -0.113075   \n",
       "Delta                                                   -0.001446   \n",
       "Type                                                     0.073123   \n",
       "Protocol_BNEP                                           -0.001845   \n",
       "Protocol_Baseband                                       -0.016400   \n",
       "...                                                           ...   \n",
       "Info_Service Search Attribute Response                  -0.002610   \n",
       "Info_Service Search Attribute Response (fragment)       -0.002610   \n",
       "Info_Unknown Opcode (84)                                -0.001845   \n",
       "Info_Unknown Opcode (91)                                -0.001845   \n",
       "Info_nan                                                      NaN   \n",
       "\n",
       "                                                   Protocol_LMP  ...  \\\n",
       "Length                                                -0.446781  ...   \n",
       "Delta                                                  0.044194  ...   \n",
       "Type                                                   0.589386  ...   \n",
       "Protocol_BNEP                                         -0.007120  ...   \n",
       "Protocol_Baseband                                     -0.063272  ...   \n",
       "...                                                         ...  ...   \n",
       "Info_Service Search Attribute Response                -0.010070  ...   \n",
       "Info_Service Search Attribute Response (fragment)     -0.010070  ...   \n",
       "Info_Unknown Opcode (84)                               0.022498  ...   \n",
       "Info_Unknown Opcode (91)                               0.022498  ...   \n",
       "Info_nan                                                    NaN  ...   \n",
       "\n",
       "                                                   Info_Sent User Confirmation Request Reply  \\\n",
       "Length                                                                             -0.010475   \n",
       "Delta                                                                               0.006220   \n",
       "Type                                                                               -0.009479   \n",
       "Protocol_BNEP                                                                      -0.000160   \n",
       "Protocol_Baseband                                                                  -0.001423   \n",
       "...                                                                                      ...   \n",
       "Info_Service Search Attribute Response                                             -0.000227   \n",
       "Info_Service Search Attribute Response (fragment)                                  -0.000227   \n",
       "Info_Unknown Opcode (84)                                                           -0.000160   \n",
       "Info_Unknown Opcode (91)                                                           -0.000160   \n",
       "Info_nan                                                                                 NaN   \n",
       "\n",
       "                                                   Info_Sent Write Current IAC LAP  \\\n",
       "Length                                                                   -0.021061   \n",
       "Delta                                                                     0.002363   \n",
       "Type                                                                     -0.018964   \n",
       "Protocol_BNEP                                                            -0.000320   \n",
       "Protocol_Baseband                                                        -0.002848   \n",
       "...                                                                            ...   \n",
       "Info_Service Search Attribute Response                                   -0.000453   \n",
       "Info_Service Search Attribute Response (fragment)                        -0.000453   \n",
       "Info_Unknown Opcode (84)                                                 -0.000320   \n",
       "Info_Unknown Opcode (91)                                                 -0.000320   \n",
       "Info_nan                                                                       NaN   \n",
       "\n",
       "                                                   Info_Sent Write Link Policy Settings  \\\n",
       "Length                                                                        -0.048324   \n",
       "Delta                                                                         -0.000707   \n",
       "Type                                                                           0.060263   \n",
       "Protocol_BNEP                                                                 -0.000735   \n",
       "Protocol_Baseband                                                             -0.006534   \n",
       "...                                                                                 ...   \n",
       "Info_Service Search Attribute Response                                        -0.001040   \n",
       "Info_Service Search Attribute Response (fragment)                             -0.001040   \n",
       "Info_Unknown Opcode (84)                                                      -0.000735   \n",
       "Info_Unknown Opcode (91)                                                      -0.000735   \n",
       "Info_nan                                                                            NaN   \n",
       "\n",
       "                                                   Info_Sent Write Scan Enable  \\\n",
       "Length                                                               -0.039730   \n",
       "Delta                                                                 0.006966   \n",
       "Type                                                                 -0.035506   \n",
       "Protocol_BNEP                                                        -0.000600   \n",
       "Protocol_Baseband                                                    -0.005332   \n",
       "...                                                                        ...   \n",
       "Info_Service Search Attribute Response                               -0.000849   \n",
       "Info_Service Search Attribute Response (fragment)                    -0.000849   \n",
       "Info_Unknown Opcode (84)                                             -0.000600   \n",
       "Info_Unknown Opcode (91)                                             -0.000600   \n",
       "Info_nan                                                                   NaN   \n",
       "\n",
       "                                                   Info_Service Search Attribute Request : Public Browse Group: Attribute Range (0x0001 - 0x0100)   \\\n",
       "Length                                                                                     -0.019532                                                 \n",
       "Delta                                                                                      -0.000224                                                 \n",
       "Type                                                                                        0.033803                                                 \n",
       "Protocol_BNEP                                                                              -0.000320                                                 \n",
       "Protocol_Baseband                                                                          -0.002848                                                 \n",
       "...                                                                                              ...                                                 \n",
       "Info_Service Search Attribute Response                                                     -0.000453                                                 \n",
       "Info_Service Search Attribute Response (fragment)                                          -0.000453                                                 \n",
       "Info_Unknown Opcode (84)                                                                   -0.000320                                                 \n",
       "Info_Unknown Opcode (91)                                                                   -0.000320                                                 \n",
       "Info_nan                                                                                         NaN                                                 \n",
       "\n",
       "                                                   Info_Service Search Attribute Response   \\\n",
       "Length                                                                           -0.005790   \n",
       "Delta                                                                             0.000062   \n",
       "Type                                                                              0.023899   \n",
       "Protocol_BNEP                                                                    -0.000227   \n",
       "Protocol_Baseband                                                                -0.002013   \n",
       "...                                                                                    ...   \n",
       "Info_Service Search Attribute Response                                            1.000000   \n",
       "Info_Service Search Attribute Response (fragment)                                -0.000320   \n",
       "Info_Unknown Opcode (84)                                                         -0.000227   \n",
       "Info_Unknown Opcode (91)                                                         -0.000227   \n",
       "Info_nan                                                                               NaN   \n",
       "\n",
       "                                                   Info_Service Search Attribute Response (fragment)  \\\n",
       "Length                                                                                      0.010472   \n",
       "Delta                                                                                       0.000171   \n",
       "Type                                                                                        0.023899   \n",
       "Protocol_BNEP                                                                              -0.000227   \n",
       "Protocol_Baseband                                                                          -0.002013   \n",
       "...                                                                                              ...   \n",
       "Info_Service Search Attribute Response                                                     -0.000320   \n",
       "Info_Service Search Attribute Response (fragment)                                           1.000000   \n",
       "Info_Unknown Opcode (84)                                                                   -0.000227   \n",
       "Info_Unknown Opcode (91)                                                                   -0.000227   \n",
       "Info_nan                                                                                         NaN   \n",
       "\n",
       "                                                   Info_Unknown Opcode (84)  \\\n",
       "Length                                                            -0.010106   \n",
       "Delta                                                             -0.000160   \n",
       "Type                                                               0.016897   \n",
       "Protocol_BNEP                                                     -0.000160   \n",
       "Protocol_Baseband                                                 -0.001423   \n",
       "...                                                                     ...   \n",
       "Info_Service Search Attribute Response                            -0.000227   \n",
       "Info_Service Search Attribute Response (fragment)                 -0.000227   \n",
       "Info_Unknown Opcode (84)                                           1.000000   \n",
       "Info_Unknown Opcode (91)                                          -0.000160   \n",
       "Info_nan                                                                NaN   \n",
       "\n",
       "                                                   Info_Unknown Opcode (91)  \\\n",
       "Length                                                            -0.010344   \n",
       "Delta                                                             -0.000160   \n",
       "Type                                                               0.016897   \n",
       "Protocol_BNEP                                                     -0.000160   \n",
       "Protocol_Baseband                                                 -0.001423   \n",
       "...                                                                     ...   \n",
       "Info_Service Search Attribute Response                            -0.000227   \n",
       "Info_Service Search Attribute Response (fragment)                 -0.000227   \n",
       "Info_Unknown Opcode (84)                                          -0.000160   \n",
       "Info_Unknown Opcode (91)                                           1.000000   \n",
       "Info_nan                                                                NaN   \n",
       "\n",
       "                                                   Info_nan  \n",
       "Length                                                  NaN  \n",
       "Delta                                                   NaN  \n",
       "Type                                                    NaN  \n",
       "Protocol_BNEP                                           NaN  \n",
       "Protocol_Baseband                                       NaN  \n",
       "...                                                     ...  \n",
       "Info_Service Search Attribute Response                  NaN  \n",
       "Info_Service Search Attribute Response (fragment)       NaN  \n",
       "Info_Unknown Opcode (84)                                NaN  \n",
       "Info_Unknown Opcode (91)                                NaN  \n",
       "Info_nan                                                NaN  \n",
       "\n",
       "[238 rows x 238 columns]"
      ]
     },
     "execution_count": 82,
     "metadata": {},
     "output_type": "execute_result"
    }
   ],
   "source": [
    "data.corr()"
   ]
  },
  {
   "cell_type": "code",
   "execution_count": 83,
   "id": "5e19ebf4",
   "metadata": {},
   "outputs": [
    {
     "data": {
      "image/png": "[encoded data removed]",
      "text/plain": [
       "<Figure size 640x480 with 2 Axes>"
      ]
     },
     "metadata": {},
     "output_type": "display_data"
    }
   ],
   "source": [
    "sns.heatmap(data.corr(), annot=False, yticklabels=False, xticklabels=False)\n",
    "plt.show()"
   ]
  },
  {
   "cell_type": "markdown",
   "id": "e35711e4",
   "metadata": {},
   "source": [
    "As we can see this is not very exploitable because there are way too many columns. First we will need to know how many different Protocols and Infos we got."
   ]
  },
  {
   "cell_type": "code",
   "execution_count": 84,
   "id": "7927a6e3",
   "metadata": {},
   "outputs": [
    {
     "data": {
      "text/plain": [
       "10"
      ]
     },
     "execution_count": 84,
     "metadata": {},
     "output_type": "execute_result"
    }
   ],
   "source": [
    "data.columns.str.startswith('Protocol').sum()"
   ]
  },
  {
   "cell_type": "code",
   "execution_count": 85,
   "id": "00346393",
   "metadata": {},
   "outputs": [
    {
     "data": {
      "text/plain": [
       "225"
      ]
     },
     "execution_count": 85,
     "metadata": {},
     "output_type": "execute_result"
    }
   ],
   "source": [
    "data.columns.str.startswith('Info').sum()"
   ]
  },
  {
   "cell_type": "code",
   "execution_count": 31,
   "id": "91abb319",
   "metadata": {},
   "outputs": [
    {
     "data": {
      "text/plain": [
       "(6244, 238)"
      ]
     },
     "execution_count": 31,
     "metadata": {},
     "output_type": "execute_result"
    }
   ],
   "source": [
    "data.shape"
   ]
  },
  {
   "cell_type": "markdown",
   "id": "f5485716",
   "metadata": {},
   "source": [
    "In our dataset there are 10 different Protocols and 225 different Infos. We can verify that it's correct since we have in total 238 columns. The 10 columns from Protocols + 225 columns from Infos + Delta's column, Length's column + Type's column = 238."
   ]
  },
  {
   "cell_type": "markdown",
   "id": "5a9e4af2",
   "metadata": {},
   "source": [
    "We will now calculate the dependency of the Type of Attack in regards with the Protcols and Infos."
   ]
  },
  {
   "cell_type": "code",
   "execution_count": 86,
   "id": "3a346510",
   "metadata": {
    "scrolled": true
   },
   "outputs": [
    {
     "data": {
      "text/plain": [
       "0.43651664971801524"
      ]
     },
     "execution_count": 86,
     "metadata": {},
     "output_type": "execute_result"
    }
   ],
   "source": [
    "protocol_dependency = data.corr().iloc[2,3:14].sum()\n",
    "protocol_dependency"
   ]
  },
  {
   "cell_type": "code",
   "execution_count": 87,
   "id": "5ebcdd19",
   "metadata": {},
   "outputs": [
    {
     "data": {
      "text/plain": [
       "2.7143953523695328"
      ]
     },
     "execution_count": 87,
     "metadata": {},
     "output_type": "execute_result"
    }
   ],
   "source": [
    "info_dependency = data.corr().iloc[2,14:240].sum()\n",
    "info_dependency"
   ]
  },
  {
   "cell_type": "markdown",
   "id": "22150386",
   "metadata": {},
   "source": [
    "Our goal is now to get rid of uninformative variables that we will define in our case as the variables that do not have an autocorrelation with 'Type' greater than 0.1 or lower than -0.1. We chose this value since the autocorrelation is spread over a large amount of features. However we will still keep both numerical features (length and delta) even if the correlation between delta and type is not very pronounced."
   ]
  },
  {
   "cell_type": "code",
   "execution_count": 88,
   "id": "9849651f",
   "metadata": {},
   "outputs": [
    {
     "name": "stdout",
     "output_type": "stream",
     "text": [
      "4\n"
     ]
    }
   ],
   "source": [
    "protocols_greater_than_0_1 = (data.corr().iloc[2, 3:14] > 0.1).sum()\n",
    "print(protocols_greater_than_0_1)"
   ]
  },
  {
   "cell_type": "code",
   "execution_count": 89,
   "id": "7d2d55d6",
   "metadata": {},
   "outputs": [
    {
     "name": "stdout",
     "output_type": "stream",
     "text": [
      "2\n"
     ]
    }
   ],
   "source": [
    "protocols_lower_than_minus_0_1 = (data.corr().iloc[2, 3:14] < -0.1).sum()\n",
    "print(protocols_lower_than_minus_0_1)"
   ]
  },
  {
   "cell_type": "code",
   "execution_count": 90,
   "id": "b766da75",
   "metadata": {},
   "outputs": [
    {
     "name": "stdout",
     "output_type": "stream",
     "text": [
      "16\n"
     ]
    }
   ],
   "source": [
    "infos_greater_than_0_1 = (data.corr().iloc[2, 14:240] > 0.1).sum()\n",
    "print(infos_greater_than_0_1)"
   ]
  },
  {
   "cell_type": "code",
   "execution_count": 91,
   "id": "f1e0ee0a",
   "metadata": {},
   "outputs": [
    {
     "name": "stdout",
     "output_type": "stream",
     "text": [
      "3\n"
     ]
    }
   ],
   "source": [
    "infos_lower_than_minus_0_1 = (data.corr().iloc[2, 14:240] < -0.1).sum()\n",
    "print(infos_lower_than_minus_0_1)"
   ]
  },
  {
   "cell_type": "code",
   "execution_count": 92,
   "id": "55828b7b",
   "metadata": {},
   "outputs": [
    {
     "data": {
      "text/html": [
       "<div>\n",
       "<style scoped>\n",
       "    .dataframe tbody tr th:only-of-type {\n",
       "        vertical-align: middle;\n",
       "    }\n",
       "\n",
       "    .dataframe tbody tr th {\n",
       "        vertical-align: top;\n",
       "    }\n",
       "\n",
       "    .dataframe thead th {\n",
       "        text-align: right;\n",
       "    }\n",
       "</style>\n",
       "<table border=\"1\" class=\"dataframe\">\n",
       "  <thead>\n",
       "    <tr style=\"text-align: right;\">\n",
       "      <th></th>\n",
       "      <th>Length</th>\n",
       "      <th>Delta</th>\n",
       "      <th>Protocol_Baseband</th>\n",
       "      <th>Protocol_HCI_CMD</th>\n",
       "      <th>Protocol_HCI_EVT</th>\n",
       "      <th>Protocol_LMP</th>\n",
       "      <th>Protocol_OBEX</th>\n",
       "      <th>Protocol_RFCOMM</th>\n",
       "      <th>Info_FHS</th>\n",
       "      <th>Info_LMP_au_rand</th>\n",
       "      <th>...</th>\n",
       "      <th>Info_LMP_timing_accuracy_req</th>\n",
       "      <th>Info_LMP_timing_accuracy_res</th>\n",
       "      <th>Info_LMP_version_req</th>\n",
       "      <th>Info_LMP_version_res</th>\n",
       "      <th>Info_Rcvd Command Complete (Link Key Request Negative Reply)</th>\n",
       "      <th>Info_Rcvd Link Key Request</th>\n",
       "      <th>Info_Rcvd Number of Completed Packets</th>\n",
       "      <th>Info_Rcvd OBEX fragment</th>\n",
       "      <th>Info_Sent Link Key Request Negative Reply</th>\n",
       "      <th>Info_Sent UIH Channel=12 UID</th>\n",
       "    </tr>\n",
       "  </thead>\n",
       "  <tbody>\n",
       "    <tr>\n",
       "      <th>0</th>\n",
       "      <td>9.0</td>\n",
       "      <td>0.010473</td>\n",
       "      <td>0.0</td>\n",
       "      <td>0.0</td>\n",
       "      <td>1.0</td>\n",
       "      <td>0.0</td>\n",
       "      <td>0.0</td>\n",
       "      <td>0.0</td>\n",
       "      <td>0.0</td>\n",
       "      <td>0.0</td>\n",
       "      <td>...</td>\n",
       "      <td>0.0</td>\n",
       "      <td>0.0</td>\n",
       "      <td>0.0</td>\n",
       "      <td>0.0</td>\n",
       "      <td>0.0</td>\n",
       "      <td>1.0</td>\n",
       "      <td>0.0</td>\n",
       "      <td>0.0</td>\n",
       "      <td>0.0</td>\n",
       "      <td>0.0</td>\n",
       "    </tr>\n",
       "    <tr>\n",
       "      <th>1</th>\n",
       "      <td>10.0</td>\n",
       "      <td>0.010473</td>\n",
       "      <td>0.0</td>\n",
       "      <td>1.0</td>\n",
       "      <td>0.0</td>\n",
       "      <td>0.0</td>\n",
       "      <td>0.0</td>\n",
       "      <td>0.0</td>\n",
       "      <td>0.0</td>\n",
       "      <td>0.0</td>\n",
       "      <td>...</td>\n",
       "      <td>0.0</td>\n",
       "      <td>0.0</td>\n",
       "      <td>0.0</td>\n",
       "      <td>0.0</td>\n",
       "      <td>0.0</td>\n",
       "      <td>0.0</td>\n",
       "      <td>0.0</td>\n",
       "      <td>0.0</td>\n",
       "      <td>1.0</td>\n",
       "      <td>0.0</td>\n",
       "    </tr>\n",
       "    <tr>\n",
       "      <th>2</th>\n",
       "      <td>9.0</td>\n",
       "      <td>0.017913</td>\n",
       "      <td>0.0</td>\n",
       "      <td>0.0</td>\n",
       "      <td>1.0</td>\n",
       "      <td>0.0</td>\n",
       "      <td>0.0</td>\n",
       "      <td>0.0</td>\n",
       "      <td>0.0</td>\n",
       "      <td>0.0</td>\n",
       "      <td>...</td>\n",
       "      <td>0.0</td>\n",
       "      <td>0.0</td>\n",
       "      <td>0.0</td>\n",
       "      <td>0.0</td>\n",
       "      <td>0.0</td>\n",
       "      <td>1.0</td>\n",
       "      <td>0.0</td>\n",
       "      <td>0.0</td>\n",
       "      <td>0.0</td>\n",
       "      <td>0.0</td>\n",
       "    </tr>\n",
       "    <tr>\n",
       "      <th>3</th>\n",
       "      <td>13.0</td>\n",
       "      <td>0.002642</td>\n",
       "      <td>0.0</td>\n",
       "      <td>0.0</td>\n",
       "      <td>1.0</td>\n",
       "      <td>0.0</td>\n",
       "      <td>0.0</td>\n",
       "      <td>0.0</td>\n",
       "      <td>0.0</td>\n",
       "      <td>0.0</td>\n",
       "      <td>...</td>\n",
       "      <td>0.0</td>\n",
       "      <td>0.0</td>\n",
       "      <td>0.0</td>\n",
       "      <td>0.0</td>\n",
       "      <td>1.0</td>\n",
       "      <td>0.0</td>\n",
       "      <td>0.0</td>\n",
       "      <td>0.0</td>\n",
       "      <td>0.0</td>\n",
       "      <td>0.0</td>\n",
       "    </tr>\n",
       "    <tr>\n",
       "      <th>4</th>\n",
       "      <td>10.0</td>\n",
       "      <td>0.002882</td>\n",
       "      <td>0.0</td>\n",
       "      <td>1.0</td>\n",
       "      <td>0.0</td>\n",
       "      <td>0.0</td>\n",
       "      <td>0.0</td>\n",
       "      <td>0.0</td>\n",
       "      <td>0.0</td>\n",
       "      <td>0.0</td>\n",
       "      <td>...</td>\n",
       "      <td>0.0</td>\n",
       "      <td>0.0</td>\n",
       "      <td>0.0</td>\n",
       "      <td>0.0</td>\n",
       "      <td>0.0</td>\n",
       "      <td>0.0</td>\n",
       "      <td>0.0</td>\n",
       "      <td>0.0</td>\n",
       "      <td>1.0</td>\n",
       "      <td>0.0</td>\n",
       "    </tr>\n",
       "    <tr>\n",
       "      <th>...</th>\n",
       "      <td>...</td>\n",
       "      <td>...</td>\n",
       "      <td>...</td>\n",
       "      <td>...</td>\n",
       "      <td>...</td>\n",
       "      <td>...</td>\n",
       "      <td>...</td>\n",
       "      <td>...</td>\n",
       "      <td>...</td>\n",
       "      <td>...</td>\n",
       "      <td>...</td>\n",
       "      <td>...</td>\n",
       "      <td>...</td>\n",
       "      <td>...</td>\n",
       "      <td>...</td>\n",
       "      <td>...</td>\n",
       "      <td>...</td>\n",
       "      <td>...</td>\n",
       "      <td>...</td>\n",
       "      <td>...</td>\n",
       "      <td>...</td>\n",
       "    </tr>\n",
       "    <tr>\n",
       "      <th>6397</th>\n",
       "      <td>14.0</td>\n",
       "      <td>0.006531</td>\n",
       "      <td>0.0</td>\n",
       "      <td>0.0</td>\n",
       "      <td>0.0</td>\n",
       "      <td>0.0</td>\n",
       "      <td>0.0</td>\n",
       "      <td>1.0</td>\n",
       "      <td>0.0</td>\n",
       "      <td>0.0</td>\n",
       "      <td>...</td>\n",
       "      <td>0.0</td>\n",
       "      <td>0.0</td>\n",
       "      <td>0.0</td>\n",
       "      <td>0.0</td>\n",
       "      <td>0.0</td>\n",
       "      <td>0.0</td>\n",
       "      <td>0.0</td>\n",
       "      <td>0.0</td>\n",
       "      <td>0.0</td>\n",
       "      <td>1.0</td>\n",
       "    </tr>\n",
       "    <tr>\n",
       "      <th>6398</th>\n",
       "      <td>8.0</td>\n",
       "      <td>0.004969</td>\n",
       "      <td>0.0</td>\n",
       "      <td>0.0</td>\n",
       "      <td>1.0</td>\n",
       "      <td>0.0</td>\n",
       "      <td>0.0</td>\n",
       "      <td>0.0</td>\n",
       "      <td>0.0</td>\n",
       "      <td>0.0</td>\n",
       "      <td>...</td>\n",
       "      <td>0.0</td>\n",
       "      <td>0.0</td>\n",
       "      <td>0.0</td>\n",
       "      <td>0.0</td>\n",
       "      <td>0.0</td>\n",
       "      <td>0.0</td>\n",
       "      <td>1.0</td>\n",
       "      <td>0.0</td>\n",
       "      <td>0.0</td>\n",
       "      <td>0.0</td>\n",
       "    </tr>\n",
       "    <tr>\n",
       "      <th>6399</th>\n",
       "      <td>21.0</td>\n",
       "      <td>0.014489</td>\n",
       "      <td>0.0</td>\n",
       "      <td>0.0</td>\n",
       "      <td>0.0</td>\n",
       "      <td>0.0</td>\n",
       "      <td>1.0</td>\n",
       "      <td>0.0</td>\n",
       "      <td>0.0</td>\n",
       "      <td>0.0</td>\n",
       "      <td>...</td>\n",
       "      <td>0.0</td>\n",
       "      <td>0.0</td>\n",
       "      <td>0.0</td>\n",
       "      <td>0.0</td>\n",
       "      <td>0.0</td>\n",
       "      <td>0.0</td>\n",
       "      <td>0.0</td>\n",
       "      <td>0.0</td>\n",
       "      <td>0.0</td>\n",
       "      <td>0.0</td>\n",
       "    </tr>\n",
       "    <tr>\n",
       "      <th>6400</th>\n",
       "      <td>64.0</td>\n",
       "      <td>0.003510</td>\n",
       "      <td>0.0</td>\n",
       "      <td>0.0</td>\n",
       "      <td>0.0</td>\n",
       "      <td>1.0</td>\n",
       "      <td>0.0</td>\n",
       "      <td>0.0</td>\n",
       "      <td>0.0</td>\n",
       "      <td>0.0</td>\n",
       "      <td>...</td>\n",
       "      <td>0.0</td>\n",
       "      <td>0.0</td>\n",
       "      <td>0.0</td>\n",
       "      <td>0.0</td>\n",
       "      <td>0.0</td>\n",
       "      <td>0.0</td>\n",
       "      <td>0.0</td>\n",
       "      <td>0.0</td>\n",
       "      <td>0.0</td>\n",
       "      <td>0.0</td>\n",
       "    </tr>\n",
       "    <tr>\n",
       "      <th>6401</th>\n",
       "      <td>64.0</td>\n",
       "      <td>0.001288</td>\n",
       "      <td>0.0</td>\n",
       "      <td>0.0</td>\n",
       "      <td>0.0</td>\n",
       "      <td>1.0</td>\n",
       "      <td>0.0</td>\n",
       "      <td>0.0</td>\n",
       "      <td>0.0</td>\n",
       "      <td>0.0</td>\n",
       "      <td>...</td>\n",
       "      <td>0.0</td>\n",
       "      <td>0.0</td>\n",
       "      <td>0.0</td>\n",
       "      <td>0.0</td>\n",
       "      <td>0.0</td>\n",
       "      <td>0.0</td>\n",
       "      <td>0.0</td>\n",
       "      <td>0.0</td>\n",
       "      <td>0.0</td>\n",
       "      <td>0.0</td>\n",
       "    </tr>\n",
       "  </tbody>\n",
       "</table>\n",
       "<p>6244 rows × 27 columns</p>\n",
       "</div>"
      ],
      "text/plain": [
       "      Length     Delta  Protocol_Baseband  Protocol_HCI_CMD  Protocol_HCI_EVT  \\\n",
       "0        9.0  0.010473                0.0               0.0               1.0   \n",
       "1       10.0  0.010473                0.0               1.0               0.0   \n",
       "2        9.0  0.017913                0.0               0.0               1.0   \n",
       "3       13.0  0.002642                0.0               0.0               1.0   \n",
       "4       10.0  0.002882                0.0               1.0               0.0   \n",
       "...      ...       ...                ...               ...               ...   \n",
       "6397    14.0  0.006531                0.0               0.0               0.0   \n",
       "6398     8.0  0.004969                0.0               0.0               1.0   \n",
       "6399    21.0  0.014489                0.0               0.0               0.0   \n",
       "6400    64.0  0.003510                0.0               0.0               0.0   \n",
       "6401    64.0  0.001288                0.0               0.0               0.0   \n",
       "\n",
       "      Protocol_LMP  Protocol_OBEX  Protocol_RFCOMM  Info_FHS  \\\n",
       "0              0.0            0.0              0.0       0.0   \n",
       "1              0.0            0.0              0.0       0.0   \n",
       "2              0.0            0.0              0.0       0.0   \n",
       "3              0.0            0.0              0.0       0.0   \n",
       "4              0.0            0.0              0.0       0.0   \n",
       "...            ...            ...              ...       ...   \n",
       "6397           0.0            0.0              1.0       0.0   \n",
       "6398           0.0            0.0              0.0       0.0   \n",
       "6399           0.0            1.0              0.0       0.0   \n",
       "6400           1.0            0.0              0.0       0.0   \n",
       "6401           1.0            0.0              0.0       0.0   \n",
       "\n",
       "      Info_LMP_au_rand  ...  Info_LMP_timing_accuracy_req  \\\n",
       "0                  0.0  ...                           0.0   \n",
       "1                  0.0  ...                           0.0   \n",
       "2                  0.0  ...                           0.0   \n",
       "3                  0.0  ...                           0.0   \n",
       "4                  0.0  ...                           0.0   \n",
       "...                ...  ...                           ...   \n",
       "6397               0.0  ...                           0.0   \n",
       "6398               0.0  ...                           0.0   \n",
       "6399               0.0  ...                           0.0   \n",
       "6400               0.0  ...                           0.0   \n",
       "6401               0.0  ...                           0.0   \n",
       "\n",
       "      Info_LMP_timing_accuracy_res  Info_LMP_version_req  \\\n",
       "0                              0.0                   0.0   \n",
       "1                              0.0                   0.0   \n",
       "2                              0.0                   0.0   \n",
       "3                              0.0                   0.0   \n",
       "4                              0.0                   0.0   \n",
       "...                            ...                   ...   \n",
       "6397                           0.0                   0.0   \n",
       "6398                           0.0                   0.0   \n",
       "6399                           0.0                   0.0   \n",
       "6400                           0.0                   0.0   \n",
       "6401                           0.0                   0.0   \n",
       "\n",
       "      Info_LMP_version_res  \\\n",
       "0                      0.0   \n",
       "1                      0.0   \n",
       "2                      0.0   \n",
       "3                      0.0   \n",
       "4                      0.0   \n",
       "...                    ...   \n",
       "6397                   0.0   \n",
       "6398                   0.0   \n",
       "6399                   0.0   \n",
       "6400                   0.0   \n",
       "6401                   0.0   \n",
       "\n",
       "      Info_Rcvd Command Complete (Link Key Request Negative Reply)  \\\n",
       "0                                                   0.0              \n",
       "1                                                   0.0              \n",
       "2                                                   0.0              \n",
       "3                                                   1.0              \n",
       "4                                                   0.0              \n",
       "...                                                 ...              \n",
       "6397                                                0.0              \n",
       "6398                                                0.0              \n",
       "6399                                                0.0              \n",
       "6400                                                0.0              \n",
       "6401                                                0.0              \n",
       "\n",
       "      Info_Rcvd Link Key Request  Info_Rcvd Number of Completed Packets  \\\n",
       "0                            1.0                                    0.0   \n",
       "1                            0.0                                    0.0   \n",
       "2                            1.0                                    0.0   \n",
       "3                            0.0                                    0.0   \n",
       "4                            0.0                                    0.0   \n",
       "...                          ...                                    ...   \n",
       "6397                         0.0                                    0.0   \n",
       "6398                         0.0                                    1.0   \n",
       "6399                         0.0                                    0.0   \n",
       "6400                         0.0                                    0.0   \n",
       "6401                         0.0                                    0.0   \n",
       "\n",
       "      Info_Rcvd OBEX fragment  Info_Sent Link Key Request Negative Reply  \\\n",
       "0                         0.0                                        0.0   \n",
       "1                         0.0                                        1.0   \n",
       "2                         0.0                                        0.0   \n",
       "3                         0.0                                        0.0   \n",
       "4                         0.0                                        1.0   \n",
       "...                       ...                                        ...   \n",
       "6397                      0.0                                        0.0   \n",
       "6398                      0.0                                        0.0   \n",
       "6399                      0.0                                        0.0   \n",
       "6400                      0.0                                        0.0   \n",
       "6401                      0.0                                        0.0   \n",
       "\n",
       "      Info_Sent UIH Channel=12 UID   \n",
       "0                               0.0  \n",
       "1                               0.0  \n",
       "2                               0.0  \n",
       "3                               0.0  \n",
       "4                               0.0  \n",
       "...                             ...  \n",
       "6397                            1.0  \n",
       "6398                            0.0  \n",
       "6399                            0.0  \n",
       "6400                            0.0  \n",
       "6401                            0.0  \n",
       "\n",
       "[6244 rows x 27 columns]"
      ]
     },
     "execution_count": 92,
     "metadata": {},
     "output_type": "execute_result"
    }
   ],
   "source": [
    "protocols_columns = data.columns[3:14][((data.corr().iloc[2, 3:14] > 0.1) | (data.corr().iloc[2, 3:14] < -0.1)).values]\n",
    "\n",
    "infos_columns = data.columns[14:240][((data.corr().iloc[2, 14:240] > 0.1) | (data.corr().iloc[2, 14:240] < -0.1)).values]\n",
    "\n",
    "columns = ['Length', 'Delta'] + list(protocols_columns) + list(infos_columns)\n",
    "y_train = data.pop('Type')\n",
    "data = data[columns]\n",
    "\n",
    "data"
   ]
  },
  {
   "cell_type": "markdown",
   "id": "85ef81fa",
   "metadata": {},
   "source": [
    "### 2-8 Test dataset"
   ]
  },
  {
   "cell_type": "markdown",
   "id": "862dcd6b",
   "metadata": {},
   "source": [
    "Since we will later test our models on a test set we will need to check if this set is well prepare."
   ]
  },
  {
   "cell_type": "code",
   "execution_count": 93,
   "id": "fcf58f91",
   "metadata": {},
   "outputs": [
    {
     "data": {
      "text/plain": [
       "array(['FHS', 'LM Received', 'LM Sent', 'LMP_accepted',\n",
       "       'LMP_accepted_ext', 'LMP_au_rand', 'LMP_auto_rate',\n",
       "       'LMP_channel_classification', 'LMP_channel_classification_req',\n",
       "       'LMP_detach', 'LMP_features_req', 'LMP_features_req_ext',\n",
       "       'LMP_features_res', 'LMP_features_res_ext',\n",
       "       'LMP_host_connection_req', 'LMP_max_slot', 'LMP_max_slot_req',\n",
       "       'LMP_not_accepted', 'LMP_not_accepted_ext',\n",
       "       'LMP_packet_type_table_req', 'LMP_power_control_req',\n",
       "       'LMP_power_control_res', 'LMP_set_AFH', 'LMP_setup_complete',\n",
       "       'LMP_timing_accuracy_req', 'LMP_timing_accuracy_res',\n",
       "       'LMP_version_req', 'LMP_version_res',\n",
       "       'Rcvd Command Complete (Link Key Request Negative Reply)',\n",
       "       'Rcvd Command Complete (Write Link Policy Settings)',\n",
       "       'Rcvd Command Complete (Write Scan Enable)',\n",
       "       'Rcvd Command Status (Accept Connection Request)',\n",
       "       'Rcvd Command Status (Change Connection Packet Type)',\n",
       "       'Rcvd Command Status (Read Clock offset)',\n",
       "       'Rcvd Command Status (Read Remote Extended Features)',\n",
       "       'Rcvd Command Status (Read Remote Version Information)',\n",
       "       'Rcvd Connect Complete', 'Rcvd Connect Request',\n",
       "       'Rcvd Disconnect Complete', 'Rcvd LE Meta (LE Advertising Report)',\n",
       "       'Rcvd Link Key Request', 'Rcvd Max Slots Change',\n",
       "       'Rcvd Number of Completed Packets', 'Rcvd OBEX fragment',\n",
       "       'Rcvd Put continue', 'Rcvd Read Clock Offset Complete',\n",
       "       'Rcvd Read Remote Extended Features Complete',\n",
       "       'Rcvd Read Remote Version Information Complete',\n",
       "       'Sent Accept Connection Request',\n",
       "       'Sent Change Connection Packet Type', 'Sent Continue',\n",
       "       'Sent Information Request (Extended Features Mask)',\n",
       "       'Sent Link Key Request Negative Reply', 'Sent Read Clock offset',\n",
       "       'Sent Read Remote Extended Features',\n",
       "       'Sent Read Remote Version Information', 'Sent UIH Channel=12 UID ',\n",
       "       'Sent Write Link Policy Settings', 'Sent Write Scan Enable'],\n",
       "      dtype=object)"
      ]
     },
     "execution_count": 93,
     "metadata": {},
     "output_type": "execute_result"
    }
   ],
   "source": [
    "datatest=pd.read_csv('X_test.csv')\n",
    "datatest['Info'].unique()"
   ]
  },
  {
   "cell_type": "code",
   "execution_count": 94,
   "id": "0ba66e9d",
   "metadata": {},
   "outputs": [
    {
     "data": {
      "text/plain": [
       "array(['Baseband', 'HCI H4 Broadcom', 'LMP', 'HCI_EVT', 'OBEX', 'HCI_CMD',\n",
       "       'L2CAP', 'RFCOMM'], dtype=object)"
      ]
     },
     "execution_count": 94,
     "metadata": {},
     "output_type": "execute_result"
    }
   ],
   "source": [
    "datatest['Protocol'].unique()"
   ]
  },
  {
   "cell_type": "markdown",
   "id": "092e491c",
   "metadata": {},
   "source": [
    "First the features are well edited, we just need to do OneHotEncoder."
   ]
  },
  {
   "cell_type": "code",
   "execution_count": 95,
   "id": "f74ea4da",
   "metadata": {},
   "outputs": [
    {
     "name": "stdout",
     "output_type": "stream",
     "text": [
      "[array(['Baseband', 'HCI H4 Broadcom', 'HCI_CMD', 'HCI_EVT', 'L2CAP',\n",
      "       'LMP', 'OBEX', 'RFCOMM'], dtype=object)]\n",
      "[array(['FHS', 'LM Received', 'LM Sent', 'LMP_accepted',\n",
      "       'LMP_accepted_ext', 'LMP_au_rand', 'LMP_auto_rate',\n",
      "       'LMP_channel_classification', 'LMP_channel_classification_req',\n",
      "       'LMP_detach', 'LMP_features_req', 'LMP_features_req_ext',\n",
      "       'LMP_features_res', 'LMP_features_res_ext',\n",
      "       'LMP_host_connection_req', 'LMP_max_slot', 'LMP_max_slot_req',\n",
      "       'LMP_not_accepted', 'LMP_not_accepted_ext',\n",
      "       'LMP_packet_type_table_req', 'LMP_power_control_req',\n",
      "       'LMP_power_control_res', 'LMP_set_AFH', 'LMP_setup_complete',\n",
      "       'LMP_timing_accuracy_req', 'LMP_timing_accuracy_res',\n",
      "       'LMP_version_req', 'LMP_version_res',\n",
      "       'Rcvd Command Complete (Link Key Request Negative Reply)',\n",
      "       'Rcvd Command Complete (Write Link Policy Settings)',\n",
      "       'Rcvd Command Complete (Write Scan Enable)',\n",
      "       'Rcvd Command Status (Accept Connection Request)',\n",
      "       'Rcvd Command Status (Change Connection Packet Type)',\n",
      "       'Rcvd Command Status (Read Clock offset)',\n",
      "       'Rcvd Command Status (Read Remote Extended Features)',\n",
      "       'Rcvd Command Status (Read Remote Version Information)',\n",
      "       'Rcvd Connect Complete', 'Rcvd Connect Request',\n",
      "       'Rcvd Disconnect Complete', 'Rcvd LE Meta (LE Advertising Report)',\n",
      "       'Rcvd Link Key Request', 'Rcvd Max Slots Change',\n",
      "       'Rcvd Number of Completed Packets', 'Rcvd OBEX fragment',\n",
      "       'Rcvd Put continue', 'Rcvd Read Clock Offset Complete',\n",
      "       'Rcvd Read Remote Extended Features Complete',\n",
      "       'Rcvd Read Remote Version Information Complete',\n",
      "       'Sent Accept Connection Request',\n",
      "       'Sent Change Connection Packet Type', 'Sent Continue',\n",
      "       'Sent Information Request (Extended Features Mask)',\n",
      "       'Sent Link Key Request Negative Reply', 'Sent Read Clock offset',\n",
      "       'Sent Read Remote Extended Features',\n",
      "       'Sent Read Remote Version Information', 'Sent UIH Channel=12 UID ',\n",
      "       'Sent Write Link Policy Settings', 'Sent Write Scan Enable'],\n",
      "      dtype=object)]\n"
     ]
    }
   ],
   "source": [
    "ohe_protocoltest = OneHotEncoder()\n",
    "protocoltest_array = datatest['Protocol'].values.reshape(-1, 1)\n",
    "protocoltest_transformed = ohe_protocoltest.fit_transform(protocoltest_array)\n",
    "print(ohe_protocoltest.categories_)\n",
    "\n",
    "ohe_infotest = OneHotEncoder()\n",
    "infotest_array = datatest['Info'].values.reshape(-1, 1)\n",
    "infotest_transformed = ohe_infotest.fit_transform(infotest_array)\n",
    "print(ohe_infotest.categories_)\n",
    "\n",
    "protocoltest_columns = ohe_protocoltest.get_feature_names_out(['Protocol'])\n",
    "infotest_columns = ohe_infotest.get_feature_names_out(['Info'])\n",
    "\n",
    "protocoltest_df = pd.DataFrame(protocoltest_transformed.toarray(), columns=protocoltest_columns)\n",
    "infotest_df = pd.DataFrame(infotest_transformed.toarray(), columns=infotest_columns)\n",
    "\n",
    "selected_datatest = datatest.iloc[:, 2:] #We don't select the first two columns since they are now split\n",
    "#in as many unique categories they got\n",
    "datatest = pd.concat([selected_datatest, protocoltest_df, infotest_df], axis=1)"
   ]
  },
  {
   "cell_type": "markdown",
   "id": "0b89c1e9",
   "metadata": {},
   "source": [
    "Finally we delete the features that are uninformative for the prediction of the attack or not."
   ]
  },
  {
   "cell_type": "code",
   "execution_count": 96,
   "id": "e8d4b6e0",
   "metadata": {},
   "outputs": [],
   "source": [
    "datatest = datatest[columns]"
   ]
  },
  {
   "cell_type": "code",
   "execution_count": 97,
   "id": "1b656cbd",
   "metadata": {},
   "outputs": [
    {
     "name": "stdout",
     "output_type": "stream",
     "text": [
      "   Length     Delta  Protocol_Baseband  Protocol_HCI_CMD  Protocol_HCI_EVT  \\\n",
      "0      28  1.246406                1.0               0.0               0.0   \n",
      "1      28  1.256744                1.0               0.0               0.0   \n",
      "2      28  0.073231                1.0               0.0               0.0   \n",
      "3      28  0.076976                1.0               0.0               0.0   \n",
      "4      28  1.210525                1.0               0.0               0.0   \n",
      "\n",
      "   Protocol_LMP  Protocol_OBEX  Protocol_RFCOMM  Info_FHS  Info_LMP_au_rand  \\\n",
      "0           0.0            0.0              0.0       1.0               0.0   \n",
      "1           0.0            0.0              0.0       1.0               0.0   \n",
      "2           0.0            0.0              0.0       1.0               0.0   \n",
      "3           0.0            0.0              0.0       1.0               0.0   \n",
      "4           0.0            0.0              0.0       1.0               0.0   \n",
      "\n",
      "   ...  Info_LMP_timing_accuracy_req  Info_LMP_timing_accuracy_res  \\\n",
      "0  ...                           0.0                           0.0   \n",
      "1  ...                           0.0                           0.0   \n",
      "2  ...                           0.0                           0.0   \n",
      "3  ...                           0.0                           0.0   \n",
      "4  ...                           0.0                           0.0   \n",
      "\n",
      "   Info_LMP_version_req  Info_LMP_version_res  \\\n",
      "0                   0.0                   0.0   \n",
      "1                   0.0                   0.0   \n",
      "2                   0.0                   0.0   \n",
      "3                   0.0                   0.0   \n",
      "4                   0.0                   0.0   \n",
      "\n",
      "   Info_Rcvd Command Complete (Link Key Request Negative Reply)  \\\n",
      "0                                                0.0              \n",
      "1                                                0.0              \n",
      "2                                                0.0              \n",
      "3                                                0.0              \n",
      "4                                                0.0              \n",
      "\n",
      "   Info_Rcvd Link Key Request  Info_Rcvd Number of Completed Packets  \\\n",
      "0                         0.0                                    0.0   \n",
      "1                         0.0                                    0.0   \n",
      "2                         0.0                                    0.0   \n",
      "3                         0.0                                    0.0   \n",
      "4                         0.0                                    0.0   \n",
      "\n",
      "   Info_Rcvd OBEX fragment  Info_Sent Link Key Request Negative Reply  \\\n",
      "0                      0.0                                        0.0   \n",
      "1                      0.0                                        0.0   \n",
      "2                      0.0                                        0.0   \n",
      "3                      0.0                                        0.0   \n",
      "4                      0.0                                        0.0   \n",
      "\n",
      "   Info_Sent UIH Channel=12 UID   \n",
      "0                            0.0  \n",
      "1                            0.0  \n",
      "2                            0.0  \n",
      "3                            0.0  \n",
      "4                            0.0  \n",
      "\n",
      "[5 rows x 27 columns]\n"
     ]
    }
   ],
   "source": [
    "print(datatest.head())"
   ]
  },
  {
   "cell_type": "markdown",
   "id": "3e2940bd",
   "metadata": {},
   "source": [
    "## 3 - Model Selection"
   ]
  },
  {
   "cell_type": "markdown",
   "id": "5d1cfa11",
   "metadata": {},
   "source": [
    "We will now use different models to do our prediction. We will start at first with selecting all our features. Let's make our X_train and Y_train dataset."
   ]
  },
  {
   "cell_type": "code",
   "execution_count": 98,
   "id": "729f53f5",
   "metadata": {},
   "outputs": [],
   "source": [
    "X_train = data"
   ]
  },
  {
   "cell_type": "code",
   "execution_count": 99,
   "id": "daa8ade7",
   "metadata": {},
   "outputs": [
    {
     "data": {
      "text/plain": [
       "(6244,)"
      ]
     },
     "execution_count": 99,
     "metadata": {},
     "output_type": "execute_result"
    }
   ],
   "source": [
    "y_train.shape"
   ]
  },
  {
   "cell_type": "code",
   "execution_count": 100,
   "id": "c533be5e",
   "metadata": {},
   "outputs": [
    {
     "data": {
      "text/plain": [
       "(6244, 27)"
      ]
     },
     "execution_count": 100,
     "metadata": {},
     "output_type": "execute_result"
    }
   ],
   "source": [
    "X_train.shape"
   ]
  },
  {
   "cell_type": "markdown",
   "id": "ce1b5e1e",
   "metadata": {},
   "source": [
    "Let's transform them into numpy matrix."
   ]
  },
  {
   "cell_type": "code",
   "execution_count": 101,
   "id": "c532c889",
   "metadata": {},
   "outputs": [],
   "source": [
    "X_train = X_train.values\n",
    "y_train = y_train.values"
   ]
  },
  {
   "cell_type": "markdown",
   "id": "08d48e14",
   "metadata": {},
   "source": [
    "We now need to make our X_test set."
   ]
  },
  {
   "cell_type": "code",
   "execution_count": 102,
   "id": "07d715c1",
   "metadata": {},
   "outputs": [],
   "source": [
    "X_test = datatest"
   ]
  },
  {
   "cell_type": "code",
   "execution_count": 103,
   "id": "b11cbb26",
   "metadata": {},
   "outputs": [
    {
     "data": {
      "text/plain": [
       "(691, 27)"
      ]
     },
     "execution_count": 103,
     "metadata": {},
     "output_type": "execute_result"
    }
   ],
   "source": [
    "X_test.shape"
   ]
  },
  {
   "cell_type": "markdown",
   "id": "c1d83cb5",
   "metadata": {},
   "source": [
    "First to make our analyse precise we need to know if we are working with unbalanced or balanced data. In order to know if it will enhance performance degradation."
   ]
  },
  {
   "cell_type": "code",
   "execution_count": 104,
   "id": "7be8c541",
   "metadata": {
    "scrolled": true
   },
   "outputs": [
    {
     "data": {
      "text/plain": [
       "0    0.640615\n",
       "1    0.359385\n",
       "Name: Type, dtype: float64"
      ]
     },
     "execution_count": 104,
     "metadata": {},
     "output_type": "execute_result"
    }
   ],
   "source": [
    "y_train_df = pd.DataFrame(y_train, columns=['Type'])\n",
    "y_train_df['Type'].value_counts(normalize=True)"
   ]
  },
  {
   "cell_type": "code",
   "execution_count": 105,
   "id": "827154b8",
   "metadata": {},
   "outputs": [
    {
     "data": {
      "text/plain": [
       "<AxesSubplot:xlabel='Type', ylabel='count'>"
      ]
     },
     "execution_count": 105,
     "metadata": {},
     "output_type": "execute_result"
    },
    {
     "data": {
      "image/png": "[encoded data removed]",
      "text/plain": [
       "<Figure size 640x480 with 1 Axes>"
      ]
     },
     "metadata": {},
     "output_type": "display_data"
    }
   ],
   "source": [
    "import seaborn as sns\n",
    "sns.countplot(x=y_train_df[\"Type\"])"
   ]
  },
  {
   "cell_type": "markdown",
   "id": "4538da9f",
   "metadata": {},
   "source": [
    "Fortunately we can see that the data are not unbalanced. Indeed the difference in number of both attack is acceptable."
   ]
  },
  {
   "cell_type": "markdown",
   "id": "2dc5a522",
   "metadata": {},
   "source": [
    "We can now use the model and fit our data. However we will split our data with train set and a validation set using 5-Fold Cross Validation. In this method we are dividing our X_train set in 5 equals folds. Then we will train our model with 4 of the 5 folds and finally calculate it's precision on fold that is left. We repeat this step 5 times by changing each time the validation fold. When training our model we will do multiple runs whith different PolynomialFeatures degrees which will create new \"features\" that will be combination of already existed numerical features (delta, length in our case). It is also highly recommend to normalize the data on the same scale that's why we are also going to Standardize the features.\n",
    "Even if our model is balanced in order to determine the quality of the model we will measure the Sensitivity. Which describe when there is an attack how often we predict that this is an attack. This is the most important thing since we dont want to miss any attack. For all the models our prediction and training will be based on what we just explain. Unless for KNN where the hyperparameters are not only the PolynomialFeatures degree for delta and length."
   ]
  },
  {
   "cell_type": "markdown",
   "id": "82e7d001",
   "metadata": {},
   "source": [
    "Here are the libraries we will use :"
   ]
  },
  {
   "cell_type": "code",
   "execution_count": 106,
   "id": "66a7818c",
   "metadata": {},
   "outputs": [],
   "source": [
    "from sklearn.pipeline import Pipeline\n",
    "from sklearn.model_selection import KFold\n",
    "from sklearn.preprocessing import StandardScaler\n",
    "from sklearn.preprocessing import PolynomialFeatures\n",
    "from sklearn.metrics import confusion_matrix\n",
    "from time import time"
   ]
  },
  {
   "cell_type": "markdown",
   "id": "5d7f2fa9",
   "metadata": {},
   "source": [
    "### 3-1 Logistic Regression"
   ]
  },
  {
   "cell_type": "markdown",
   "id": "6dea1324",
   "metadata": {},
   "source": [
    "The first classification model we will focus on is Logistic Regression."
   ]
  },
  {
   "cell_type": "markdown",
   "id": "ba9fc480",
   "metadata": {},
   "source": [
    "For this model and all the other we got help from https://www.programcreek.com/python/example/119369/pympler.asizeof.asizeof in order to compute the memory usage."
   ]
  },
  {
   "cell_type": "code",
   "execution_count": 107,
   "id": "af46a464",
   "metadata": {
    "scrolled": false
   },
   "outputs": [
    {
     "data": {
      "image/png": "[encoded data removed]",
      "text/plain": [
       "<Figure size 640x480 with 1 Axes>"
      ]
     },
     "metadata": {},
     "output_type": "display_data"
    },
    {
     "name": "stdout",
     "output_type": "stream",
     "text": [
      "[0.9786513911888568, 0.9745971201995067, 0.9755080501922396, 0.9759505280683458, 0.9759505280683458, 0.9755080501922396, 0.9763930059444521, 0.9763930059444521]\n"
     ]
    }
   ],
   "source": [
    "from sklearn.linear_model import LogisticRegression as LogR\n",
    "from sklearn.pipeline import Pipeline\n",
    "from sklearn.model_selection import KFold\n",
    "from sklearn.preprocessing import StandardScaler, PolynomialFeatures\n",
    "from sklearn.metrics import confusion_matrix\n",
    "import matplotlib.pyplot as plt\n",
    "from time import time\n",
    "import warnings\n",
    "from sklearn.exceptions import ConvergenceWarning\n",
    "from pympler import asizeof\n",
    "warnings.filterwarnings(\"ignore\", category=ConvergenceWarning)\n",
    "\n",
    "numerical_features = ['Length', 'Delta']\n",
    "numerical_indices = [0,1]\n",
    "\n",
    "mean_sensitivity_val = []\n",
    "mean_sensitivity_train = []\n",
    "computation_time = []\n",
    "memory_usages = []\n",
    "\n",
    "for i in range(8):\n",
    "    sensitivity_val = []\n",
    "    sensitivity_train = []\n",
    "\n",
    "    kf = KFold(n_splits=5, random_state=1, shuffle=True)\n",
    "    starttime = time()\n",
    "\n",
    "    for train_index, val_index in kf.split(X_train):\n",
    "        X_train_kf, X_val = X_train[train_index], X_train[val_index]\n",
    "        y_train_kf, y_val = y_train[train_index], y_train[val_index]\n",
    "\n",
    "        X_train_num, X_val_num = X_train_kf[:, numerical_indices], X_val[:, numerical_indices]\n",
    "\n",
    "        poly_features = PolynomialFeatures(degree=i + 1, include_bias=True)\n",
    "        X_train_poly = poly_features.fit_transform(X_train_num)\n",
    "        X_val_poly = poly_features.transform(X_val_num)\n",
    "\n",
    "        X_train_poly_all = np.hstack((X_train_poly, X_train_kf))\n",
    "        X_val_poly_all = np.hstack((X_val_poly, X_val))\n",
    "\n",
    "        modelLR = Pipeline(steps=[\n",
    "            ('scaler', StandardScaler()),\n",
    "            ('lr', LogR())\n",
    "        ])\n",
    "\n",
    "        modelLR.fit(X_train_poly_all, y_train_kf)\n",
    "\n",
    "        y_hatval = modelLR.predict(X_val_poly_all)\n",
    "        y_hattrain = modelLR.predict(X_train_poly_all)\n",
    "\n",
    "\n",
    "        conf_matrix_val = confusion_matrix(y_val, y_hatval)\n",
    "        conf_matrix_train = confusion_matrix(y_train_kf, y_hattrain)\n",
    "        sensitivity_val.append(conf_matrix_val[1, 1] / (conf_matrix_val[1, 0] + conf_matrix_val[1, 1]))\n",
    "        sensitivity_train.append(conf_matrix_train[1, 1] / (conf_matrix_train[1, 0] + conf_matrix_train[1, 1]))\n",
    "\n",
    "    pipeline_memory = asizeof.asizeof(modelLR)   \n",
    "    endtime = time() - starttime\n",
    "    computation_time.append(endtime)\n",
    "    memory_usages.append(pipeline_memory)\n",
    "    mean_sensitivity_val.append(np.mean(sensitivity_val))\n",
    "    mean_sensitivity_train.append(np.mean(sensitivity_train))\n",
    "\n",
    "plt.plot(range(1, 9), mean_sensitivity_val, marker='+')\n",
    "plt.xlabel('Degree of Polynomial')\n",
    "plt.ylabel('Sensitivity')\n",
    "plt.title('Sensitivity for Different Polynomial Degrees')\n",
    "plt.show()\n",
    "print(mean_sensitivity_val)"
   ]
  },
  {
   "cell_type": "code",
   "execution_count": 108,
   "id": "cea7eb67",
   "metadata": {},
   "outputs": [
    {
     "name": "stdout",
     "output_type": "stream",
     "text": [
      "Sensitivity train :  97.96084070494948 %\n",
      "Sensitivity validation :  97.86513911888568 %\n",
      "Computation time degree 0 :  0.39331889152526855 s ,Memory used degree 0 :  4.9765625  KiloBytes\n",
      "Computation time degree 1 :  0.3624560832977295 s ,Memory used degree 1 :  5.0703125  KiloBytes\n",
      "Computation time degree 2 :  0.4094679355621338 s ,Memory used degree 2 :  5.1953125  KiloBytes\n",
      "Computation time degree 3 :  0.4163639545440674 s ,Memory used degree 3 :  5.3515625  KiloBytes\n",
      "Computation time degree 4 :  0.40646815299987793 s ,Memory used degree 4 :  5.5390625  KiloBytes\n",
      "Computation time degree 5 :  0.42727208137512207 s ,Memory used degree 5 :  5.7578125  KiloBytes\n",
      "Computation time degree 6 :  0.47225332260131836 s ,Memory used degree 6 :  6.0078125  KiloBytes\n",
      "Computation time degree 7 :  0.5065929889678955 s ,Memory used degree 7 :  6.2890625  KiloBytes\n"
     ]
    }
   ],
   "source": [
    "print(\"Sensitivity train : \",mean_sensitivity_train[0]*100,\"%\")\n",
    "print(\"Sensitivity validation : \",mean_sensitivity_val[0]*100,\"%\")\n",
    "for i in range(0,8):\n",
    "    print(\"Computation time degree\", i,\": \",computation_time[i],\"s\", \",Memory used degree\", i,\": \",memory_usages[i]/1024, \" KiloBytes\")"
   ]
  },
  {
   "cell_type": "markdown",
   "id": "596b2e74",
   "metadata": {},
   "source": [
    "We can see that adding complexity with higher PolynomialFeatures degrees have a slight impact. This come from the trade off between variance and bias. Since adding degrees increase the time calculation but also may take into account some irregularities caused by noise it hence increase the validation error. We will then decide to chose a degree one because for higher degree the sensitivity is decreasing due to overfitting. We also save memory by chosing this degree."
   ]
  },
  {
   "cell_type": "markdown",
   "id": "c6478593",
   "metadata": {},
   "source": [
    "### 3-2 Linear Discriminant Analysis"
   ]
  },
  {
   "cell_type": "markdown",
   "id": "4ad0ce68",
   "metadata": {},
   "source": [
    "The second model we will focus on is LDA."
   ]
  },
  {
   "cell_type": "code",
   "execution_count": 109,
   "id": "6a3596cb",
   "metadata": {},
   "outputs": [
    {
     "data": {
      "image/png": "[encoded data removed]",
      "text/plain": [
       "<Figure size 640x480 with 1 Axes>"
      ]
     },
     "metadata": {},
     "output_type": "display_data"
    },
    {
     "name": "stdout",
     "output_type": "stream",
     "text": [
      "[0.9799849333981113, 0.972475092101957, 0.9683855307225645, 0.9697489494030803, 0.9701973798963539, 0.9706279525381254, 0.9710763830313989, 0.9706279525381254]\n"
     ]
    }
   ],
   "source": [
    "from sklearn.discriminant_analysis import LinearDiscriminantAnalysis as LDA\n",
    "from pympler import asizeof\n",
    "warnings.filterwarnings(\"ignore\", category=ConvergenceWarning)\n",
    "\n",
    "numerical_features = ['Length', 'Delta']\n",
    "numerical_indices = [0,1]\n",
    "\n",
    "mean_sensitivity_val = []\n",
    "mean_sensitivity_train = []\n",
    "computation_time = []\n",
    "memory_usages = []\n",
    "\n",
    "for i in range(8):\n",
    "    sensitivity_val = []\n",
    "    sensitivity_train = []\n",
    "\n",
    "    kf = KFold(n_splits=5, random_state=1, shuffle=True)\n",
    "    starttime = time()\n",
    "\n",
    "    for train_index, val_index in kf.split(X_train):\n",
    "        X_train_kf, X_val = X_train[train_index], X_train[val_index]\n",
    "        y_train_kf, y_val = y_train[train_index], y_train[val_index]\n",
    "\n",
    "        X_train_num, X_val_num = X_train_kf[:, numerical_indices], X_val[:, numerical_indices]\n",
    "\n",
    "        poly_features = PolynomialFeatures(degree=i + 1, include_bias=False)\n",
    "        X_train_poly = poly_features.fit_transform(X_train_num)\n",
    "        X_val_poly = poly_features.transform(X_val_num)\n",
    "\n",
    "        X_train_poly_all = np.hstack((X_train_poly, X_train_kf))\n",
    "        X_val_poly_all = np.hstack((X_val_poly, X_val))\n",
    "\n",
    "        modelLDA = Pipeline(steps=[\n",
    "            ('scaler', StandardScaler()),\n",
    "            ('lda', LDA())\n",
    "        ])\n",
    "\n",
    "        modelLDA.fit(X_train_poly_all, y_train_kf)\n",
    "\n",
    "        y_hatval = modelLDA.predict(X_val_poly_all)\n",
    "        y_hattrain = modelLDA.predict(X_train_poly_all)\n",
    "\n",
    "\n",
    "        conf_matrix_val = confusion_matrix(y_val, y_hatval)\n",
    "        conf_matrix_train = confusion_matrix(y_train_kf, y_hattrain)\n",
    "        sensitivity_val.append(conf_matrix_val[1, 1] / (conf_matrix_val[1, 0] + conf_matrix_val[1, 1]))\n",
    "        sensitivity_train.append(conf_matrix_train[1, 1] / (conf_matrix_train[1, 0] + conf_matrix_train[1, 1]))\n",
    "\n",
    "    pipeline_memory = asizeof.asizeof(modelLDA)\n",
    "    memory_usages.append(pipeline_memory)\n",
    "    endtime = time() - starttime\n",
    "    computation_time.append(endtime)\n",
    "    mean_sensitivity_val.append(np.mean(sensitivity_val))\n",
    "    mean_sensitivity_train.append(np.mean(sensitivity_train))\n",
    "\n",
    "plt.plot(range(1, 9), mean_sensitivity_val, marker='+')\n",
    "plt.xlabel('Degree of Polynomial')\n",
    "plt.ylabel('Sensitivity')\n",
    "plt.title('Sensitivity for Different Polynomial Degrees')\n",
    "plt.show()\n",
    "print(mean_sensitivity_val)"
   ]
  },
  {
   "cell_type": "code",
   "execution_count": 110,
   "id": "0d6c1ae5",
   "metadata": {},
   "outputs": [
    {
     "name": "stdout",
     "output_type": "stream",
     "text": [
      "Sensitivity train :  98.06125089071018 %\n",
      "Sensitivity validation :  97.99849333981113 %\n",
      "Computation time degree 0 :  0.29833984375 s ,Memory used degree 0 :  6.0703125  KiloBytes\n",
      "Computation time degree 1 :  0.17837905883789062 s ,Memory used degree 1 :  6.2578125  KiloBytes\n",
      "Computation time degree 2 :  0.1705636978149414 s ,Memory used degree 2 :  6.5078125  KiloBytes\n",
      "Computation time degree 3 :  0.2478179931640625 s ,Memory used degree 3 :  6.8203125  KiloBytes\n",
      "Computation time degree 4 :  0.2503190040588379 s ,Memory used degree 4 :  7.1953125  KiloBytes\n",
      "Computation time degree 5 :  0.25496721267700195 s ,Memory used degree 5 :  7.6328125  KiloBytes\n",
      "Computation time degree 6 :  0.2950739860534668 s ,Memory used degree 6 :  8.1328125  KiloBytes\n",
      "Computation time degree 7 :  0.34537696838378906 s ,Memory used degree 7 :  8.6953125  KiloBytes\n"
     ]
    }
   ],
   "source": [
    "print(\"Sensitivity train : \",mean_sensitivity_train[0]*100,\"%\")\n",
    "print(\"Sensitivity validation : \",mean_sensitivity_val[0]*100,\"%\")\n",
    "for i in range(0,8):\n",
    "    print(\"Computation time degree\", i,\": \",computation_time[i],\"s\", \",Memory used degree\", i,\": \",memory_usages[i]/1024, \" KiloBytes\")"
   ]
  },
  {
   "cell_type": "markdown",
   "id": "517d8d8a",
   "metadata": {},
   "source": [
    "In case of LDA we can see that the best degree will be for a degree one. For the same reason as LR increasing the degree and complexity leads into decreasing the sensitivity."
   ]
  },
  {
   "cell_type": "markdown",
   "id": "f5db9618",
   "metadata": {},
   "source": [
    "### 3-3 KNN"
   ]
  },
  {
   "cell_type": "markdown",
   "id": "19e46e9d",
   "metadata": {},
   "source": [
    "Finally we will test our model with KNN. As explain above for this model we need to take a look at other parameters. With KNN we need to take in consideration the formula with which we calculate the distances between two points, how many neighbors we will look at to determine the class and finally a weight to make the points that are the farest have less impact.\n",
    "We will consider two types of distances : Euclidean, Manhattan.\n",
    "We will consider a set of odd numbers for the number of neighbors."
   ]
  },
  {
   "cell_type": "markdown",
   "id": "84e74217",
   "metadata": {},
   "source": [
    "We will use the library GridSearchCV to find the best hyperparameter for KNN."
   ]
  },
  {
   "cell_type": "code",
   "execution_count": 111,
   "id": "b153c808",
   "metadata": {},
   "outputs": [],
   "source": [
    "from sklearn.model_selection import GridSearchCV"
   ]
  },
  {
   "cell_type": "code",
   "execution_count": 112,
   "id": "e114fb62",
   "metadata": {},
   "outputs": [
    {
     "name": "stdout",
     "output_type": "stream",
     "text": [
      "Fitting 5 folds for each of 16 candidates, totalling 80 fits\n"
     ]
    },
    {
     "name": "stderr",
     "output_type": "stream",
     "text": [
      "/opt/anaconda3/lib/python3.9/site-packages/sklearn/neighbors/_classification.py:228: FutureWarning: Unlike other reduction functions (e.g. `skew`, `kurtosis`), the default behavior of `mode` typically preserves the axis it acts along. In SciPy 1.11.0, this behavior will change: the default value of `keepdims` will become False, the `axis` over which the statistic is taken will be eliminated, and the value None will no longer be accepted. Set `keepdims` to True or False to avoid this warning.\n",
      "  mode, _ = stats.mode(_y[neigh_ind, k], axis=1)\n",
      "/opt/anaconda3/lib/python3.9/site-packages/sklearn/neighbors/_classification.py:228: FutureWarning: Unlike other reduction functions (e.g. `skew`, `kurtosis`), the default behavior of `mode` typically preserves the axis it acts along. In SciPy 1.11.0, this behavior will change: the default value of `keepdims` will become False, the `axis` over which the statistic is taken will be eliminated, and the value None will no longer be accepted. Set `keepdims` to True or False to avoid this warning.\n",
      "  mode, _ = stats.mode(_y[neigh_ind, k], axis=1)\n",
      "/opt/anaconda3/lib/python3.9/site-packages/sklearn/neighbors/_classification.py:228: FutureWarning: Unlike other reduction functions (e.g. `skew`, `kurtosis`), the default behavior of `mode` typically preserves the axis it acts along. In SciPy 1.11.0, this behavior will change: the default value of `keepdims` will become False, the `axis` over which the statistic is taken will be eliminated, and the value None will no longer be accepted. Set `keepdims` to True or False to avoid this warning.\n",
      "  mode, _ = stats.mode(_y[neigh_ind, k], axis=1)\n",
      "/opt/anaconda3/lib/python3.9/site-packages/sklearn/neighbors/_classification.py:228: FutureWarning: Unlike other reduction functions (e.g. `skew`, `kurtosis`), the default behavior of `mode` typically preserves the axis it acts along. In SciPy 1.11.0, this behavior will change: the default value of `keepdims` will become False, the `axis` over which the statistic is taken will be eliminated, and the value None will no longer be accepted. Set `keepdims` to True or False to avoid this warning.\n",
      "  mode, _ = stats.mode(_y[neigh_ind, k], axis=1)\n",
      "/opt/anaconda3/lib/python3.9/site-packages/sklearn/neighbors/_classification.py:228: FutureWarning: Unlike other reduction functions (e.g. `skew`, `kurtosis`), the default behavior of `mode` typically preserves the axis it acts along. In SciPy 1.11.0, this behavior will change: the default value of `keepdims` will become False, the `axis` over which the statistic is taken will be eliminated, and the value None will no longer be accepted. Set `keepdims` to True or False to avoid this warning.\n",
      "  mode, _ = stats.mode(_y[neigh_ind, k], axis=1)\n",
      "/opt/anaconda3/lib/python3.9/site-packages/sklearn/neighbors/_classification.py:228: FutureWarning: Unlike other reduction functions (e.g. `skew`, `kurtosis`), the default behavior of `mode` typically preserves the axis it acts along. In SciPy 1.11.0, this behavior will change: the default value of `keepdims` will become False, the `axis` over which the statistic is taken will be eliminated, and the value None will no longer be accepted. Set `keepdims` to True or False to avoid this warning.\n",
      "  mode, _ = stats.mode(_y[neigh_ind, k], axis=1)\n",
      "/opt/anaconda3/lib/python3.9/site-packages/sklearn/neighbors/_classification.py:228: FutureWarning: Unlike other reduction functions (e.g. `skew`, `kurtosis`), the default behavior of `mode` typically preserves the axis it acts along. In SciPy 1.11.0, this behavior will change: the default value of `keepdims` will become False, the `axis` over which the statistic is taken will be eliminated, and the value None will no longer be accepted. Set `keepdims` to True or False to avoid this warning.\n",
      "  mode, _ = stats.mode(_y[neigh_ind, k], axis=1)\n",
      "/opt/anaconda3/lib/python3.9/site-packages/sklearn/neighbors/_classification.py:228: FutureWarning: Unlike other reduction functions (e.g. `skew`, `kurtosis`), the default behavior of `mode` typically preserves the axis it acts along. In SciPy 1.11.0, this behavior will change: the default value of `keepdims` will become False, the `axis` over which the statistic is taken will be eliminated, and the value None will no longer be accepted. Set `keepdims` to True or False to avoid this warning.\n",
      "  mode, _ = stats.mode(_y[neigh_ind, k], axis=1)\n",
      "/opt/anaconda3/lib/python3.9/site-packages/sklearn/neighbors/_classification.py:228: FutureWarning: Unlike other reduction functions (e.g. `skew`, `kurtosis`), the default behavior of `mode` typically preserves the axis it acts along. In SciPy 1.11.0, this behavior will change: the default value of `keepdims` will become False, the `axis` over which the statistic is taken will be eliminated, and the value None will no longer be accepted. Set `keepdims` to True or False to avoid this warning.\n",
      "  mode, _ = stats.mode(_y[neigh_ind, k], axis=1)\n",
      "/opt/anaconda3/lib/python3.9/site-packages/sklearn/neighbors/_classification.py:228: FutureWarning: Unlike other reduction functions (e.g. `skew`, `kurtosis`), the default behavior of `mode` typically preserves the axis it acts along. In SciPy 1.11.0, this behavior will change: the default value of `keepdims` will become False, the `axis` over which the statistic is taken will be eliminated, and the value None will no longer be accepted. Set `keepdims` to True or False to avoid this warning.\n",
      "  mode, _ = stats.mode(_y[neigh_ind, k], axis=1)\n",
      "/opt/anaconda3/lib/python3.9/site-packages/sklearn/neighbors/_classification.py:228: FutureWarning: Unlike other reduction functions (e.g. `skew`, `kurtosis`), the default behavior of `mode` typically preserves the axis it acts along. In SciPy 1.11.0, this behavior will change: the default value of `keepdims` will become False, the `axis` over which the statistic is taken will be eliminated, and the value None will no longer be accepted. Set `keepdims` to True or False to avoid this warning.\n",
      "  mode, _ = stats.mode(_y[neigh_ind, k], axis=1)\n",
      "/opt/anaconda3/lib/python3.9/site-packages/sklearn/neighbors/_classification.py:228: FutureWarning: Unlike other reduction functions (e.g. `skew`, `kurtosis`), the default behavior of `mode` typically preserves the axis it acts along. In SciPy 1.11.0, this behavior will change: the default value of `keepdims` will become False, the `axis` over which the statistic is taken will be eliminated, and the value None will no longer be accepted. Set `keepdims` to True or False to avoid this warning.\n",
      "  mode, _ = stats.mode(_y[neigh_ind, k], axis=1)\n",
      "/opt/anaconda3/lib/python3.9/site-packages/sklearn/neighbors/_classification.py:228: FutureWarning: Unlike other reduction functions (e.g. `skew`, `kurtosis`), the default behavior of `mode` typically preserves the axis it acts along. In SciPy 1.11.0, this behavior will change: the default value of `keepdims` will become False, the `axis` over which the statistic is taken will be eliminated, and the value None will no longer be accepted. Set `keepdims` to True or False to avoid this warning.\n",
      "  mode, _ = stats.mode(_y[neigh_ind, k], axis=1)\n",
      "/opt/anaconda3/lib/python3.9/site-packages/sklearn/neighbors/_classification.py:228: FutureWarning: Unlike other reduction functions (e.g. `skew`, `kurtosis`), the default behavior of `mode` typically preserves the axis it acts along. In SciPy 1.11.0, this behavior will change: the default value of `keepdims` will become False, the `axis` over which the statistic is taken will be eliminated, and the value None will no longer be accepted. Set `keepdims` to True or False to avoid this warning.\n",
      "  mode, _ = stats.mode(_y[neigh_ind, k], axis=1)\n",
      "/opt/anaconda3/lib/python3.9/site-packages/sklearn/neighbors/_classification.py:228: FutureWarning: Unlike other reduction functions (e.g. `skew`, `kurtosis`), the default behavior of `mode` typically preserves the axis it acts along. In SciPy 1.11.0, this behavior will change: the default value of `keepdims` will become False, the `axis` over which the statistic is taken will be eliminated, and the value None will no longer be accepted. Set `keepdims` to True or False to avoid this warning.\n",
      "  mode, _ = stats.mode(_y[neigh_ind, k], axis=1)\n",
      "/opt/anaconda3/lib/python3.9/site-packages/sklearn/neighbors/_classification.py:228: FutureWarning: Unlike other reduction functions (e.g. `skew`, `kurtosis`), the default behavior of `mode` typically preserves the axis it acts along. In SciPy 1.11.0, this behavior will change: the default value of `keepdims` will become False, the `axis` over which the statistic is taken will be eliminated, and the value None will no longer be accepted. Set `keepdims` to True or False to avoid this warning.\n",
      "  mode, _ = stats.mode(_y[neigh_ind, k], axis=1)\n",
      "/opt/anaconda3/lib/python3.9/site-packages/sklearn/neighbors/_classification.py:228: FutureWarning: Unlike other reduction functions (e.g. `skew`, `kurtosis`), the default behavior of `mode` typically preserves the axis it acts along. In SciPy 1.11.0, this behavior will change: the default value of `keepdims` will become False, the `axis` over which the statistic is taken will be eliminated, and the value None will no longer be accepted. Set `keepdims` to True or False to avoid this warning.\n",
      "  mode, _ = stats.mode(_y[neigh_ind, k], axis=1)\n",
      "/opt/anaconda3/lib/python3.9/site-packages/sklearn/neighbors/_classification.py:228: FutureWarning: Unlike other reduction functions (e.g. `skew`, `kurtosis`), the default behavior of `mode` typically preserves the axis it acts along. In SciPy 1.11.0, this behavior will change: the default value of `keepdims` will become False, the `axis` over which the statistic is taken will be eliminated, and the value None will no longer be accepted. Set `keepdims` to True or False to avoid this warning.\n",
      "  mode, _ = stats.mode(_y[neigh_ind, k], axis=1)\n"
     ]
    },
    {
     "name": "stderr",
     "output_type": "stream",
     "text": [
      "/opt/anaconda3/lib/python3.9/site-packages/sklearn/neighbors/_classification.py:228: FutureWarning: Unlike other reduction functions (e.g. `skew`, `kurtosis`), the default behavior of `mode` typically preserves the axis it acts along. In SciPy 1.11.0, this behavior will change: the default value of `keepdims` will become False, the `axis` over which the statistic is taken will be eliminated, and the value None will no longer be accepted. Set `keepdims` to True or False to avoid this warning.\n",
      "  mode, _ = stats.mode(_y[neigh_ind, k], axis=1)\n",
      "/opt/anaconda3/lib/python3.9/site-packages/sklearn/neighbors/_classification.py:228: FutureWarning: Unlike other reduction functions (e.g. `skew`, `kurtosis`), the default behavior of `mode` typically preserves the axis it acts along. In SciPy 1.11.0, this behavior will change: the default value of `keepdims` will become False, the `axis` over which the statistic is taken will be eliminated, and the value None will no longer be accepted. Set `keepdims` to True or False to avoid this warning.\n",
      "  mode, _ = stats.mode(_y[neigh_ind, k], axis=1)\n",
      "/opt/anaconda3/lib/python3.9/site-packages/sklearn/neighbors/_classification.py:228: FutureWarning: Unlike other reduction functions (e.g. `skew`, `kurtosis`), the default behavior of `mode` typically preserves the axis it acts along. In SciPy 1.11.0, this behavior will change: the default value of `keepdims` will become False, the `axis` over which the statistic is taken will be eliminated, and the value None will no longer be accepted. Set `keepdims` to True or False to avoid this warning.\n",
      "  mode, _ = stats.mode(_y[neigh_ind, k], axis=1)\n",
      "/opt/anaconda3/lib/python3.9/site-packages/sklearn/neighbors/_classification.py:228: FutureWarning: Unlike other reduction functions (e.g. `skew`, `kurtosis`), the default behavior of `mode` typically preserves the axis it acts along. In SciPy 1.11.0, this behavior will change: the default value of `keepdims` will become False, the `axis` over which the statistic is taken will be eliminated, and the value None will no longer be accepted. Set `keepdims` to True or False to avoid this warning.\n",
      "  mode, _ = stats.mode(_y[neigh_ind, k], axis=1)\n",
      "/opt/anaconda3/lib/python3.9/site-packages/sklearn/neighbors/_classification.py:228: FutureWarning: Unlike other reduction functions (e.g. `skew`, `kurtosis`), the default behavior of `mode` typically preserves the axis it acts along. In SciPy 1.11.0, this behavior will change: the default value of `keepdims` will become False, the `axis` over which the statistic is taken will be eliminated, and the value None will no longer be accepted. Set `keepdims` to True or False to avoid this warning.\n",
      "  mode, _ = stats.mode(_y[neigh_ind, k], axis=1)\n",
      "/opt/anaconda3/lib/python3.9/site-packages/sklearn/neighbors/_classification.py:228: FutureWarning: Unlike other reduction functions (e.g. `skew`, `kurtosis`), the default behavior of `mode` typically preserves the axis it acts along. In SciPy 1.11.0, this behavior will change: the default value of `keepdims` will become False, the `axis` over which the statistic is taken will be eliminated, and the value None will no longer be accepted. Set `keepdims` to True or False to avoid this warning.\n",
      "  mode, _ = stats.mode(_y[neigh_ind, k], axis=1)\n",
      "/opt/anaconda3/lib/python3.9/site-packages/sklearn/neighbors/_classification.py:228: FutureWarning: Unlike other reduction functions (e.g. `skew`, `kurtosis`), the default behavior of `mode` typically preserves the axis it acts along. In SciPy 1.11.0, this behavior will change: the default value of `keepdims` will become False, the `axis` over which the statistic is taken will be eliminated, and the value None will no longer be accepted. Set `keepdims` to True or False to avoid this warning.\n",
      "  mode, _ = stats.mode(_y[neigh_ind, k], axis=1)\n",
      "/opt/anaconda3/lib/python3.9/site-packages/sklearn/neighbors/_classification.py:228: FutureWarning: Unlike other reduction functions (e.g. `skew`, `kurtosis`), the default behavior of `mode` typically preserves the axis it acts along. In SciPy 1.11.0, this behavior will change: the default value of `keepdims` will become False, the `axis` over which the statistic is taken will be eliminated, and the value None will no longer be accepted. Set `keepdims` to True or False to avoid this warning.\n",
      "  mode, _ = stats.mode(_y[neigh_ind, k], axis=1)\n",
      "/opt/anaconda3/lib/python3.9/site-packages/sklearn/neighbors/_classification.py:228: FutureWarning: Unlike other reduction functions (e.g. `skew`, `kurtosis`), the default behavior of `mode` typically preserves the axis it acts along. In SciPy 1.11.0, this behavior will change: the default value of `keepdims` will become False, the `axis` over which the statistic is taken will be eliminated, and the value None will no longer be accepted. Set `keepdims` to True or False to avoid this warning.\n",
      "  mode, _ = stats.mode(_y[neigh_ind, k], axis=1)\n",
      "/opt/anaconda3/lib/python3.9/site-packages/sklearn/neighbors/_classification.py:228: FutureWarning: Unlike other reduction functions (e.g. `skew`, `kurtosis`), the default behavior of `mode` typically preserves the axis it acts along. In SciPy 1.11.0, this behavior will change: the default value of `keepdims` will become False, the `axis` over which the statistic is taken will be eliminated, and the value None will no longer be accepted. Set `keepdims` to True or False to avoid this warning.\n",
      "  mode, _ = stats.mode(_y[neigh_ind, k], axis=1)\n",
      "/opt/anaconda3/lib/python3.9/site-packages/sklearn/neighbors/_classification.py:228: FutureWarning: Unlike other reduction functions (e.g. `skew`, `kurtosis`), the default behavior of `mode` typically preserves the axis it acts along. In SciPy 1.11.0, this behavior will change: the default value of `keepdims` will become False, the `axis` over which the statistic is taken will be eliminated, and the value None will no longer be accepted. Set `keepdims` to True or False to avoid this warning.\n",
      "  mode, _ = stats.mode(_y[neigh_ind, k], axis=1)\n",
      "/opt/anaconda3/lib/python3.9/site-packages/sklearn/neighbors/_classification.py:228: FutureWarning: Unlike other reduction functions (e.g. `skew`, `kurtosis`), the default behavior of `mode` typically preserves the axis it acts along. In SciPy 1.11.0, this behavior will change: the default value of `keepdims` will become False, the `axis` over which the statistic is taken will be eliminated, and the value None will no longer be accepted. Set `keepdims` to True or False to avoid this warning.\n",
      "  mode, _ = stats.mode(_y[neigh_ind, k], axis=1)\n",
      "/opt/anaconda3/lib/python3.9/site-packages/sklearn/neighbors/_classification.py:228: FutureWarning: Unlike other reduction functions (e.g. `skew`, `kurtosis`), the default behavior of `mode` typically preserves the axis it acts along. In SciPy 1.11.0, this behavior will change: the default value of `keepdims` will become False, the `axis` over which the statistic is taken will be eliminated, and the value None will no longer be accepted. Set `keepdims` to True or False to avoid this warning.\n",
      "  mode, _ = stats.mode(_y[neigh_ind, k], axis=1)\n",
      "/opt/anaconda3/lib/python3.9/site-packages/sklearn/neighbors/_classification.py:228: FutureWarning: Unlike other reduction functions (e.g. `skew`, `kurtosis`), the default behavior of `mode` typically preserves the axis it acts along. In SciPy 1.11.0, this behavior will change: the default value of `keepdims` will become False, the `axis` over which the statistic is taken will be eliminated, and the value None will no longer be accepted. Set `keepdims` to True or False to avoid this warning.\n",
      "  mode, _ = stats.mode(_y[neigh_ind, k], axis=1)\n",
      "/opt/anaconda3/lib/python3.9/site-packages/sklearn/neighbors/_classification.py:228: FutureWarning: Unlike other reduction functions (e.g. `skew`, `kurtosis`), the default behavior of `mode` typically preserves the axis it acts along. In SciPy 1.11.0, this behavior will change: the default value of `keepdims` will become False, the `axis` over which the statistic is taken will be eliminated, and the value None will no longer be accepted. Set `keepdims` to True or False to avoid this warning.\n",
      "  mode, _ = stats.mode(_y[neigh_ind, k], axis=1)\n",
      "/opt/anaconda3/lib/python3.9/site-packages/sklearn/neighbors/_classification.py:228: FutureWarning: Unlike other reduction functions (e.g. `skew`, `kurtosis`), the default behavior of `mode` typically preserves the axis it acts along. In SciPy 1.11.0, this behavior will change: the default value of `keepdims` will become False, the `axis` over which the statistic is taken will be eliminated, and the value None will no longer be accepted. Set `keepdims` to True or False to avoid this warning.\n",
      "  mode, _ = stats.mode(_y[neigh_ind, k], axis=1)\n",
      "/opt/anaconda3/lib/python3.9/site-packages/sklearn/neighbors/_classification.py:228: FutureWarning: Unlike other reduction functions (e.g. `skew`, `kurtosis`), the default behavior of `mode` typically preserves the axis it acts along. In SciPy 1.11.0, this behavior will change: the default value of `keepdims` will become False, the `axis` over which the statistic is taken will be eliminated, and the value None will no longer be accepted. Set `keepdims` to True or False to avoid this warning.\n",
      "  mode, _ = stats.mode(_y[neigh_ind, k], axis=1)\n"
     ]
    },
    {
     "name": "stderr",
     "output_type": "stream",
     "text": [
      "/opt/anaconda3/lib/python3.9/site-packages/sklearn/neighbors/_classification.py:228: FutureWarning: Unlike other reduction functions (e.g. `skew`, `kurtosis`), the default behavior of `mode` typically preserves the axis it acts along. In SciPy 1.11.0, this behavior will change: the default value of `keepdims` will become False, the `axis` over which the statistic is taken will be eliminated, and the value None will no longer be accepted. Set `keepdims` to True or False to avoid this warning.\n",
      "  mode, _ = stats.mode(_y[neigh_ind, k], axis=1)\n",
      "/opt/anaconda3/lib/python3.9/site-packages/sklearn/neighbors/_classification.py:228: FutureWarning: Unlike other reduction functions (e.g. `skew`, `kurtosis`), the default behavior of `mode` typically preserves the axis it acts along. In SciPy 1.11.0, this behavior will change: the default value of `keepdims` will become False, the `axis` over which the statistic is taken will be eliminated, and the value None will no longer be accepted. Set `keepdims` to True or False to avoid this warning.\n",
      "  mode, _ = stats.mode(_y[neigh_ind, k], axis=1)\n",
      "/opt/anaconda3/lib/python3.9/site-packages/sklearn/neighbors/_classification.py:228: FutureWarning: Unlike other reduction functions (e.g. `skew`, `kurtosis`), the default behavior of `mode` typically preserves the axis it acts along. In SciPy 1.11.0, this behavior will change: the default value of `keepdims` will become False, the `axis` over which the statistic is taken will be eliminated, and the value None will no longer be accepted. Set `keepdims` to True or False to avoid this warning.\n",
      "  mode, _ = stats.mode(_y[neigh_ind, k], axis=1)\n",
      "/opt/anaconda3/lib/python3.9/site-packages/sklearn/neighbors/_classification.py:228: FutureWarning: Unlike other reduction functions (e.g. `skew`, `kurtosis`), the default behavior of `mode` typically preserves the axis it acts along. In SciPy 1.11.0, this behavior will change: the default value of `keepdims` will become False, the `axis` over which the statistic is taken will be eliminated, and the value None will no longer be accepted. Set `keepdims` to True or False to avoid this warning.\n",
      "  mode, _ = stats.mode(_y[neigh_ind, k], axis=1)\n",
      "/opt/anaconda3/lib/python3.9/site-packages/sklearn/neighbors/_classification.py:228: FutureWarning: Unlike other reduction functions (e.g. `skew`, `kurtosis`), the default behavior of `mode` typically preserves the axis it acts along. In SciPy 1.11.0, this behavior will change: the default value of `keepdims` will become False, the `axis` over which the statistic is taken will be eliminated, and the value None will no longer be accepted. Set `keepdims` to True or False to avoid this warning.\n",
      "  mode, _ = stats.mode(_y[neigh_ind, k], axis=1)\n"
     ]
    },
    {
     "data": {
      "text/plain": [
       "{'classifier__metric': 'manhattan',\n",
       " 'classifier__n_neighbors': 5,\n",
       " 'classifier__weights': 'distance'}"
      ]
     },
     "execution_count": 112,
     "metadata": {},
     "output_type": "execute_result"
    }
   ],
   "source": [
    "from sklearn.neighbors import KNeighborsClassifier\n",
    "\n",
    "KNN = Pipeline(steps=[('scaler', StandardScaler()),\n",
    "                                    ('poly', PolynomialFeatures(1)),\n",
    "                                    ('classifier', KNeighborsClassifier())])\n",
    "        \n",
    "parameters = {\n",
    "        'classifier__n_neighbors': [5,7,9,11],\n",
    "        'classifier__weights' : ['uniform','distance'],\n",
    "        'classifier__metric' : ['euclidean','manhattan']\n",
    "            }\n",
    "        \n",
    "grid_search = GridSearchCV(KNN, parameters, cv=5,verbose=1,n_jobs=-1)\n",
    "grid_search.fit(X_train, y_train)\n",
    "grid_search.best_params_"
   ]
  },
  {
   "cell_type": "markdown",
   "id": "b828c88b",
   "metadata": {},
   "source": [
    "Now that we know what are the best hyperparameters we will fit them in our model and do the same process as before to determine the best degree for the PolynomialFeature."
   ]
  },
  {
   "cell_type": "code",
   "execution_count": 113,
   "id": "6a195310",
   "metadata": {},
   "outputs": [
    {
     "data": {
      "image/png": "[encoded data removed]",
      "text/plain": [
       "<Figure size 640x480 with 1 Axes>"
      ]
     },
     "metadata": {},
     "output_type": "display_data"
    },
    {
     "name": "stdout",
     "output_type": "stream",
     "text": [
      "[0.96656931679803, 0.9679086556606833]\n"
     ]
    }
   ],
   "source": [
    "numerical_features = ['Length', 'Delta']\n",
    "numerical_indices = [0,1]\n",
    "\n",
    "mean_sensitivity_val = []\n",
    "mean_sensitivity_train = []\n",
    "computation_time = []\n",
    "memory_usages = []\n",
    "\n",
    "for i in range(2):\n",
    "    sensitivity_val = []\n",
    "    sensitivity_train = []\n",
    "\n",
    "    kf = KFold(n_splits=5, random_state=1, shuffle=True)\n",
    "    starttime = time()\n",
    "\n",
    "    for train_index, val_index in kf.split(X_train):\n",
    "        X_train_kf, X_val = X_train[train_index], X_train[val_index]\n",
    "        y_train_kf, y_val = y_train[train_index], y_train[val_index]\n",
    "\n",
    "        X_train_num, X_val_num = X_train_kf[:, numerical_indices], X_val[:, numerical_indices]\n",
    "\n",
    "        poly_features = PolynomialFeatures(degree=i + 1, include_bias=False)\n",
    "        X_train_poly = poly_features.fit_transform(X_train_num)\n",
    "        X_val_poly = poly_features.transform(X_val_num)\n",
    "\n",
    "        X_train_poly_all = np.hstack((X_train_poly, X_train_kf))\n",
    "        X_val_poly_all = np.hstack((X_val_poly, X_val))\n",
    "\n",
    "        modelKNN = Pipeline(steps=[('scaler', StandardScaler()),\n",
    "                        ('poly', PolynomialFeatures(i+1)), \n",
    "                        ('KNN', KNeighborsClassifier(n_neighbors=5,metric='manhattan',weights='distance'))])\n",
    "        \n",
    "        modelKNN.fit(X_train_poly_all, y_train_kf)\n",
    "\n",
    "        y_hatval = modelKNN.predict(X_val_poly_all)\n",
    "        y_hattrain = modelKNN.predict(X_train_poly_all)\n",
    "\n",
    "\n",
    "        conf_matrix_val = confusion_matrix(y_val, y_hatval)\n",
    "        conf_matrix_train = confusion_matrix(y_train_kf, y_hattrain)\n",
    "        sensitivity_val.append(conf_matrix_val[1, 1] / (conf_matrix_val[1, 0] + conf_matrix_val[1, 1]))\n",
    "        sensitivity_train.append(conf_matrix_train[1, 1] / (conf_matrix_train[1, 0] + conf_matrix_train[1, 1]))\n",
    "\n",
    "    pipeline_memory = asizeof.asizeof(modelKNN)\n",
    "    memory_usages.append(pipeline_memory)\n",
    "    endtime = time() - starttime\n",
    "    computation_time.append(endtime)\n",
    "    mean_sensitivity_val.append(np.mean(sensitivity_val))\n",
    "    mean_sensitivity_train.append(np.mean(sensitivity_train))\n",
    "\n",
    "plt.plot(range(1, 3), mean_sensitivity_val, marker='+')\n",
    "plt.xlabel('Degree of Polynomial')\n",
    "plt.ylabel('Sensitivity')\n",
    "plt.title('Sensitivity for Different Polynomial Degrees')\n",
    "plt.show()\n",
    "print(mean_sensitivity_val)"
   ]
  },
  {
   "cell_type": "code",
   "execution_count": 114,
   "id": "69371145",
   "metadata": {},
   "outputs": [
    {
     "name": "stdout",
     "output_type": "stream",
     "text": [
      "Sensitivity train :  99.82165061969354 %\n",
      "Sensitivity validation :  96.79086556606833 %\n",
      "Computation time degree 1 :  5.922292947769165 s ,Memory used degree 1 :  1215.890625  KiloBytes\n",
      "Computation time degree 2 :  66.071133852005 s ,Memory used degree 1 :  21941.6171875  KiloBytes\n"
     ]
    }
   ],
   "source": [
    "print(\"Sensitivity train : \",mean_sensitivity_train[0]*100,\"%\")\n",
    "print(\"Sensitivity validation : \",mean_sensitivity_val[1]*100,\"%\")\n",
    "print(\"Computation time degree 1 : \",computation_time[0],\"s\", \",Memory used degree 1 : \",memory_usages[0]/1024, \" KiloBytes\")\n",
    "print(\"Computation time degree 2 : \",computation_time[1],\"s\", \",Memory used degree 1 : \",memory_usages[1]/1024, \" KiloBytes\")"
   ]
  },
  {
   "cell_type": "markdown",
   "id": "ac6ec1ae",
   "metadata": {},
   "source": [
    "We can see that the sensitivity for the validation is smaller than LDA and LR. Moreover the computation time is way higer. However it seems that getting higher degree may lead to higher sensitivity. Unfortunately since the computation time will be too high as well as the memory usage we consider that the trade-off is not worth it."
   ]
  },
  {
   "cell_type": "markdown",
   "id": "f6582394",
   "metadata": {},
   "source": [
    "### 3-4 Decision tree"
   ]
  },
  {
   "cell_type": "markdown",
   "id": "11963bcc",
   "metadata": {},
   "source": [
    "By looking at some other classifications models scikit-learn we are interrested in implemanting the Decision Tree model which is also a multi-class classification model."
   ]
  },
  {
   "cell_type": "code",
   "execution_count": 115,
   "id": "c7f006bb",
   "metadata": {},
   "outputs": [
    {
     "data": {
      "image/png": "[encoded data removed]",
      "text/plain": [
       "<Figure size 640x480 with 1 Axes>"
      ]
     },
     "metadata": {},
     "output_type": "display_data"
    },
    {
     "name": "stdout",
     "output_type": "stream",
     "text": [
      "[0.9621217287866892, 0.9585376483728556, 0.9550192735187115, 0.9536676041087618, 0.9550210119776011, 0.9532367195394531, 0.9550269645947684, 0.9541318420671109]\n"
     ]
    }
   ],
   "source": [
    "#https://scikit-learn.org/stable/modules/tree.html#classification\n",
    "from sklearn.tree import DecisionTreeClassifier\n",
    "warnings.filterwarnings(\"ignore\", category=ConvergenceWarning)\n",
    "\n",
    "\n",
    "numerical_features = ['Length', 'Delta']\n",
    "numerical_indices = [0,1]\n",
    "\n",
    "mean_sensitivity_val = []\n",
    "mean_sensitivity_train = []\n",
    "computation_time = []\n",
    "memory_usages = []\n",
    "\n",
    "for i in range(8):\n",
    "    sensitivity_val = []\n",
    "    sensitivity_train = []\n",
    "\n",
    "    kf = KFold(n_splits=5, random_state=1, shuffle=True)\n",
    "    starttime = time()\n",
    "\n",
    "    for train_index, val_index in kf.split(X_train):\n",
    "        X_train_kf, X_val = X_train[train_index], X_train[val_index]\n",
    "        y_train_kf, y_val = y_train[train_index], y_train[val_index]\n",
    "\n",
    "        X_train_num, X_val_num = X_train_kf[:, numerical_indices], X_val[:, numerical_indices]\n",
    "\n",
    "        poly_features = PolynomialFeatures(degree=i + 1, include_bias=False)\n",
    "        X_train_poly = poly_features.fit_transform(X_train_num)\n",
    "        X_val_poly = poly_features.transform(X_val_num)\n",
    "\n",
    "        X_train_poly_all = np.hstack((X_train_poly, X_train_kf))\n",
    "        X_val_poly_all = np.hstack((X_val_poly, X_val))\n",
    "\n",
    "        modelTree = Pipeline(steps=[\n",
    "            ('scaler', StandardScaler()),\n",
    "            ('decision_tree', DecisionTreeClassifier())\n",
    "        ])\n",
    "\n",
    "        modelTree.fit(X_train_poly_all, y_train_kf)\n",
    "\n",
    "        y_hatval = modelTree.predict(X_val_poly_all)\n",
    "        y_hattrain = modelTree.predict(X_train_poly_all)\n",
    "\n",
    "\n",
    "        conf_matrix_val = confusion_matrix(y_val, y_hatval)\n",
    "        conf_matrix_train = confusion_matrix(y_train_kf, y_hattrain)\n",
    "        sensitivity_val.append(conf_matrix_val[1, 1] / (conf_matrix_val[1, 0] + conf_matrix_val[1, 1]))\n",
    "        sensitivity_train.append(conf_matrix_train[1, 1] / (conf_matrix_train[1, 0] + conf_matrix_train[1, 1]))\n",
    "\n",
    "    pipeline_memory = asizeof.asizeof(modelTree)\n",
    "    memory_usages.append(pipeline_memory)\n",
    "    endtime = time() - starttime\n",
    "    computation_time.append(endtime)\n",
    "    mean_sensitivity_val.append(np.mean(sensitivity_val))\n",
    "    mean_sensitivity_train.append(np.mean(sensitivity_train))\n",
    "\n",
    "plt.plot(range(1, 9), mean_sensitivity_val, marker='+')\n",
    "plt.xlabel('Degree of Polynomial')\n",
    "plt.ylabel('Sensitivity')\n",
    "plt.title('Sensitivity for Different Polynomial Degrees')\n",
    "plt.show()\n",
    "print(mean_sensitivity_val)"
   ]
  },
  {
   "cell_type": "code",
   "execution_count": 117,
   "id": "10c178be",
   "metadata": {},
   "outputs": [
    {
     "name": "stdout",
     "output_type": "stream",
     "text": [
      "Sensitivity train :  99.82165061969354 %\n",
      "Sensitivity validation :  96.21217287866892 %\n",
      "Computation time degree 0 :  0.09368610382080078 s ,Memory used degree 0 :  4.1953125  KiloBytes\n",
      "Computation time degree 1 :  0.15134310722351074 s ,Memory used degree 1 :  4.265625  KiloBytes\n",
      "Computation time degree 2 :  0.1243898868560791 s ,Memory used degree 2 :  4.359375  KiloBytes\n",
      "Computation time degree 3 :  0.14471793174743652 s ,Memory used degree 3 :  4.4765625  KiloBytes\n",
      "Computation time degree 4 :  0.16052889823913574 s ,Memory used degree 4 :  4.6171875  KiloBytes\n",
      "Computation time degree 5 :  0.18996405601501465 s ,Memory used degree 5 :  4.78125  KiloBytes\n",
      "Computation time degree 6 :  0.2023169994354248 s ,Memory used degree 6 :  4.96875  KiloBytes\n",
      "Computation time degree 7 :  0.23607778549194336 s ,Memory used degree 7 :  5.1796875  KiloBytes\n"
     ]
    }
   ],
   "source": [
    "print(\"Sensitivity train : \",mean_sensitivity_train[0]*100,\"%\")\n",
    "print(\"Sensitivity validation : \",mean_sensitivity_val[0]*100,\"%\")\n",
    "for i in range(0,8):\n",
    "    print(\"Computation time degree\", i,\": \",computation_time[i],\"s\", \",Memory used degree\", i,\": \",memory_usages[i]/1024, \" KiloBytes\")"
   ]
  },
  {
   "cell_type": "markdown",
   "id": "b669f3c3",
   "metadata": {},
   "source": [
    "We can see that the sensitivity is worst than other model but the computation time is better for DecisionTree model as well as the memory usage."
   ]
  },
  {
   "cell_type": "markdown",
   "id": "a71e5f2b",
   "metadata": {},
   "source": [
    "### 3-5 Analyze"
   ]
  },
  {
   "cell_type": "markdown",
   "id": "069e6fcd",
   "metadata": {},
   "source": [
    "We will now be able to select our model for the prediction on the test set. The first model that we will not consider is KNN, as we can see the time computation is much higher than the other model for even lower degree. Also the sensitivity is not better. Between LDA, LogisticRegression and DecisionTree we can see that both LR and LDA methods give quite exactly the same performance that is higher than DecisionTree's one. We make the decision to chose LR as our model with a PolynomialFeature degree of 1 for numerical values. Since even LR has a bit less performance it indeed have a better computation time and a better memory usage. Finally we can also observe that there are no overfitting or underfitting for all the models (with the degree we selected as the best) since there are only little poucentages difference between train and validation sensitivity."
   ]
  },
  {
   "cell_type": "markdown",
   "id": "71f96336",
   "metadata": {},
   "source": [
    "## 4 - Predict the Testset"
   ]
  },
  {
   "cell_type": "markdown",
   "id": "157a27b5",
   "metadata": {},
   "source": [
    "We will now use the test set that we already previously prepared."
   ]
  },
  {
   "cell_type": "code",
   "execution_count": 118,
   "id": "61923c2a",
   "metadata": {},
   "outputs": [
    {
     "data": {
      "text/plain": [
       "(691, 27)"
      ]
     },
     "execution_count": 118,
     "metadata": {},
     "output_type": "execute_result"
    }
   ],
   "source": [
    "X_test.shape"
   ]
  },
  {
   "cell_type": "code",
   "execution_count": 119,
   "id": "e8b9d9aa",
   "metadata": {},
   "outputs": [
    {
     "data": {
      "text/plain": [
       "(6244, 27)"
      ]
     },
     "execution_count": 119,
     "metadata": {},
     "output_type": "execute_result"
    }
   ],
   "source": [
    "X_train.shape"
   ]
  },
  {
   "cell_type": "code",
   "execution_count": 120,
   "id": "9bc539ac",
   "metadata": {},
   "outputs": [],
   "source": [
    "X_test = X_test.values"
   ]
  },
  {
   "cell_type": "code",
   "execution_count": 121,
   "id": "0343a4b8",
   "metadata": {},
   "outputs": [
    {
     "data": {
      "text/plain": [
       "0.9799465240641712"
      ]
     },
     "execution_count": 121,
     "metadata": {},
     "output_type": "execute_result"
    }
   ],
   "source": [
    "numerical_indices = [0,1]\n",
    "X_train_num, X_test_num = X_train[:, numerical_indices], X_test[:, numerical_indices]\n",
    "poly_features = PolynomialFeatures(degree=1, include_bias=False)\n",
    "X_train_poly = poly_features.fit_transform(X_train_num)\n",
    "X_test_poly = poly_features.transform(X_test_num)\n",
    "\n",
    "X_train_poly_all = np.hstack((X_train_poly, X_train))\n",
    "X_test_poly_all = np.hstack((X_test_poly, X_test))\n",
    "\n",
    "modelLDA = Pipeline(steps=[\n",
    "    ('scaler', StandardScaler()),\n",
    "    ('lr', LogR())\n",
    "])\n",
    "\n",
    "modelLDA.fit(X_train_poly_all, y_train)\n",
    "\n",
    "y_test = modelLDA.predict(X_test_poly_all)\n",
    "y_hattrain = modelLDA.predict(X_train_poly_all)\n",
    "conf_matrix_train = confusion_matrix(y_train, y_hattrain)\n",
    "sensitivity = conf_matrix_train[1, 1] / (conf_matrix_train[1, 0] + conf_matrix_train[1, 1])\n",
    "sensitivity"
   ]
  },
  {
   "cell_type": "markdown",
   "id": "8519b344",
   "metadata": {},
   "source": [
    "We just checked if the sensitivity on the prediction of the train set is close to what we founded previously just ot make sure our prediction on the test set are as we expect."
   ]
  },
  {
   "cell_type": "code",
   "execution_count": 122,
   "id": "b008c9bd",
   "metadata": {},
   "outputs": [
    {
     "data": {
      "text/plain": [
       "array([1, 1, 1, 1, 1, 1, 1, 1, 1, 1, 1, 1, 1, 1, 1, 1, 1, 1, 1, 1, 1, 1,\n",
       "       1, 1, 1, 1, 1, 1, 1, 1, 1, 1, 1, 1, 1, 1, 1, 1, 1, 1, 1, 1, 1, 1,\n",
       "       1, 1, 1, 1, 1, 1, 1, 1, 1, 1, 1, 1, 1, 1, 1, 1, 1, 1, 1, 1, 1, 1,\n",
       "       1, 1, 1, 1, 1, 1, 1, 1, 1, 1, 1, 1, 1, 1, 1, 1, 1, 1, 1, 1, 1, 1,\n",
       "       1, 1, 1, 1, 1, 1, 1, 1, 1, 1, 1, 1, 1, 1, 1, 1, 1, 1, 1, 1, 1, 1,\n",
       "       1, 1, 1, 1, 1, 1, 1, 1, 1, 1, 1, 1, 1, 1, 1, 1, 1, 1, 1, 1, 1, 1,\n",
       "       1, 1, 1, 1, 1, 1, 1, 1, 1, 1, 1, 1, 1, 1, 1, 1, 1, 1, 1, 1, 1, 1,\n",
       "       1, 1, 1, 1, 1, 1, 1, 1, 1, 1, 1, 1, 1, 1, 1, 1, 1, 1, 1, 1, 1, 1,\n",
       "       1, 1, 1, 1, 1, 1, 1, 1, 1, 1, 1, 1, 1, 1, 1, 1, 1, 1, 1, 1, 1, 1,\n",
       "       1, 1, 1, 1, 1, 1, 1, 1, 1, 1, 1, 1, 1, 1, 1, 1, 1, 1, 1, 1, 1, 1,\n",
       "       1, 1, 1, 1, 1, 1, 1, 1, 1, 1, 1, 1, 1, 1, 1, 1, 1, 1, 1, 1, 1, 1,\n",
       "       1, 1, 1, 1, 1, 1, 1, 1, 1, 1, 1, 0, 0, 0, 0, 0, 0, 0, 0, 0, 0, 0,\n",
       "       0, 0, 0, 0, 0, 0, 0, 0, 0, 0, 0, 0, 0, 0, 0, 0, 0, 0, 0, 0, 0, 0,\n",
       "       0, 0, 0, 0, 0, 0, 0, 0, 0, 0, 0, 0, 0, 0, 0, 0, 0, 0, 0, 0, 0, 0,\n",
       "       0, 0, 0, 0, 0, 0, 0, 0, 0, 0, 0, 0, 0, 0, 0, 0, 0, 0, 0, 0, 0, 0,\n",
       "       0, 0, 0, 0, 0, 0, 0, 0, 0, 0, 0, 0, 0, 0, 0, 0, 0, 0, 0, 0, 0, 0,\n",
       "       0, 0, 0, 0, 0, 0, 0, 0, 0, 0, 0, 0, 0, 0, 0, 0, 0, 0, 0, 0, 0, 0,\n",
       "       0, 0, 0, 0, 0, 0, 0, 0, 0, 0, 0, 0, 0, 0, 0, 0, 0, 0, 0, 0, 0, 0,\n",
       "       0, 0, 0, 0, 0, 0, 0, 0, 0, 0, 0, 0, 0, 0, 0, 0, 0, 0, 0, 0, 0, 0,\n",
       "       0, 0, 0, 0, 0, 0, 0, 0, 0, 0, 0, 0, 0, 0, 0, 0, 0, 0, 0, 0, 0, 0,\n",
       "       0, 0, 0, 0, 0, 0, 0, 0, 0, 0, 0, 0, 0, 0, 0, 0, 0, 0, 0, 0, 0, 0,\n",
       "       0, 0, 0, 0, 0, 0, 0, 0, 0, 0, 0, 0, 0, 0, 0, 0, 0, 0, 0, 0, 0, 0,\n",
       "       0, 0, 0, 0, 0, 0, 0, 0, 0, 0, 0, 0, 0, 0, 0, 0, 0, 0, 0, 0, 0, 0,\n",
       "       0, 0, 0, 0, 0, 0, 0, 0, 0, 0, 0, 0, 0, 0, 0, 0, 0, 0, 0, 0, 0, 0,\n",
       "       0, 0, 0, 0, 0, 0, 0, 0, 0, 0, 0, 0, 0, 0, 0, 0, 0, 0, 0, 0, 0, 0,\n",
       "       0, 0, 0, 0, 0, 0, 0, 0, 0, 0, 0, 0, 0, 0, 0, 0, 0, 0, 0, 0, 0, 0,\n",
       "       0, 0, 0, 0, 1, 1, 1, 1, 1, 1, 1, 1, 1, 1, 1, 1, 0, 0, 0, 0, 0, 0,\n",
       "       0, 1, 1, 1, 1, 1, 1, 1, 1, 1, 1, 1, 1, 1, 1, 1, 1, 1, 1, 1, 1, 1,\n",
       "       1, 1, 0, 0, 0, 0, 0, 0, 0, 0, 0, 0, 0, 0, 0, 0, 0, 0, 0, 0, 0, 0,\n",
       "       0, 0, 0, 0, 0, 0, 0, 0, 0, 0, 0, 0, 0, 0, 0, 0, 0, 0, 0, 0, 0, 0,\n",
       "       0, 0, 0, 0, 0, 0, 0, 0, 0, 0, 0, 0, 0, 0, 0, 0, 0, 0, 0, 0, 0, 0,\n",
       "       0, 0, 0, 0, 1, 1, 1, 1, 1])"
      ]
     },
     "execution_count": 122,
     "metadata": {},
     "output_type": "execute_result"
    }
   ],
   "source": [
    "y_test"
   ]
  },
  {
   "cell_type": "markdown",
   "id": "9665ac15",
   "metadata": {},
   "source": [
    "Now we got our prediction of having an attack or not. We will just replace the zeros and ones by what they mean and put this result in a new csv file as the last column."
   ]
  },
  {
   "cell_type": "code",
   "execution_count": 123,
   "id": "cc6ba738",
   "metadata": {},
   "outputs": [],
   "source": [
    "predictions = ['normal' if pred == 0 else 'attack' for pred in y_test]\n",
    "datatest['Type'] = predictions"
   ]
  },
  {
   "cell_type": "code",
   "execution_count": 124,
   "id": "f3f660ef",
   "metadata": {},
   "outputs": [
    {
     "data": {
      "text/html": [
       "<div>\n",
       "<style scoped>\n",
       "    .dataframe tbody tr th:only-of-type {\n",
       "        vertical-align: middle;\n",
       "    }\n",
       "\n",
       "    .dataframe tbody tr th {\n",
       "        vertical-align: top;\n",
       "    }\n",
       "\n",
       "    .dataframe thead th {\n",
       "        text-align: right;\n",
       "    }\n",
       "</style>\n",
       "<table border=\"1\" class=\"dataframe\">\n",
       "  <thead>\n",
       "    <tr style=\"text-align: right;\">\n",
       "      <th></th>\n",
       "      <th>Length</th>\n",
       "      <th>Delta</th>\n",
       "      <th>Protocol_Baseband</th>\n",
       "      <th>Protocol_HCI_CMD</th>\n",
       "      <th>Protocol_HCI_EVT</th>\n",
       "      <th>Protocol_LMP</th>\n",
       "      <th>Protocol_OBEX</th>\n",
       "      <th>Protocol_RFCOMM</th>\n",
       "      <th>Info_FHS</th>\n",
       "      <th>Info_LMP_au_rand</th>\n",
       "      <th>...</th>\n",
       "      <th>Info_LMP_timing_accuracy_res</th>\n",
       "      <th>Info_LMP_version_req</th>\n",
       "      <th>Info_LMP_version_res</th>\n",
       "      <th>Info_Rcvd Command Complete (Link Key Request Negative Reply)</th>\n",
       "      <th>Info_Rcvd Link Key Request</th>\n",
       "      <th>Info_Rcvd Number of Completed Packets</th>\n",
       "      <th>Info_Rcvd OBEX fragment</th>\n",
       "      <th>Info_Sent Link Key Request Negative Reply</th>\n",
       "      <th>Info_Sent UIH Channel=12 UID</th>\n",
       "      <th>Type</th>\n",
       "    </tr>\n",
       "  </thead>\n",
       "  <tbody>\n",
       "    <tr>\n",
       "      <th>0</th>\n",
       "      <td>28</td>\n",
       "      <td>1.246406</td>\n",
       "      <td>1.0</td>\n",
       "      <td>0.0</td>\n",
       "      <td>0.0</td>\n",
       "      <td>0.0</td>\n",
       "      <td>0.0</td>\n",
       "      <td>0.0</td>\n",
       "      <td>1.0</td>\n",
       "      <td>0.0</td>\n",
       "      <td>...</td>\n",
       "      <td>0.0</td>\n",
       "      <td>0.0</td>\n",
       "      <td>0.0</td>\n",
       "      <td>0.0</td>\n",
       "      <td>0.0</td>\n",
       "      <td>0.0</td>\n",
       "      <td>0.0</td>\n",
       "      <td>0.0</td>\n",
       "      <td>0.0</td>\n",
       "      <td>attack</td>\n",
       "    </tr>\n",
       "    <tr>\n",
       "      <th>1</th>\n",
       "      <td>28</td>\n",
       "      <td>1.256744</td>\n",
       "      <td>1.0</td>\n",
       "      <td>0.0</td>\n",
       "      <td>0.0</td>\n",
       "      <td>0.0</td>\n",
       "      <td>0.0</td>\n",
       "      <td>0.0</td>\n",
       "      <td>1.0</td>\n",
       "      <td>0.0</td>\n",
       "      <td>...</td>\n",
       "      <td>0.0</td>\n",
       "      <td>0.0</td>\n",
       "      <td>0.0</td>\n",
       "      <td>0.0</td>\n",
       "      <td>0.0</td>\n",
       "      <td>0.0</td>\n",
       "      <td>0.0</td>\n",
       "      <td>0.0</td>\n",
       "      <td>0.0</td>\n",
       "      <td>attack</td>\n",
       "    </tr>\n",
       "    <tr>\n",
       "      <th>2</th>\n",
       "      <td>28</td>\n",
       "      <td>0.073231</td>\n",
       "      <td>1.0</td>\n",
       "      <td>0.0</td>\n",
       "      <td>0.0</td>\n",
       "      <td>0.0</td>\n",
       "      <td>0.0</td>\n",
       "      <td>0.0</td>\n",
       "      <td>1.0</td>\n",
       "      <td>0.0</td>\n",
       "      <td>...</td>\n",
       "      <td>0.0</td>\n",
       "      <td>0.0</td>\n",
       "      <td>0.0</td>\n",
       "      <td>0.0</td>\n",
       "      <td>0.0</td>\n",
       "      <td>0.0</td>\n",
       "      <td>0.0</td>\n",
       "      <td>0.0</td>\n",
       "      <td>0.0</td>\n",
       "      <td>attack</td>\n",
       "    </tr>\n",
       "    <tr>\n",
       "      <th>3</th>\n",
       "      <td>28</td>\n",
       "      <td>0.076976</td>\n",
       "      <td>1.0</td>\n",
       "      <td>0.0</td>\n",
       "      <td>0.0</td>\n",
       "      <td>0.0</td>\n",
       "      <td>0.0</td>\n",
       "      <td>0.0</td>\n",
       "      <td>1.0</td>\n",
       "      <td>0.0</td>\n",
       "      <td>...</td>\n",
       "      <td>0.0</td>\n",
       "      <td>0.0</td>\n",
       "      <td>0.0</td>\n",
       "      <td>0.0</td>\n",
       "      <td>0.0</td>\n",
       "      <td>0.0</td>\n",
       "      <td>0.0</td>\n",
       "      <td>0.0</td>\n",
       "      <td>0.0</td>\n",
       "      <td>attack</td>\n",
       "    </tr>\n",
       "    <tr>\n",
       "      <th>4</th>\n",
       "      <td>28</td>\n",
       "      <td>1.210525</td>\n",
       "      <td>1.0</td>\n",
       "      <td>0.0</td>\n",
       "      <td>0.0</td>\n",
       "      <td>0.0</td>\n",
       "      <td>0.0</td>\n",
       "      <td>0.0</td>\n",
       "      <td>1.0</td>\n",
       "      <td>0.0</td>\n",
       "      <td>...</td>\n",
       "      <td>0.0</td>\n",
       "      <td>0.0</td>\n",
       "      <td>0.0</td>\n",
       "      <td>0.0</td>\n",
       "      <td>0.0</td>\n",
       "      <td>0.0</td>\n",
       "      <td>0.0</td>\n",
       "      <td>0.0</td>\n",
       "      <td>0.0</td>\n",
       "      <td>attack</td>\n",
       "    </tr>\n",
       "    <tr>\n",
       "      <th>...</th>\n",
       "      <td>...</td>\n",
       "      <td>...</td>\n",
       "      <td>...</td>\n",
       "      <td>...</td>\n",
       "      <td>...</td>\n",
       "      <td>...</td>\n",
       "      <td>...</td>\n",
       "      <td>...</td>\n",
       "      <td>...</td>\n",
       "      <td>...</td>\n",
       "      <td>...</td>\n",
       "      <td>...</td>\n",
       "      <td>...</td>\n",
       "      <td>...</td>\n",
       "      <td>...</td>\n",
       "      <td>...</td>\n",
       "      <td>...</td>\n",
       "      <td>...</td>\n",
       "      <td>...</td>\n",
       "      <td>...</td>\n",
       "      <td>...</td>\n",
       "    </tr>\n",
       "    <tr>\n",
       "      <th>686</th>\n",
       "      <td>8</td>\n",
       "      <td>0.000478</td>\n",
       "      <td>0.0</td>\n",
       "      <td>1.0</td>\n",
       "      <td>0.0</td>\n",
       "      <td>0.0</td>\n",
       "      <td>0.0</td>\n",
       "      <td>0.0</td>\n",
       "      <td>0.0</td>\n",
       "      <td>0.0</td>\n",
       "      <td>...</td>\n",
       "      <td>0.0</td>\n",
       "      <td>0.0</td>\n",
       "      <td>0.0</td>\n",
       "      <td>0.0</td>\n",
       "      <td>0.0</td>\n",
       "      <td>0.0</td>\n",
       "      <td>0.0</td>\n",
       "      <td>0.0</td>\n",
       "      <td>0.0</td>\n",
       "      <td>attack</td>\n",
       "    </tr>\n",
       "    <tr>\n",
       "      <th>687</th>\n",
       "      <td>8</td>\n",
       "      <td>0.000460</td>\n",
       "      <td>0.0</td>\n",
       "      <td>1.0</td>\n",
       "      <td>0.0</td>\n",
       "      <td>0.0</td>\n",
       "      <td>0.0</td>\n",
       "      <td>0.0</td>\n",
       "      <td>0.0</td>\n",
       "      <td>0.0</td>\n",
       "      <td>...</td>\n",
       "      <td>0.0</td>\n",
       "      <td>0.0</td>\n",
       "      <td>0.0</td>\n",
       "      <td>0.0</td>\n",
       "      <td>0.0</td>\n",
       "      <td>0.0</td>\n",
       "      <td>0.0</td>\n",
       "      <td>0.0</td>\n",
       "      <td>0.0</td>\n",
       "      <td>attack</td>\n",
       "    </tr>\n",
       "    <tr>\n",
       "      <th>688</th>\n",
       "      <td>8</td>\n",
       "      <td>0.000490</td>\n",
       "      <td>0.0</td>\n",
       "      <td>1.0</td>\n",
       "      <td>0.0</td>\n",
       "      <td>0.0</td>\n",
       "      <td>0.0</td>\n",
       "      <td>0.0</td>\n",
       "      <td>0.0</td>\n",
       "      <td>0.0</td>\n",
       "      <td>...</td>\n",
       "      <td>0.0</td>\n",
       "      <td>0.0</td>\n",
       "      <td>0.0</td>\n",
       "      <td>0.0</td>\n",
       "      <td>0.0</td>\n",
       "      <td>0.0</td>\n",
       "      <td>0.0</td>\n",
       "      <td>0.0</td>\n",
       "      <td>0.0</td>\n",
       "      <td>attack</td>\n",
       "    </tr>\n",
       "    <tr>\n",
       "      <th>689</th>\n",
       "      <td>5</td>\n",
       "      <td>0.000000</td>\n",
       "      <td>0.0</td>\n",
       "      <td>1.0</td>\n",
       "      <td>0.0</td>\n",
       "      <td>0.0</td>\n",
       "      <td>0.0</td>\n",
       "      <td>0.0</td>\n",
       "      <td>0.0</td>\n",
       "      <td>0.0</td>\n",
       "      <td>...</td>\n",
       "      <td>0.0</td>\n",
       "      <td>0.0</td>\n",
       "      <td>0.0</td>\n",
       "      <td>0.0</td>\n",
       "      <td>0.0</td>\n",
       "      <td>0.0</td>\n",
       "      <td>0.0</td>\n",
       "      <td>0.0</td>\n",
       "      <td>0.0</td>\n",
       "      <td>attack</td>\n",
       "    </tr>\n",
       "    <tr>\n",
       "      <th>690</th>\n",
       "      <td>5</td>\n",
       "      <td>0.048534</td>\n",
       "      <td>0.0</td>\n",
       "      <td>1.0</td>\n",
       "      <td>0.0</td>\n",
       "      <td>0.0</td>\n",
       "      <td>0.0</td>\n",
       "      <td>0.0</td>\n",
       "      <td>0.0</td>\n",
       "      <td>0.0</td>\n",
       "      <td>...</td>\n",
       "      <td>0.0</td>\n",
       "      <td>0.0</td>\n",
       "      <td>0.0</td>\n",
       "      <td>0.0</td>\n",
       "      <td>0.0</td>\n",
       "      <td>0.0</td>\n",
       "      <td>0.0</td>\n",
       "      <td>0.0</td>\n",
       "      <td>0.0</td>\n",
       "      <td>attack</td>\n",
       "    </tr>\n",
       "  </tbody>\n",
       "</table>\n",
       "<p>691 rows × 28 columns</p>\n",
       "</div>"
      ],
      "text/plain": [
       "     Length     Delta  Protocol_Baseband  Protocol_HCI_CMD  Protocol_HCI_EVT  \\\n",
       "0        28  1.246406                1.0               0.0               0.0   \n",
       "1        28  1.256744                1.0               0.0               0.0   \n",
       "2        28  0.073231                1.0               0.0               0.0   \n",
       "3        28  0.076976                1.0               0.0               0.0   \n",
       "4        28  1.210525                1.0               0.0               0.0   \n",
       "..      ...       ...                ...               ...               ...   \n",
       "686       8  0.000478                0.0               1.0               0.0   \n",
       "687       8  0.000460                0.0               1.0               0.0   \n",
       "688       8  0.000490                0.0               1.0               0.0   \n",
       "689       5  0.000000                0.0               1.0               0.0   \n",
       "690       5  0.048534                0.0               1.0               0.0   \n",
       "\n",
       "     Protocol_LMP  Protocol_OBEX  Protocol_RFCOMM  Info_FHS  Info_LMP_au_rand  \\\n",
       "0             0.0            0.0              0.0       1.0               0.0   \n",
       "1             0.0            0.0              0.0       1.0               0.0   \n",
       "2             0.0            0.0              0.0       1.0               0.0   \n",
       "3             0.0            0.0              0.0       1.0               0.0   \n",
       "4             0.0            0.0              0.0       1.0               0.0   \n",
       "..            ...            ...              ...       ...               ...   \n",
       "686           0.0            0.0              0.0       0.0               0.0   \n",
       "687           0.0            0.0              0.0       0.0               0.0   \n",
       "688           0.0            0.0              0.0       0.0               0.0   \n",
       "689           0.0            0.0              0.0       0.0               0.0   \n",
       "690           0.0            0.0              0.0       0.0               0.0   \n",
       "\n",
       "     ...  Info_LMP_timing_accuracy_res  Info_LMP_version_req  \\\n",
       "0    ...                           0.0                   0.0   \n",
       "1    ...                           0.0                   0.0   \n",
       "2    ...                           0.0                   0.0   \n",
       "3    ...                           0.0                   0.0   \n",
       "4    ...                           0.0                   0.0   \n",
       "..   ...                           ...                   ...   \n",
       "686  ...                           0.0                   0.0   \n",
       "687  ...                           0.0                   0.0   \n",
       "688  ...                           0.0                   0.0   \n",
       "689  ...                           0.0                   0.0   \n",
       "690  ...                           0.0                   0.0   \n",
       "\n",
       "     Info_LMP_version_res  \\\n",
       "0                     0.0   \n",
       "1                     0.0   \n",
       "2                     0.0   \n",
       "3                     0.0   \n",
       "4                     0.0   \n",
       "..                    ...   \n",
       "686                   0.0   \n",
       "687                   0.0   \n",
       "688                   0.0   \n",
       "689                   0.0   \n",
       "690                   0.0   \n",
       "\n",
       "     Info_Rcvd Command Complete (Link Key Request Negative Reply)  \\\n",
       "0                                                  0.0              \n",
       "1                                                  0.0              \n",
       "2                                                  0.0              \n",
       "3                                                  0.0              \n",
       "4                                                  0.0              \n",
       "..                                                 ...              \n",
       "686                                                0.0              \n",
       "687                                                0.0              \n",
       "688                                                0.0              \n",
       "689                                                0.0              \n",
       "690                                                0.0              \n",
       "\n",
       "     Info_Rcvd Link Key Request  Info_Rcvd Number of Completed Packets  \\\n",
       "0                           0.0                                    0.0   \n",
       "1                           0.0                                    0.0   \n",
       "2                           0.0                                    0.0   \n",
       "3                           0.0                                    0.0   \n",
       "4                           0.0                                    0.0   \n",
       "..                          ...                                    ...   \n",
       "686                         0.0                                    0.0   \n",
       "687                         0.0                                    0.0   \n",
       "688                         0.0                                    0.0   \n",
       "689                         0.0                                    0.0   \n",
       "690                         0.0                                    0.0   \n",
       "\n",
       "     Info_Rcvd OBEX fragment  Info_Sent Link Key Request Negative Reply  \\\n",
       "0                        0.0                                        0.0   \n",
       "1                        0.0                                        0.0   \n",
       "2                        0.0                                        0.0   \n",
       "3                        0.0                                        0.0   \n",
       "4                        0.0                                        0.0   \n",
       "..                       ...                                        ...   \n",
       "686                      0.0                                        0.0   \n",
       "687                      0.0                                        0.0   \n",
       "688                      0.0                                        0.0   \n",
       "689                      0.0                                        0.0   \n",
       "690                      0.0                                        0.0   \n",
       "\n",
       "     Info_Sent UIH Channel=12 UID     Type  \n",
       "0                              0.0  attack  \n",
       "1                              0.0  attack  \n",
       "2                              0.0  attack  \n",
       "3                              0.0  attack  \n",
       "4                              0.0  attack  \n",
       "..                             ...     ...  \n",
       "686                            0.0  attack  \n",
       "687                            0.0  attack  \n",
       "688                            0.0  attack  \n",
       "689                            0.0  attack  \n",
       "690                            0.0  attack  \n",
       "\n",
       "[691 rows x 28 columns]"
      ]
     },
     "execution_count": 124,
     "metadata": {},
     "output_type": "execute_result"
    }
   ],
   "source": [
    "datatest"
   ]
  },
  {
   "cell_type": "markdown",
   "id": "a1e72bcc",
   "metadata": {},
   "source": [
    "We will add this new column to the datatest provided whitout the one hot encoding."
   ]
  },
  {
   "cell_type": "code",
   "execution_count": 125,
   "id": "59a9038d",
   "metadata": {},
   "outputs": [
    {
     "data": {
      "text/html": [
       "<div>\n",
       "<style scoped>\n",
       "    .dataframe tbody tr th:only-of-type {\n",
       "        vertical-align: middle;\n",
       "    }\n",
       "\n",
       "    .dataframe tbody tr th {\n",
       "        vertical-align: top;\n",
       "    }\n",
       "\n",
       "    .dataframe thead th {\n",
       "        text-align: right;\n",
       "    }\n",
       "</style>\n",
       "<table border=\"1\" class=\"dataframe\">\n",
       "  <thead>\n",
       "    <tr style=\"text-align: right;\">\n",
       "      <th></th>\n",
       "      <th>Protocol</th>\n",
       "      <th>Info</th>\n",
       "      <th>Length</th>\n",
       "      <th>Delta</th>\n",
       "      <th>Type</th>\n",
       "    </tr>\n",
       "  </thead>\n",
       "  <tbody>\n",
       "    <tr>\n",
       "      <th>0</th>\n",
       "      <td>Baseband</td>\n",
       "      <td>FHS</td>\n",
       "      <td>28</td>\n",
       "      <td>1.246406</td>\n",
       "      <td>attack</td>\n",
       "    </tr>\n",
       "    <tr>\n",
       "      <th>1</th>\n",
       "      <td>Baseband</td>\n",
       "      <td>FHS</td>\n",
       "      <td>28</td>\n",
       "      <td>1.256744</td>\n",
       "      <td>attack</td>\n",
       "    </tr>\n",
       "    <tr>\n",
       "      <th>2</th>\n",
       "      <td>Baseband</td>\n",
       "      <td>FHS</td>\n",
       "      <td>28</td>\n",
       "      <td>0.073231</td>\n",
       "      <td>attack</td>\n",
       "    </tr>\n",
       "    <tr>\n",
       "      <th>3</th>\n",
       "      <td>Baseband</td>\n",
       "      <td>FHS</td>\n",
       "      <td>28</td>\n",
       "      <td>0.076976</td>\n",
       "      <td>attack</td>\n",
       "    </tr>\n",
       "    <tr>\n",
       "      <th>4</th>\n",
       "      <td>Baseband</td>\n",
       "      <td>FHS</td>\n",
       "      <td>28</td>\n",
       "      <td>1.210525</td>\n",
       "      <td>attack</td>\n",
       "    </tr>\n",
       "    <tr>\n",
       "      <th>...</th>\n",
       "      <td>...</td>\n",
       "      <td>...</td>\n",
       "      <td>...</td>\n",
       "      <td>...</td>\n",
       "      <td>...</td>\n",
       "    </tr>\n",
       "    <tr>\n",
       "      <th>686</th>\n",
       "      <td>HCI_CMD</td>\n",
       "      <td>Sent Write Link Policy Settings</td>\n",
       "      <td>8</td>\n",
       "      <td>0.000478</td>\n",
       "      <td>attack</td>\n",
       "    </tr>\n",
       "    <tr>\n",
       "      <th>687</th>\n",
       "      <td>HCI_CMD</td>\n",
       "      <td>Sent Write Link Policy Settings</td>\n",
       "      <td>8</td>\n",
       "      <td>0.000460</td>\n",
       "      <td>attack</td>\n",
       "    </tr>\n",
       "    <tr>\n",
       "      <th>688</th>\n",
       "      <td>HCI_CMD</td>\n",
       "      <td>Sent Write Link Policy Settings</td>\n",
       "      <td>8</td>\n",
       "      <td>0.000490</td>\n",
       "      <td>attack</td>\n",
       "    </tr>\n",
       "    <tr>\n",
       "      <th>689</th>\n",
       "      <td>HCI_CMD</td>\n",
       "      <td>Sent Write Scan Enable</td>\n",
       "      <td>5</td>\n",
       "      <td>0.000000</td>\n",
       "      <td>attack</td>\n",
       "    </tr>\n",
       "    <tr>\n",
       "      <th>690</th>\n",
       "      <td>HCI_CMD</td>\n",
       "      <td>Sent Write Scan Enable</td>\n",
       "      <td>5</td>\n",
       "      <td>0.048534</td>\n",
       "      <td>attack</td>\n",
       "    </tr>\n",
       "  </tbody>\n",
       "</table>\n",
       "<p>691 rows × 5 columns</p>\n",
       "</div>"
      ],
      "text/plain": [
       "     Protocol                             Info  Length     Delta    Type\n",
       "0    Baseband                              FHS      28  1.246406  attack\n",
       "1    Baseband                              FHS      28  1.256744  attack\n",
       "2    Baseband                              FHS      28  0.073231  attack\n",
       "3    Baseband                              FHS      28  0.076976  attack\n",
       "4    Baseband                              FHS      28  1.210525  attack\n",
       "..        ...                              ...     ...       ...     ...\n",
       "686   HCI_CMD  Sent Write Link Policy Settings       8  0.000478  attack\n",
       "687   HCI_CMD  Sent Write Link Policy Settings       8  0.000460  attack\n",
       "688   HCI_CMD  Sent Write Link Policy Settings       8  0.000490  attack\n",
       "689   HCI_CMD           Sent Write Scan Enable       5  0.000000  attack\n",
       "690   HCI_CMD           Sent Write Scan Enable       5  0.048534  attack\n",
       "\n",
       "[691 rows x 5 columns]"
      ]
     },
     "execution_count": 125,
     "metadata": {},
     "output_type": "execute_result"
    }
   ],
   "source": [
    "datatest=pd.read_csv('X_test.csv')\n",
    "datatest['Type'] = predictions\n",
    "datatest"
   ]
  },
  {
   "cell_type": "code",
   "execution_count": 126,
   "id": "74f19f71",
   "metadata": {},
   "outputs": [
    {
     "data": {
      "text/plain": [
       "normal    398\n",
       "attack    293\n",
       "Name: Type, dtype: int64"
      ]
     },
     "execution_count": 126,
     "metadata": {},
     "output_type": "execute_result"
    }
   ],
   "source": [
    "datatest['Type'].value_counts()"
   ]
  },
  {
   "cell_type": "code",
   "execution_count": 127,
   "id": "83668fac",
   "metadata": {},
   "outputs": [
    {
     "data": {
      "image/png": "[encoded data removed]",
      "text/plain": [
       "<Figure size 500x500 with 1 Axes>"
      ]
     },
     "metadata": {},
     "output_type": "display_data"
    }
   ],
   "source": [
    "sns.displot(x = datatest['Type'])\n",
    "plt.show()"
   ]
  },
  {
   "cell_type": "markdown",
   "id": "8cddb875",
   "metadata": {},
   "source": [
    "Finally we create the csv file."
   ]
  },
  {
   "cell_type": "code",
   "execution_count": 130,
   "id": "a8d07ba8",
   "metadata": {},
   "outputs": [],
   "source": [
    "import os\n",
    "datatest.to_csv('y_pred.csv')"
   ]
  },
  {
   "cell_type": "markdown",
   "id": "acdd8650",
   "metadata": {},
   "source": [
    "We just verify it's the same as before."
   ]
  },
  {
   "cell_type": "code",
   "execution_count": 131,
   "id": "c0a805ab",
   "metadata": {},
   "outputs": [
    {
     "data": {
      "text/html": [
       "<div>\n",
       "<style scoped>\n",
       "    .dataframe tbody tr th:only-of-type {\n",
       "        vertical-align: middle;\n",
       "    }\n",
       "\n",
       "    .dataframe tbody tr th {\n",
       "        vertical-align: top;\n",
       "    }\n",
       "\n",
       "    .dataframe thead th {\n",
       "        text-align: right;\n",
       "    }\n",
       "</style>\n",
       "<table border=\"1\" class=\"dataframe\">\n",
       "  <thead>\n",
       "    <tr style=\"text-align: right;\">\n",
       "      <th></th>\n",
       "      <th>Unnamed: 0</th>\n",
       "      <th>Protocol</th>\n",
       "      <th>Info</th>\n",
       "      <th>Length</th>\n",
       "      <th>Delta</th>\n",
       "      <th>Type</th>\n",
       "    </tr>\n",
       "  </thead>\n",
       "  <tbody>\n",
       "    <tr>\n",
       "      <th>0</th>\n",
       "      <td>0</td>\n",
       "      <td>Baseband</td>\n",
       "      <td>FHS</td>\n",
       "      <td>28</td>\n",
       "      <td>1.246406</td>\n",
       "      <td>attack</td>\n",
       "    </tr>\n",
       "    <tr>\n",
       "      <th>1</th>\n",
       "      <td>1</td>\n",
       "      <td>Baseband</td>\n",
       "      <td>FHS</td>\n",
       "      <td>28</td>\n",
       "      <td>1.256744</td>\n",
       "      <td>attack</td>\n",
       "    </tr>\n",
       "    <tr>\n",
       "      <th>2</th>\n",
       "      <td>2</td>\n",
       "      <td>Baseband</td>\n",
       "      <td>FHS</td>\n",
       "      <td>28</td>\n",
       "      <td>0.073231</td>\n",
       "      <td>attack</td>\n",
       "    </tr>\n",
       "    <tr>\n",
       "      <th>3</th>\n",
       "      <td>3</td>\n",
       "      <td>Baseband</td>\n",
       "      <td>FHS</td>\n",
       "      <td>28</td>\n",
       "      <td>0.076976</td>\n",
       "      <td>attack</td>\n",
       "    </tr>\n",
       "    <tr>\n",
       "      <th>4</th>\n",
       "      <td>4</td>\n",
       "      <td>Baseband</td>\n",
       "      <td>FHS</td>\n",
       "      <td>28</td>\n",
       "      <td>1.210525</td>\n",
       "      <td>attack</td>\n",
       "    </tr>\n",
       "  </tbody>\n",
       "</table>\n",
       "</div>"
      ],
      "text/plain": [
       "   Unnamed: 0  Protocol Info  Length     Delta    Type\n",
       "0           0  Baseband  FHS      28  1.246406  attack\n",
       "1           1  Baseband  FHS      28  1.256744  attack\n",
       "2           2  Baseband  FHS      28  0.073231  attack\n",
       "3           3  Baseband  FHS      28  0.076976  attack\n",
       "4           4  Baseband  FHS      28  1.210525  attack"
      ]
     },
     "execution_count": 131,
     "metadata": {},
     "output_type": "execute_result"
    }
   ],
   "source": [
    "y_pred=pd.read_csv('y_pred.csv')\n",
    "y_pred.head()"
   ]
  },
  {
   "cell_type": "markdown",
   "id": "4b703ef9",
   "metadata": {},
   "source": [
    "## 5 - Conclusion"
   ]
  },
  {
   "cell_type": "markdown",
   "id": "2a46c1ed",
   "metadata": {},
   "source": [
    "To conclude throughout this project we worked on many steps of a Machine Learning problem. First from a dataset provided we managed to clean it and do data engineering in order to select only the relevant features for us. Then we went into a Model Selection phase where we tested different models to predict an attack or not based of some features. In addition for each model we selected the best parameters to maximize our prediction. We decided to compute the sensitivity of each model as a measure of performance since it's more important for us to detect all the attacks. Finally we selected the Logistic Regression model for which we were the most satisfied based on the performance, the time computation and the memory usage. With this model we then predicted on attack or not for the test set we got."
   ]
  }
 ],
 "metadata": {
  "kernelspec": {
   "display_name": "Python 3 (ipykernel)",
   "language": "python",
   "name": "python3"
  },
  "language_info": {
   "codemirror_mode": {
    "name": "ipython",
    "version": 3
   },
   "file_extension": ".py",
   "mimetype": "text/x-python",
   "name": "python",
   "nbconvert_exporter": "python",
   "pygments_lexer": "ipython3",
   "version": "3.9.13"
  }
 },
 "nbformat": 4,
 "nbformat_minor": 5
}
